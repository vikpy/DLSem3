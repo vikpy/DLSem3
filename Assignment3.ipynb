{
  "nbformat": 4,
  "nbformat_minor": 0,
  "metadata": {
    "colab": {
      "name": "Assignment3.ipynb",
      "provenance": [],
      "collapsed_sections": [],
      "authorship_tag": "ABX9TyNPj7+vciGi6UlxykuLrdMK",
      "include_colab_link": true
    },
    "kernelspec": {
      "name": "python3",
      "display_name": "Python 3"
    },
    "accelerator": "GPU"
  },
  "cells": [
    {
      "cell_type": "markdown",
      "metadata": {
        "id": "view-in-github",
        "colab_type": "text"
      },
      "source": [
        "<a href=\"https://colab.research.google.com/github/vikpy/DLSem3/blob/master/Assignment3.ipynb\" target=\"_parent\"><img src=\"https://colab.research.google.com/assets/colab-badge.svg\" alt=\"Open In Colab\"/></a>"
      ]
    },
    {
      "cell_type": "markdown",
      "metadata": {
        "id": "si3oXkm_kf1q",
        "colab_type": "text"
      },
      "source": [
        "# Q1. Which initialization is suitable for Monsoon dataset?"
      ]
    },
    {
      "cell_type": "code",
      "metadata": {
        "id": "0UklzBx9iJHk",
        "colab_type": "code",
        "colab": {
          "base_uri": "https://localhost:8080/",
          "height": 168
        },
        "outputId": "8bba7249-bfaf-4174-84ec-87cc78cb23a6"
      },
      "source": [
        "!pip install pyforest\n",
        "from pyforest import * "
      ],
      "execution_count": 6,
      "outputs": [
        {
          "output_type": "stream",
          "text": [
            "Collecting pyforest\n",
            "  Downloading https://files.pythonhosted.org/packages/8f/85/77a9d2d9ff240822039f3dfd7a3b374d0621a0df5feb5d270a2151f6bb6d/pyforest-1.0.3.tar.gz\n",
            "Building wheels for collected packages: pyforest\n",
            "  Building wheel for pyforest (setup.py) ... \u001b[?25l\u001b[?25hdone\n",
            "  Created wheel for pyforest: filename=pyforest-1.0.3-py2.py3-none-any.whl size=13715 sha256=a5c964f0f57178fe5b94451030cec84726d3693af3887a8339b41840d0d1fd82\n",
            "  Stored in directory: /root/.cache/pip/wheels/af/0b/39/340a7f15fc8d4ff5ab50847b28789afea04452a9d51b9721b5\n",
            "Successfully built pyforest\n",
            "Installing collected packages: pyforest\n",
            "Successfully installed pyforest-1.0.3\n"
          ],
          "name": "stdout"
        }
      ]
    },
    {
      "cell_type": "code",
      "metadata": {
        "id": "2gDvyVj6l9pp",
        "colab_type": "code",
        "colab": {
          "base_uri": "https://localhost:8080/",
          "height": 121
        },
        "outputId": "4b976617-64f1-49e0-bee3-5f822136c16d"
      },
      "source": [
        "from google.colab import drive\n",
        "drive.mount('/content/drive')"
      ],
      "execution_count": null,
      "outputs": [
        {
          "output_type": "stream",
          "text": [
            "Go to this URL in a browser: https://accounts.google.com/o/oauth2/auth?client_id=947318989803-6bn6qk8qdgf4n4g3pfee6491hc0brc4i.apps.googleusercontent.com&redirect_uri=urn%3aietf%3awg%3aoauth%3a2.0%3aoob&response_type=code&scope=email%20https%3a%2f%2fwww.googleapis.com%2fauth%2fdocs.test%20https%3a%2f%2fwww.googleapis.com%2fauth%2fdrive%20https%3a%2f%2fwww.googleapis.com%2fauth%2fdrive.photos.readonly%20https%3a%2f%2fwww.googleapis.com%2fauth%2fpeopleapi.readonly\n",
            "\n",
            "Enter your authorization code:\n",
            "··········\n",
            "Mounted at /content/drive\n"
          ],
          "name": "stdout"
        }
      ]
    },
    {
      "cell_type": "code",
      "metadata": {
        "id": "EHVRyzpIrAQI",
        "colab_type": "code",
        "colab": {}
      },
      "source": [
        "# To be done later on\n",
        "path_for_weather_data = '/content/drive/My Drive/dataset2'"
      ],
      "execution_count": null,
      "outputs": []
    },
    {
      "cell_type": "markdown",
      "metadata": {
        "colab_type": "text",
        "id": "alGopmfYP751"
      },
      "source": [
        "# Q2. Model for cifar10 which gives 70-75% val_acc. (hyper-parameters)"
      ]
    },
    {
      "cell_type": "code",
      "metadata": {
        "id": "iCQDe7rGko1P",
        "colab_type": "code",
        "colab": {
          "base_uri": "https://localhost:8080/",
          "height": 34
        },
        "outputId": "b0cf444d-03f9-4868-84c7-3d4e8a14d06c"
      },
      "source": [
        "import tensorflow as tf\n",
        "from keras import models \n",
        "from keras.layers import Dense \n",
        "from keras.utils import to_categorical\n",
        "from keras.datasets import cifar10\n",
        " "
      ],
      "execution_count": 1,
      "outputs": [
        {
          "output_type": "stream",
          "text": [
            "Using TensorFlow backend.\n"
          ],
          "name": "stderr"
        }
      ]
    },
    {
      "cell_type": "code",
      "metadata": {
        "id": "oMuEl8QYBYhL",
        "colab_type": "code",
        "colab": {
          "base_uri": "https://localhost:8080/",
          "height": 50
        },
        "outputId": "c083b52c-ecb7-4209-ac21-676f98628c1e"
      },
      "source": [
        "(X_train, y_train), (X_test, y_test) = cifar10.load_data()"
      ],
      "execution_count": 2,
      "outputs": [
        {
          "output_type": "stream",
          "text": [
            "Downloading data from https://www.cs.toronto.edu/~kriz/cifar-10-python.tar.gz\n",
            "170500096/170498071 [==============================] - 4s 0us/step\n"
          ],
          "name": "stdout"
        }
      ]
    },
    {
      "cell_type": "code",
      "metadata": {
        "id": "1SfaJlJqEHFW",
        "colab_type": "code",
        "colab": {
          "base_uri": "https://localhost:8080/",
          "height": 50
        },
        "outputId": "565054a7-b6d0-4212-ab21-880957dbe88d"
      },
      "source": [
        "X_train[1:2]"
      ],
      "execution_count": 36,
      "outputs": [
        {
          "output_type": "execute_result",
          "data": {
            "text/plain": [
              "array([[0.6039216 , 0.69411767, 0.73333335, ..., 0.56078434, 0.52156866,\n",
              "        0.5647059 ]], dtype=float32)"
            ]
          },
          "metadata": {
            "tags": []
          },
          "execution_count": 36
        }
      ]
    },
    {
      "cell_type": "code",
      "metadata": {
        "id": "r9rzlqORBd7Z",
        "colab_type": "code",
        "colab": {
          "base_uri": "https://localhost:8080/",
          "height": 283
        },
        "outputId": "02d0e748-68bf-4d0c-e635-b9f3bb09d2d7"
      },
      "source": [
        "plt.imshow(X_train[1])"
      ],
      "execution_count": 29,
      "outputs": [
        {
          "output_type": "execute_result",
          "data": {
            "text/plain": [
              "<matplotlib.image.AxesImage at 0x7f39b57f1978>"
            ]
          },
          "metadata": {
            "tags": []
          },
          "execution_count": 29
        },
        {
          "output_type": "display_data",
          "data": {
            "image/png": "[encoded data removed]",
            "text/plain": [
              "<Figure size 432x288 with 1 Axes>"
            ]
          },
          "metadata": {
            "tags": [],
            "needs_background": "light"
          }
        }
      ]
    },
    {
      "cell_type": "code",
      "metadata": {
        "id": "iIwfOMxsCxtw",
        "colab_type": "code",
        "colab": {
          "base_uri": "https://localhost:8080/",
          "height": 34
        },
        "outputId": "212e6561-4d02-4711-fd0f-df8999955ef2"
      },
      "source": [
        "X_train.shape , X_test.shape"
      ],
      "execution_count": 24,
      "outputs": [
        {
          "output_type": "execute_result",
          "data": {
            "text/plain": [
              "((50000, 32, 32, 3), (10000, 32, 32, 3))"
            ]
          },
          "metadata": {
            "tags": []
          },
          "execution_count": 24
        }
      ]
    },
    {
      "cell_type": "code",
      "metadata": {
        "id": "Y0sQdlQ6DQ1n",
        "colab_type": "code",
        "colab": {
          "base_uri": "https://localhost:8080/",
          "height": 34
        },
        "outputId": "f5ace23f-9d90-48b2-d1b7-69bc819c9bba"
      },
      "source": [
        "y_train.shape, y_test.shape"
      ],
      "execution_count": 28,
      "outputs": [
        {
          "output_type": "execute_result",
          "data": {
            "text/plain": [
              "((50000, 1), (10000, 1))"
            ]
          },
          "metadata": {
            "tags": []
          },
          "execution_count": 28
        }
      ]
    },
    {
      "cell_type": "code",
      "metadata": {
        "id": "RZs8C4qaD1Eq",
        "colab_type": "code",
        "colab": {
          "base_uri": "https://localhost:8080/",
          "height": 50
        },
        "outputId": "22924906-95b0-4b1f-d43a-2604f089f296"
      },
      "source": [
        "X_train = X_train.reshape((50000, 32*32*3))\n",
        "X_test = X_test.reshape((10000, 32*32*3))\n",
        "print(X_train.shape)\n",
        "print(X_test.shape)\n",
        "# Normalize \n",
        "X_train = X_train.astype('float32')/255\n",
        "X_test =  X_test.astype('float32')/255"
      ],
      "execution_count": 3,
      "outputs": [
        {
          "output_type": "stream",
          "text": [
            "(50000, 3072)\n",
            "(10000, 3072)\n"
          ],
          "name": "stdout"
        }
      ]
    },
    {
      "cell_type": "code",
      "metadata": {
        "id": "Q0xI8LHNEp0s",
        "colab_type": "code",
        "colab": {}
      },
      "source": [
        "# Cateogorical to one hot encoded \n",
        "y_test = to_categorical(y_test, 10)\n",
        "y_train = to_categorical(y_train, 10)"
      ],
      "execution_count": 8,
      "outputs": []
    },
    {
      "cell_type": "code",
      "metadata": {
        "id": "oqkKgh4QEstz",
        "colab_type": "code",
        "colab": {
          "base_uri": "https://localhost:8080/",
          "height": 134
        },
        "outputId": "e514ae88-0306-4238-ca9a-95c7333fb0e9"
      },
      "source": [
        "y_test"
      ],
      "execution_count": 39,
      "outputs": [
        {
          "output_type": "execute_result",
          "data": {
            "text/plain": [
              "array([[0., 0., 0., ..., 0., 0., 0.],\n",
              "       [0., 0., 0., ..., 0., 1., 0.],\n",
              "       [0., 0., 0., ..., 0., 1., 0.],\n",
              "       ...,\n",
              "       [0., 0., 0., ..., 0., 0., 0.],\n",
              "       [0., 1., 0., ..., 0., 0., 0.],\n",
              "       [0., 0., 0., ..., 1., 0., 0.]], dtype=float32)"
            ]
          },
          "metadata": {
            "tags": []
          },
          "execution_count": 39
        }
      ]
    },
    {
      "cell_type": "code",
      "metadata": {
        "id": "v1NqXGtrFGUM",
        "colab_type": "code",
        "colab": {
          "base_uri": "https://localhost:8080/",
          "height": 1000
        },
        "outputId": "0e9a9109-894c-4d49-ba17-dfd5b82c5aef"
      },
      "source": [
        "model = models.Sequential()\n",
        "model.add(Dense(units=200, activation='relu', input_dim=3072)  )  # kernel_initializer=\"zeros\", bias_initializer=\"zeros\", \n",
        "model.add(Dense(units=200, activation='relu') ) # kernel_initializer=\"zeros\", bias_initializer=\"zeros\", \n",
        "model.add(Dense(units=10, activation='softmax') )   # kernel_initializer=\"zeros\", bias_initializer=\"zeros\", \n",
        "model.compile(loss=\"categorical_crossentropy\", optimizer='sgd', metrics=['accuracy'])\n",
        "model.fit(X_train,y_train, epochs=100, batch_size = 32, validation_split=0.2)"
      ],
      "execution_count": 10,
      "outputs": [
        {
          "output_type": "stream",
          "text": [
            "Train on 40000 samples, validate on 10000 samples\n",
            "Epoch 1/100\n",
            "40000/40000 [==============================] - 4s 97us/step - loss: 1.9081 - accuracy: 0.3181 - val_loss: 1.8001 - val_accuracy: 0.3570\n",
            "Epoch 2/100\n",
            "40000/40000 [==============================] - 4s 95us/step - loss: 1.7277 - accuracy: 0.3863 - val_loss: 1.6997 - val_accuracy: 0.3989\n",
            "Epoch 3/100\n",
            "40000/40000 [==============================] - 4s 95us/step - loss: 1.6489 - accuracy: 0.4156 - val_loss: 1.6603 - val_accuracy: 0.4097\n",
            "Epoch 4/100\n",
            "40000/40000 [==============================] - 4s 95us/step - loss: 1.5989 - accuracy: 0.4340 - val_loss: 1.6308 - val_accuracy: 0.4229\n",
            "Epoch 5/100\n",
            "40000/40000 [==============================] - 4s 95us/step - loss: 1.5565 - accuracy: 0.4484 - val_loss: 1.5872 - val_accuracy: 0.4469\n",
            "Epoch 6/100\n",
            "40000/40000 [==============================] - 4s 95us/step - loss: 1.5199 - accuracy: 0.4614 - val_loss: 1.5540 - val_accuracy: 0.4468\n",
            "Epoch 7/100\n",
            "40000/40000 [==============================] - 4s 95us/step - loss: 1.4905 - accuracy: 0.4706 - val_loss: 1.5590 - val_accuracy: 0.4474\n",
            "Epoch 8/100\n",
            "40000/40000 [==============================] - 4s 94us/step - loss: 1.4611 - accuracy: 0.4816 - val_loss: 1.5233 - val_accuracy: 0.4606\n",
            "Epoch 9/100\n",
            "40000/40000 [==============================] - 4s 94us/step - loss: 1.4343 - accuracy: 0.4927 - val_loss: 1.5066 - val_accuracy: 0.4668\n",
            "Epoch 10/100\n",
            "40000/40000 [==============================] - 4s 95us/step - loss: 1.4119 - accuracy: 0.4999 - val_loss: 1.5076 - val_accuracy: 0.4643\n",
            "Epoch 11/100\n",
            "40000/40000 [==============================] - 4s 96us/step - loss: 1.3879 - accuracy: 0.5076 - val_loss: 1.4654 - val_accuracy: 0.4867\n",
            "Epoch 12/100\n",
            "40000/40000 [==============================] - 4s 95us/step - loss: 1.3675 - accuracy: 0.5168 - val_loss: 1.4653 - val_accuracy: 0.4793\n",
            "Epoch 13/100\n",
            "40000/40000 [==============================] - 4s 96us/step - loss: 1.3489 - accuracy: 0.5239 - val_loss: 1.5124 - val_accuracy: 0.4723\n",
            "Epoch 14/100\n",
            "40000/40000 [==============================] - 4s 95us/step - loss: 1.3280 - accuracy: 0.5314 - val_loss: 1.4577 - val_accuracy: 0.4914\n",
            "Epoch 15/100\n",
            "40000/40000 [==============================] - 4s 96us/step - loss: 1.3111 - accuracy: 0.5357 - val_loss: 1.4769 - val_accuracy: 0.4813\n",
            "Epoch 16/100\n",
            "40000/40000 [==============================] - 4s 96us/step - loss: 1.2942 - accuracy: 0.5426 - val_loss: 1.4639 - val_accuracy: 0.4849\n",
            "Epoch 17/100\n",
            "40000/40000 [==============================] - 4s 97us/step - loss: 1.2784 - accuracy: 0.5453 - val_loss: 1.4295 - val_accuracy: 0.5015\n",
            "Epoch 18/100\n",
            "40000/40000 [==============================] - 4s 97us/step - loss: 1.2608 - accuracy: 0.5530 - val_loss: 1.4461 - val_accuracy: 0.4923\n",
            "Epoch 19/100\n",
            "40000/40000 [==============================] - 4s 96us/step - loss: 1.2456 - accuracy: 0.5617 - val_loss: 1.4362 - val_accuracy: 0.4992\n",
            "Epoch 20/100\n",
            "40000/40000 [==============================] - 4s 96us/step - loss: 1.2305 - accuracy: 0.5638 - val_loss: 1.4926 - val_accuracy: 0.4911\n",
            "Epoch 21/100\n",
            "40000/40000 [==============================] - 4s 95us/step - loss: 1.2142 - accuracy: 0.5717 - val_loss: 1.4334 - val_accuracy: 0.5000\n",
            "Epoch 22/100\n",
            "40000/40000 [==============================] - 4s 95us/step - loss: 1.2019 - accuracy: 0.5743 - val_loss: 1.4315 - val_accuracy: 0.5004\n",
            "Epoch 23/100\n",
            "40000/40000 [==============================] - 4s 95us/step - loss: 1.1894 - accuracy: 0.5807 - val_loss: 1.3839 - val_accuracy: 0.5186\n",
            "Epoch 24/100\n",
            "40000/40000 [==============================] - 4s 96us/step - loss: 1.1714 - accuracy: 0.5873 - val_loss: 1.4288 - val_accuracy: 0.5044\n",
            "Epoch 25/100\n",
            "40000/40000 [==============================] - 4s 95us/step - loss: 1.1603 - accuracy: 0.5891 - val_loss: 1.4044 - val_accuracy: 0.5191\n",
            "Epoch 26/100\n",
            "40000/40000 [==============================] - 4s 97us/step - loss: 1.1457 - accuracy: 0.5973 - val_loss: 1.3773 - val_accuracy: 0.5235\n",
            "Epoch 27/100\n",
            "40000/40000 [==============================] - 4s 98us/step - loss: 1.1316 - accuracy: 0.6004 - val_loss: 1.4094 - val_accuracy: 0.5056\n",
            "Epoch 28/100\n",
            "40000/40000 [==============================] - 4s 105us/step - loss: 1.1200 - accuracy: 0.6035 - val_loss: 1.4030 - val_accuracy: 0.5197\n",
            "Epoch 29/100\n",
            "40000/40000 [==============================] - 4s 104us/step - loss: 1.1083 - accuracy: 0.6105 - val_loss: 1.4088 - val_accuracy: 0.5179\n",
            "Epoch 30/100\n",
            "40000/40000 [==============================] - 4s 98us/step - loss: 1.0944 - accuracy: 0.6153 - val_loss: 1.3817 - val_accuracy: 0.5218\n",
            "Epoch 31/100\n",
            "40000/40000 [==============================] - 4s 96us/step - loss: 1.0822 - accuracy: 0.6188 - val_loss: 1.4184 - val_accuracy: 0.5144\n",
            "Epoch 32/100\n",
            "40000/40000 [==============================] - 4s 96us/step - loss: 1.0692 - accuracy: 0.6259 - val_loss: 1.3951 - val_accuracy: 0.5152\n",
            "Epoch 33/100\n",
            "40000/40000 [==============================] - 4s 95us/step - loss: 1.0565 - accuracy: 0.6281 - val_loss: 1.3902 - val_accuracy: 0.5226\n",
            "Epoch 34/100\n",
            "40000/40000 [==============================] - 4s 96us/step - loss: 1.0423 - accuracy: 0.6349 - val_loss: 1.3822 - val_accuracy: 0.5288\n",
            "Epoch 35/100\n",
            "40000/40000 [==============================] - 4s 94us/step - loss: 1.0288 - accuracy: 0.6387 - val_loss: 1.3839 - val_accuracy: 0.5259\n",
            "Epoch 36/100\n",
            "40000/40000 [==============================] - 4s 95us/step - loss: 1.0201 - accuracy: 0.6401 - val_loss: 1.4245 - val_accuracy: 0.5083\n",
            "Epoch 37/100\n",
            "40000/40000 [==============================] - 4s 97us/step - loss: 1.0079 - accuracy: 0.6444 - val_loss: 1.4160 - val_accuracy: 0.5122\n",
            "Epoch 38/100\n",
            "40000/40000 [==============================] - 4s 97us/step - loss: 0.9927 - accuracy: 0.6528 - val_loss: 1.4009 - val_accuracy: 0.5206\n",
            "Epoch 39/100\n",
            "40000/40000 [==============================] - 4s 97us/step - loss: 0.9829 - accuracy: 0.6543 - val_loss: 1.4205 - val_accuracy: 0.5228\n",
            "Epoch 40/100\n",
            "40000/40000 [==============================] - 4s 96us/step - loss: 0.9721 - accuracy: 0.6572 - val_loss: 1.4954 - val_accuracy: 0.5026\n",
            "Epoch 41/100\n",
            "40000/40000 [==============================] - 4s 96us/step - loss: 0.9595 - accuracy: 0.6610 - val_loss: 1.4537 - val_accuracy: 0.5135\n",
            "Epoch 42/100\n",
            "40000/40000 [==============================] - 4s 97us/step - loss: 0.9467 - accuracy: 0.6655 - val_loss: 1.4154 - val_accuracy: 0.5234\n",
            "Epoch 43/100\n",
            "40000/40000 [==============================] - 4s 96us/step - loss: 0.9350 - accuracy: 0.6701 - val_loss: 1.4383 - val_accuracy: 0.5175\n",
            "Epoch 44/100\n",
            "40000/40000 [==============================] - 4s 95us/step - loss: 0.9249 - accuracy: 0.6730 - val_loss: 1.5235 - val_accuracy: 0.5085\n",
            "Epoch 45/100\n",
            "40000/40000 [==============================] - 4s 96us/step - loss: 0.9122 - accuracy: 0.6814 - val_loss: 1.4507 - val_accuracy: 0.5214\n",
            "Epoch 46/100\n",
            "40000/40000 [==============================] - 4s 96us/step - loss: 0.9029 - accuracy: 0.6821 - val_loss: 1.4542 - val_accuracy: 0.5179\n",
            "Epoch 47/100\n",
            "40000/40000 [==============================] - 4s 95us/step - loss: 0.8915 - accuracy: 0.6881 - val_loss: 1.4584 - val_accuracy: 0.5239\n",
            "Epoch 48/100\n",
            "40000/40000 [==============================] - 4s 96us/step - loss: 0.8814 - accuracy: 0.6895 - val_loss: 1.4665 - val_accuracy: 0.5229\n",
            "Epoch 49/100\n",
            "40000/40000 [==============================] - 4s 95us/step - loss: 0.8686 - accuracy: 0.6981 - val_loss: 1.4505 - val_accuracy: 0.5275\n",
            "Epoch 50/100\n",
            "40000/40000 [==============================] - 4s 96us/step - loss: 0.8577 - accuracy: 0.6971 - val_loss: 1.5699 - val_accuracy: 0.4929\n",
            "Epoch 51/100\n",
            "40000/40000 [==============================] - 4s 100us/step - loss: 0.8482 - accuracy: 0.7017 - val_loss: 1.4745 - val_accuracy: 0.5210\n",
            "Epoch 52/100\n",
            "40000/40000 [==============================] - 4s 95us/step - loss: 0.8372 - accuracy: 0.7074 - val_loss: 1.5538 - val_accuracy: 0.5111\n",
            "Epoch 53/100\n",
            "40000/40000 [==============================] - 4s 95us/step - loss: 0.8250 - accuracy: 0.7106 - val_loss: 1.5296 - val_accuracy: 0.5136\n",
            "Epoch 54/100\n",
            "40000/40000 [==============================] - 4s 95us/step - loss: 0.8153 - accuracy: 0.7151 - val_loss: 1.4955 - val_accuracy: 0.5283\n",
            "Epoch 55/100\n",
            "40000/40000 [==============================] - 4s 95us/step - loss: 0.8072 - accuracy: 0.7158 - val_loss: 1.5371 - val_accuracy: 0.5135\n",
            "Epoch 56/100\n",
            "40000/40000 [==============================] - 4s 96us/step - loss: 0.7929 - accuracy: 0.7222 - val_loss: 1.4775 - val_accuracy: 0.5278\n",
            "Epoch 57/100\n",
            "40000/40000 [==============================] - 4s 97us/step - loss: 0.7873 - accuracy: 0.7219 - val_loss: 1.5628 - val_accuracy: 0.5132\n",
            "Epoch 58/100\n",
            "40000/40000 [==============================] - 4s 97us/step - loss: 0.7746 - accuracy: 0.7289 - val_loss: 1.5054 - val_accuracy: 0.5213\n",
            "Epoch 59/100\n",
            "40000/40000 [==============================] - 4s 98us/step - loss: 0.7645 - accuracy: 0.7317 - val_loss: 1.5114 - val_accuracy: 0.5323\n",
            "Epoch 60/100\n",
            "40000/40000 [==============================] - 4s 97us/step - loss: 0.7485 - accuracy: 0.7378 - val_loss: 1.5275 - val_accuracy: 0.5224\n",
            "Epoch 61/100\n",
            "40000/40000 [==============================] - 4s 96us/step - loss: 0.7432 - accuracy: 0.7405 - val_loss: 1.6183 - val_accuracy: 0.5145\n",
            "Epoch 62/100\n",
            "40000/40000 [==============================] - 4s 95us/step - loss: 0.7322 - accuracy: 0.7443 - val_loss: 1.5609 - val_accuracy: 0.5193\n",
            "Epoch 63/100\n",
            "40000/40000 [==============================] - 4s 96us/step - loss: 0.7244 - accuracy: 0.7471 - val_loss: 1.5809 - val_accuracy: 0.5183\n",
            "Epoch 64/100\n",
            "40000/40000 [==============================] - 4s 96us/step - loss: 0.7143 - accuracy: 0.7489 - val_loss: 1.5668 - val_accuracy: 0.5286\n",
            "Epoch 65/100\n",
            "40000/40000 [==============================] - 4s 95us/step - loss: 0.7050 - accuracy: 0.7516 - val_loss: 1.5875 - val_accuracy: 0.5194\n",
            "Epoch 66/100\n",
            "40000/40000 [==============================] - 4s 95us/step - loss: 0.6920 - accuracy: 0.7609 - val_loss: 1.6186 - val_accuracy: 0.5163\n",
            "Epoch 67/100\n",
            "40000/40000 [==============================] - 4s 96us/step - loss: 0.6848 - accuracy: 0.7591 - val_loss: 1.6436 - val_accuracy: 0.5115\n",
            "Epoch 68/100\n",
            "40000/40000 [==============================] - 4s 96us/step - loss: 0.6739 - accuracy: 0.7643 - val_loss: 1.6258 - val_accuracy: 0.5212\n",
            "Epoch 69/100\n",
            "40000/40000 [==============================] - 4s 95us/step - loss: 0.6646 - accuracy: 0.7699 - val_loss: 1.6611 - val_accuracy: 0.5161\n",
            "Epoch 70/100\n",
            "40000/40000 [==============================] - 4s 95us/step - loss: 0.6516 - accuracy: 0.7704 - val_loss: 1.6648 - val_accuracy: 0.5221\n",
            "Epoch 71/100\n",
            "40000/40000 [==============================] - 4s 96us/step - loss: 0.6469 - accuracy: 0.7741 - val_loss: 1.6315 - val_accuracy: 0.5243\n",
            "Epoch 72/100\n",
            "40000/40000 [==============================] - 4s 97us/step - loss: 0.6353 - accuracy: 0.7801 - val_loss: 1.6652 - val_accuracy: 0.5254\n",
            "Epoch 73/100\n",
            "40000/40000 [==============================] - 4s 97us/step - loss: 0.6280 - accuracy: 0.7804 - val_loss: 1.6727 - val_accuracy: 0.5131\n",
            "Epoch 74/100\n",
            "40000/40000 [==============================] - 4s 95us/step - loss: 0.6168 - accuracy: 0.7837 - val_loss: 1.7399 - val_accuracy: 0.5049\n",
            "Epoch 75/100\n",
            "40000/40000 [==============================] - 4s 97us/step - loss: 0.6055 - accuracy: 0.7886 - val_loss: 1.7086 - val_accuracy: 0.5050\n",
            "Epoch 76/100\n",
            "40000/40000 [==============================] - 4s 97us/step - loss: 0.5980 - accuracy: 0.7912 - val_loss: 1.8194 - val_accuracy: 0.4997\n",
            "Epoch 77/100\n",
            "40000/40000 [==============================] - 4s 97us/step - loss: 0.5903 - accuracy: 0.7928 - val_loss: 1.7131 - val_accuracy: 0.5255\n",
            "Epoch 78/100\n",
            "40000/40000 [==============================] - 4s 97us/step - loss: 0.5812 - accuracy: 0.7992 - val_loss: 1.7582 - val_accuracy: 0.5027\n",
            "Epoch 79/100\n",
            "40000/40000 [==============================] - 4s 97us/step - loss: 0.5743 - accuracy: 0.7993 - val_loss: 1.7452 - val_accuracy: 0.5228\n",
            "Epoch 80/100\n",
            "40000/40000 [==============================] - 4s 98us/step - loss: 0.5624 - accuracy: 0.8038 - val_loss: 1.7545 - val_accuracy: 0.5218\n",
            "Epoch 81/100\n",
            "40000/40000 [==============================] - 4s 96us/step - loss: 0.5581 - accuracy: 0.8061 - val_loss: 1.7557 - val_accuracy: 0.5181\n",
            "Epoch 82/100\n",
            "40000/40000 [==============================] - 4s 96us/step - loss: 0.5497 - accuracy: 0.8096 - val_loss: 1.7660 - val_accuracy: 0.5149\n",
            "Epoch 83/100\n",
            "40000/40000 [==============================] - 4s 96us/step - loss: 0.5368 - accuracy: 0.8101 - val_loss: 1.8435 - val_accuracy: 0.5188\n",
            "Epoch 84/100\n",
            "40000/40000 [==============================] - 4s 97us/step - loss: 0.5321 - accuracy: 0.8151 - val_loss: 1.8142 - val_accuracy: 0.5177\n",
            "Epoch 85/100\n",
            "40000/40000 [==============================] - 4s 96us/step - loss: 0.5181 - accuracy: 0.8185 - val_loss: 1.8322 - val_accuracy: 0.5040\n",
            "Epoch 86/100\n",
            "40000/40000 [==============================] - 4s 97us/step - loss: 0.5156 - accuracy: 0.8215 - val_loss: 1.8714 - val_accuracy: 0.5102\n",
            "Epoch 87/100\n",
            "40000/40000 [==============================] - 4s 96us/step - loss: 0.5044 - accuracy: 0.8243 - val_loss: 1.8508 - val_accuracy: 0.5103\n",
            "Epoch 88/100\n",
            "40000/40000 [==============================] - 4s 97us/step - loss: 0.4945 - accuracy: 0.8290 - val_loss: 1.8873 - val_accuracy: 0.5082\n",
            "Epoch 89/100\n",
            "40000/40000 [==============================] - 4s 97us/step - loss: 0.4845 - accuracy: 0.8311 - val_loss: 1.8930 - val_accuracy: 0.5215\n",
            "Epoch 90/100\n",
            "40000/40000 [==============================] - 4s 96us/step - loss: 0.4795 - accuracy: 0.8321 - val_loss: 1.9209 - val_accuracy: 0.5136\n",
            "Epoch 91/100\n",
            "40000/40000 [==============================] - 4s 97us/step - loss: 0.4744 - accuracy: 0.8352 - val_loss: 2.0534 - val_accuracy: 0.4954\n",
            "Epoch 92/100\n",
            "40000/40000 [==============================] - 4s 97us/step - loss: 0.4639 - accuracy: 0.8386 - val_loss: 1.9605 - val_accuracy: 0.5156\n",
            "Epoch 93/100\n",
            "40000/40000 [==============================] - 4s 96us/step - loss: 0.4625 - accuracy: 0.8392 - val_loss: 1.9143 - val_accuracy: 0.5188\n",
            "Epoch 94/100\n",
            "40000/40000 [==============================] - 4s 97us/step - loss: 0.4486 - accuracy: 0.8454 - val_loss: 1.9768 - val_accuracy: 0.5120\n",
            "Epoch 95/100\n",
            "40000/40000 [==============================] - 4s 96us/step - loss: 0.4396 - accuracy: 0.8473 - val_loss: 1.9602 - val_accuracy: 0.5196\n",
            "Epoch 96/100\n",
            "40000/40000 [==============================] - 4s 96us/step - loss: 0.4353 - accuracy: 0.8486 - val_loss: 2.1285 - val_accuracy: 0.4986\n",
            "Epoch 97/100\n",
            "40000/40000 [==============================] - 4s 96us/step - loss: 0.4243 - accuracy: 0.8531 - val_loss: 2.0160 - val_accuracy: 0.5132\n",
            "Epoch 98/100\n",
            "40000/40000 [==============================] - 4s 95us/step - loss: 0.4247 - accuracy: 0.8535 - val_loss: 1.9883 - val_accuracy: 0.5177\n",
            "Epoch 99/100\n",
            "40000/40000 [==============================] - 4s 96us/step - loss: 0.4163 - accuracy: 0.8567 - val_loss: 2.0462 - val_accuracy: 0.5147\n",
            "Epoch 100/100\n",
            "40000/40000 [==============================] - 4s 97us/step - loss: 0.4082 - accuracy: 0.8594 - val_loss: 2.0784 - val_accuracy: 0.5085\n"
          ],
          "name": "stdout"
        },
        {
          "output_type": "execute_result",
          "data": {
            "text/plain": [
              "<keras.callbacks.callbacks.History at 0x7f893a1105c0>"
            ]
          },
          "metadata": {
            "tags": []
          },
          "execution_count": 10
        }
      ]
    },
    {
      "cell_type": "code",
      "metadata": {
        "id": "mBtAYbIuOFLP",
        "colab_type": "code",
        "colab": {
          "base_uri": "https://localhost:8080/",
          "height": 295
        },
        "outputId": "d1ca7a60-e627-4fd5-fd74-a2cf0eb6e431"
      },
      "source": [
        "import matplotlib.pyplot as plt\n",
        "plt.plot(model.history.history[\"accuracy\"])\n",
        "plt.plot(model.history.history[\"val_accuracy\"])\n",
        "plt.title(\"Model Accuracy\")\n",
        "plt.ylabel(\"Accuracy\")\n",
        "plt.xlabel(\"Epochs\")\n",
        "plt.legend([\"Train\", \"Validation\"], loc=\"best\")\n",
        "plt.show()"
      ],
      "execution_count": 11,
      "outputs": [
        {
          "output_type": "display_data",
          "data": {
            "image/png": "[encoded data removed]",
            "text/plain": [
              "<Figure size 432x288 with 1 Axes>"
            ]
          },
          "metadata": {
            "tags": [],
            "needs_background": "light"
          }
        }
      ]
    }
  ]
}