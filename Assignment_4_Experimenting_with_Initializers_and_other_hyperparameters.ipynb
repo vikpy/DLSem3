{
  "nbformat": 4,
  "nbformat_minor": 0,
  "metadata": {
    "colab": {
      "name": "Assignment 4 Experimenting with Initializers and other hyperparameters.ipynb",
      "provenance": [],
      "collapsed_sections": [],
      "authorship_tag": "ABX9TyMAljPPD6LzJ6UKhDKgoNUk",
      "include_colab_link": true
    },
    "kernelspec": {
      "name": "python3",
      "display_name": "Python 3"
    }
  },
  "cells": [
    {
      "cell_type": "markdown",
      "metadata": {
        "id": "view-in-github",
        "colab_type": "text"
      },
      "source": [
        "<a href=\"https://colab.research.google.com/github/vikpy/DLSem3/blob/master/Assignment_4_Experimenting_with_Initializers_and_other_hyperparameters.ipynb\" target=\"_parent\"><img src=\"https://colab.research.google.com/assets/colab-badge.svg\" alt=\"Open In Colab\"/></a>"
      ]
    },
    {
      "cell_type": "markdown",
      "metadata": {
        "id": "xY00vdPzMV8R",
        "colab_type": "text"
      },
      "source": [
        "# Build model for CIFAR100, MNIST, Fashion MNIST (test data - accuracy of +80%) - plot metrics accuracy, sparse_cat_acc, top_k, categorical_acc, sparse_topk\n",
        "\n",
        "#Use activation as layers in the model EarlyStopping and ModelCheckPoint\n"
      ]
    },
    {
      "cell_type": "code",
      "metadata": {
        "id": "-FfXEj66h8lF",
        "colab_type": "code",
        "colab": {}
      },
      "source": [
        "import keras\n",
        "from keras.datasets import cifar100, fashion_mnist, mnist\n",
        "from keras.models import Sequential                         \n",
        "from keras.layers import Dense, Dropout, Activation, Flatten\n",
        "from keras.utils import to_categorical\n",
        "from keras.callbacks import ModelCheckpoint, EarlyStopping"
      ],
      "execution_count": 50,
      "outputs": []
    },
    {
      "cell_type": "code",
      "metadata": {
        "id": "Omh1enGaDDW_",
        "colab_type": "code",
        "colab": {}
      },
      "source": [
        "def scale_and_reshape(X_train, X_test, y_train, y_test, number_of_categorical_values=10):\n",
        "  \n",
        "  if len(X_train.shape) == 4:\n",
        "    X_train = X_train.reshape(X_train.shape[0], X_train.shape[1]*X_train.shape[2]*X_train.shape[3])\n",
        "    X_test = X_test.reshape(X_test.shape[0], X_test.shape[1]*X_test.shape[2]*X_test.shape[3])\n",
        "  elif len(X_train.shape) == 3:\n",
        "    X_train = X_train.reshape(X_train.shape[0], X_train.shape[1]*X_train.shape[2])\n",
        "    X_test = X_test.reshape(X_test.shape[0], X_test.shape[1]*X_test.shape[2])   \n",
        "\n",
        "  X_train = X_train.astype('float32')\n",
        "  X_test = X_test.astype('float32')\n",
        "\n",
        "  #preprocess\n",
        "  X_train /=  255.0\n",
        "  X_test /= 255.0\n",
        "\n",
        "  y_train = to_categorical(y_train, number_of_categorical_values)  \n",
        "  y_test = to_categorical(y_test, number_of_categorical_values)\n",
        "\n",
        "  return X_train, X_test, y_train, y_test"
      ],
      "execution_count": null,
      "outputs": []
    },
    {
      "cell_type": "markdown",
      "metadata": {
        "id": "onAi3HHoP3bG",
        "colab_type": "text"
      },
      "source": [
        "#Cifar **100** "
      ]
    },
    {
      "cell_type": "code",
      "metadata": {
        "id": "VNI2EewLDHkJ",
        "colab_type": "code",
        "colab": {
          "base_uri": "https://localhost:8080/",
          "height": 402
        },
        "outputId": "db2b1483-517f-4c36-9069-9fea9aaad16a"
      },
      "source": [
        "(X_train, y_train), (X_test, y_test) = cifar100.load_data()\n",
        "shape_feature = X_train.shape\n",
        "X_train, X_test, y_train, y_test = scale_and_reshape(X_train, X_test, y_train,\\\n",
        "                                                     y_test, \\\n",
        "                                                     number_of_categorical_values=100)\n",
        "\n",
        "initializers = keras.initializers.lecun_uniform()\n",
        "#initializers = keras.initializers.glorot_normal()\n",
        "#initializers = keras.initializers.glorot_uniform()\n",
        "#initializers = keras.initializers.he_uniform()\n",
        "\n",
        "\n",
        "model = Sequential()\n",
        "model.add(Dense(1000, input_dim=shape_feature[1]*shape_feature[2]*shape_feature[3], activation=\"relu\"))\n",
        "model.add(Dense(1000, activation=\"relu\", kernel_initializer=initializers, bias_initializer=initializers))\n",
        "model.add(Dense(1000, activation=\"relu\", kernel_initializer=initializers, bias_initializer=initializers))\n",
        "model.add(Dense(100,  activation=\"softmax\"))\n",
        "#compile\n",
        "model.compile(optimizer='sgd', loss='categorical_crossentropy', metrics=[\"categorical_accuracy\"])\n",
        "model.fit(X_train, y_train, epochs=10, batch_size =32, validation_split=0.2, verbose=1)"
      ],
      "execution_count": null,
      "outputs": [
        {
          "output_type": "stream",
          "text": [
            "Epoch 1/10\n",
            "1250/1250 [==============================] - 33s 26ms/step - loss: 4.2276 - categorical_accuracy: 0.0641 - val_loss: 3.9788 - val_categorical_accuracy: 0.1030\n",
            "Epoch 2/10\n",
            "1250/1250 [==============================] - 33s 26ms/step - loss: 3.8299 - categorical_accuracy: 0.1195 - val_loss: 3.7523 - val_categorical_accuracy: 0.1309\n",
            "Epoch 3/10\n",
            "1250/1250 [==============================] - 33s 26ms/step - loss: 3.6523 - categorical_accuracy: 0.1494 - val_loss: 3.6633 - val_categorical_accuracy: 0.1439\n",
            "Epoch 4/10\n",
            "1250/1250 [==============================] - 33s 26ms/step - loss: 3.5376 - categorical_accuracy: 0.1735 - val_loss: 3.5694 - val_categorical_accuracy: 0.1604\n",
            "Epoch 5/10\n",
            "1250/1250 [==============================] - 33s 26ms/step - loss: 3.4449 - categorical_accuracy: 0.1901 - val_loss: 3.4821 - val_categorical_accuracy: 0.1819\n",
            "Epoch 6/10\n",
            "1250/1250 [==============================] - 32s 26ms/step - loss: 3.3648 - categorical_accuracy: 0.2020 - val_loss: 3.4493 - val_categorical_accuracy: 0.1872\n",
            "Epoch 7/10\n",
            "1250/1250 [==============================] - 32s 26ms/step - loss: 3.2917 - categorical_accuracy: 0.2155 - val_loss: 3.4098 - val_categorical_accuracy: 0.1986\n",
            "Epoch 8/10\n",
            "1250/1250 [==============================] - 33s 26ms/step - loss: 3.2237 - categorical_accuracy: 0.2301 - val_loss: 3.3670 - val_categorical_accuracy: 0.1993\n",
            "Epoch 9/10\n",
            "1250/1250 [==============================] - 32s 26ms/step - loss: 3.1607 - categorical_accuracy: 0.2398 - val_loss: 3.2925 - val_categorical_accuracy: 0.2129\n",
            "Epoch 10/10\n",
            "1250/1250 [==============================] - 33s 26ms/step - loss: 3.1004 - categorical_accuracy: 0.2518 - val_loss: 3.3323 - val_categorical_accuracy: 0.2070\n"
          ],
          "name": "stdout"
        },
        {
          "output_type": "execute_result",
          "data": {
            "text/plain": [
              "<tensorflow.python.keras.callbacks.History at 0x7f196f29a6a0>"
            ]
          },
          "metadata": {
            "tags": []
          },
          "execution_count": 36
        }
      ]
    },
    {
      "cell_type": "markdown",
      "metadata": {
        "id": "ImzGc-lZyqIr",
        "colab_type": "text"
      },
      "source": [
        "#MNIST\n",
        "\n"
      ]
    },
    {
      "cell_type": "code",
      "metadata": {
        "id": "PJlR_uYhyu0D",
        "colab_type": "code",
        "colab": {}
      },
      "source": [
        "(X_train, y_train), (X_test, y_test) = mnist.load_data()\n",
        "shape_feature = X_train.shape\n",
        "X_train, X_test, y_train, y_test = scale_and_reshape(X_train, X_test, y_train,\\\n",
        "                                                     y_test, \\\n",
        "                                                     number_of_categorical_values=10)\n",
        "\n",
        "initializers = keras.initializers.lecun_uniform()\n",
        "\n",
        "\n",
        "\n",
        "model = Sequential()\n",
        "model.add(Dense(1000, input_dim=shape_feature[1]*shape_feature[2], activation=\"relu\"))\n",
        "model.add(Dense(1000, activation=\"relu\", kernel_initializer=initializers, bias_initializer=initializers))\n",
        "model.add(Dense(1000, activation=\"relu\", kernel_initializer=initializers, bias_initializer=initializers))\n",
        "model.add(Dense(10,  activation=\"softmax\"))\n",
        "#compile\n",
        "model.compile(optimizer='sgd', loss='categorical_crossentropy', metrics=[\"categorical_accuracy\"])\n",
        "\n",
        "# Fit the model \n",
        "filepath=\"mnist.{epoch:02d}-{val_loss:.2f}.hdf5\"\n",
        "earlystopping = EarlyStopping(monitor='val_loss', verbose=1, patience=5, mode=\"min\")\n",
        "checkpoint = ModelCheckpoint(filepath, monitor='val_accuracy', verbose=1, mode=\"max\")\n",
        "model.fit(X_train, y_train, epochs=10, validation_split=0.2, verbose=1, callbacks=[earlystopping, checkpoint])"
      ],
      "execution_count": 62,
      "outputs": []
    },
    {
      "cell_type": "code",
      "metadata": {
        "id": "LJJN5i-nCSO0",
        "colab_type": "code",
        "colab": {
          "base_uri": "https://localhost:8080/",
          "height": 295
        },
        "outputId": "acb089ec-38e9-4784-82e2-67c5daf62872"
      },
      "source": [
        "import matplotlib.pyplot as plt\n",
        "plt.plot(model.history.history[\"categorical_accuracy\"])\n",
        "plt.plot(model.history.history[\"val_categorical_accuracy\"])\n",
        "plt.title(\"Model Accuracy\")\n",
        "plt.ylabel(\"Accuracy\")\n",
        "plt.xlabel(\"Epochs\")\n",
        "plt.legend([\"Train\", \"Validation\"], loc=\"best\")\n",
        "plt.show()"
      ],
      "execution_count": 58,
      "outputs": [
        {
          "output_type": "display_data",
          "data": {
            "image/png": "[encoded data removed]",
            "text/plain": [
              "<Figure size 432x288 with 1 Axes>"
            ]
          },
          "metadata": {
            "tags": [],
            "needs_background": "light"
          }
        }
      ]
    },
    {
      "cell_type": "code",
      "metadata": {
        "id": "GKEFIfb6CuD2",
        "colab_type": "code",
        "colab": {
          "base_uri": "https://localhost:8080/",
          "height": 295
        },
        "outputId": "19890d96-777e-4746-e91c-bf9618528c2d"
      },
      "source": [
        "import matplotlib.pyplot as plt\n",
        "plt.plot(model.history.history[\"loss\"])\n",
        "plt.plot(model.history.history[\"val_loss\"])\n",
        "plt.title(\"Model Loss\")\n",
        "plt.ylabel(\"Accuracy\")\n",
        "plt.xlabel(\"Epochs\")\n",
        "plt.legend([\"Train\", \"Validation\"], loc=\"best\")\n",
        "plt.show()"
      ],
      "execution_count": 59,
      "outputs": [
        {
          "output_type": "display_data",
          "data": {
            "image/png": "[encoded data removed]",
            "text/plain": [
              "<Figure size 432x288 with 1 Axes>"
            ]
          },
          "metadata": {
            "tags": [],
            "needs_background": "light"
          }
        }
      ]
    },
    {
      "cell_type": "code",
      "metadata": {
        "id": "u0ljpe1WH-Se",
        "colab_type": "code",
        "colab": {
          "base_uri": "https://localhost:8080/",
          "height": 52
        },
        "outputId": "cfe5a4dd-5cb2-4d22-a57a-f9fb2f0b8a33"
      },
      "source": [
        "model = Sequential()\n",
        "model.add(Dense(1000, input_dim=shape_feature[1]*shape_feature[2], activation=\"relu\"))\n",
        "model.add(Dense(1000, activation=\"relu\", kernel_initializer=initializers, bias_initializer=initializers))\n",
        "model.add(Dense(1000, activation=\"relu\", kernel_initializer=initializers, bias_initializer=initializers))\n",
        "model.add(Dense(10,  activation=\"softmax\"))\n",
        "\n",
        "model.load_weights('/content/mnist.10-0.10.hdf5')\n",
        "#compile\n",
        "model.compile(optimizer='sgd', loss='categorical_crossentropy', metrics=[\"categorical_accuracy\"])\n",
        "scores = model.evaluate(X_test, y_test, verbose=1)\n",
        "print(scores)"
      ],
      "execution_count": 64,
      "outputs": [
        {
          "output_type": "stream",
          "text": [
            "313/313 [==============================] - 2s 6ms/step - loss: 0.0924 - categorical_accuracy: 0.9715\n",
            "[0.09238516539335251, 0.9714999794960022]\n"
          ],
          "name": "stdout"
        }
      ]
    },
    {
      "cell_type": "markdown",
      "metadata": {
        "id": "sxCvJYbUFFSl",
        "colab_type": "text"
      },
      "source": [
        "# Fashion MNIST"
      ]
    },
    {
      "cell_type": "code",
      "metadata": {
        "id": "Ze-86znXFKpN",
        "colab_type": "code",
        "colab": {
          "base_uri": "https://localhost:8080/",
          "height": 749
        },
        "outputId": "1ff5af14-9d9d-4859-b2ba-fff73aa180a8"
      },
      "source": [
        "(X_train, y_train), (X_test, y_test) = fashion_mnist.load_data()\n",
        "shape_feature = X_train.shape\n",
        "X_train, X_test, y_train, y_test = scale_and_reshape(X_train, X_test, y_train,\\\n",
        "                                                     y_test, \\\n",
        "                                                     number_of_categorical_values=10)\n",
        "\n",
        "initializers = keras.initializers.lecun_uniform()\n",
        "\n",
        "\n",
        "model = Sequential()\n",
        "model.add(Dense(1000, input_dim=shape_feature[1]*shape_feature[2], activation=\"relu\"))\n",
        "model.add(Dense(1000, activation=\"relu\", kernel_initializer=initializers, bias_initializer=initializers))\n",
        "model.add(Dense(1000, activation=\"relu\", kernel_initializer=initializers, bias_initializer=initializers))\n",
        "model.add(Dense(10,  activation=\"softmax\"))\n",
        "#compile\n",
        "model.compile(optimizer='sgd', loss='categorical_crossentropy', metrics=[\"categorical_accuracy\"])\n",
        "\n",
        "# Fit the model \n",
        "filepath=\"fashion_mnist.{epoch:02d}-{val_loss:.2f}.hdf5\"\n",
        "earlystopping = EarlyStopping(monitor='val_loss', verbose=1, patience=5, mode=\"min\")\n",
        "checkpoint = ModelCheckpoint(filepath, monitor='val_accuracy', verbose=1, mode=\"max\")\n",
        "model.fit(X_train, y_train, epochs=10, validation_split=0.2, verbose=1, callbacks=[earlystopping, checkpoint])"
      ],
      "execution_count": 65,
      "outputs": [
        {
          "output_type": "stream",
          "text": [
            "Epoch 1/10\n",
            "1500/1500 [==============================] - ETA: 0s - loss: 0.7042 - categorical_accuracy: 0.7707\n",
            "Epoch 00001: saving model to fashion_mnist.01-0.50.hdf5\n",
            "1500/1500 [==============================] - 27s 18ms/step - loss: 0.7042 - categorical_accuracy: 0.7707 - val_loss: 0.4993 - val_categorical_accuracy: 0.8253\n",
            "Epoch 2/10\n",
            "1498/1500 [============================>.] - ETA: 0s - loss: 0.4691 - categorical_accuracy: 0.8369\n",
            "Epoch 00002: saving model to fashion_mnist.02-0.45.hdf5\n",
            "1500/1500 [==============================] - 27s 18ms/step - loss: 0.4690 - categorical_accuracy: 0.8369 - val_loss: 0.4511 - val_categorical_accuracy: 0.8418\n",
            "Epoch 3/10\n",
            "1500/1500 [==============================] - ETA: 0s - loss: 0.4215 - categorical_accuracy: 0.8525\n",
            "Epoch 00003: saving model to fashion_mnist.03-0.41.hdf5\n",
            "1500/1500 [==============================] - 27s 18ms/step - loss: 0.4215 - categorical_accuracy: 0.8525 - val_loss: 0.4122 - val_categorical_accuracy: 0.8522\n",
            "Epoch 4/10\n",
            "1500/1500 [==============================] - ETA: 0s - loss: 0.3912 - categorical_accuracy: 0.8606\n",
            "Epoch 00004: saving model to fashion_mnist.04-0.39.hdf5\n",
            "1500/1500 [==============================] - 26s 17ms/step - loss: 0.3912 - categorical_accuracy: 0.8606 - val_loss: 0.3882 - val_categorical_accuracy: 0.8613\n",
            "Epoch 5/10\n",
            "1497/1500 [============================>.] - ETA: 0s - loss: 0.3686 - categorical_accuracy: 0.8692\n",
            "Epoch 00005: saving model to fashion_mnist.05-0.39.hdf5\n",
            "1500/1500 [==============================] - 27s 18ms/step - loss: 0.3690 - categorical_accuracy: 0.8690 - val_loss: 0.3856 - val_categorical_accuracy: 0.8610\n",
            "Epoch 6/10\n",
            "1499/1500 [============================>.] - ETA: 0s - loss: 0.3510 - categorical_accuracy: 0.8747\n",
            "Epoch 00006: saving model to fashion_mnist.06-0.36.hdf5\n",
            "1500/1500 [==============================] - 26s 17ms/step - loss: 0.3513 - categorical_accuracy: 0.8746 - val_loss: 0.3609 - val_categorical_accuracy: 0.8716\n",
            "Epoch 7/10\n",
            "1499/1500 [============================>.] - ETA: 0s - loss: 0.3369 - categorical_accuracy: 0.8788\n",
            "Epoch 00007: saving model to fashion_mnist.07-0.35.hdf5\n",
            "1500/1500 [==============================] - 26s 17ms/step - loss: 0.3368 - categorical_accuracy: 0.8788 - val_loss: 0.3532 - val_categorical_accuracy: 0.8752\n",
            "Epoch 8/10\n",
            "1500/1500 [==============================] - ETA: 0s - loss: 0.3230 - categorical_accuracy: 0.8840\n",
            "Epoch 00008: saving model to fashion_mnist.08-0.38.hdf5\n",
            "1500/1500 [==============================] - 26s 18ms/step - loss: 0.3230 - categorical_accuracy: 0.8840 - val_loss: 0.3830 - val_categorical_accuracy: 0.8597\n",
            "Epoch 9/10\n",
            "1497/1500 [============================>.] - ETA: 0s - loss: 0.3112 - categorical_accuracy: 0.8871\n",
            "Epoch 00009: saving model to fashion_mnist.09-0.34.hdf5\n",
            "1500/1500 [==============================] - 26s 17ms/step - loss: 0.3114 - categorical_accuracy: 0.8871 - val_loss: 0.3441 - val_categorical_accuracy: 0.8748\n",
            "Epoch 10/10\n",
            "1500/1500 [==============================] - ETA: 0s - loss: 0.3013 - categorical_accuracy: 0.8902\n",
            "Epoch 00010: saving model to fashion_mnist.10-0.33.hdf5\n",
            "1500/1500 [==============================] - 26s 18ms/step - loss: 0.3013 - categorical_accuracy: 0.8902 - val_loss: 0.3316 - val_categorical_accuracy: 0.8800\n"
          ],
          "name": "stdout"
        },
        {
          "output_type": "execute_result",
          "data": {
            "text/plain": [
              "<tensorflow.python.keras.callbacks.History at 0x7f195b93add8>"
            ]
          },
          "metadata": {
            "tags": []
          },
          "execution_count": 65
        }
      ]
    },
    {
      "cell_type": "code",
      "metadata": {
        "id": "wagVhvOwL3Cy",
        "colab_type": "code",
        "colab": {
          "base_uri": "https://localhost:8080/",
          "height": 295
        },
        "outputId": "9ddd9abe-9dc9-4b66-fca3-3f7f13ea397a"
      },
      "source": [
        "plt.plot(model.history.history[\"categorical_accuracy\"])\n",
        "plt.plot(model.history.history[\"val_categorical_accuracy\"])\n",
        "plt.title(\"Model Accuracy\")\n",
        "plt.ylabel(\"Accuracy\")\n",
        "plt.xlabel(\"Epochs\")\n",
        "plt.legend([\"Train\", \"Validation\"], loc=\"best\")\n",
        "plt.show()"
      ],
      "execution_count": 66,
      "outputs": [
        {
          "output_type": "display_data",
          "data": {
            "image/png": "[encoded data removed]",
            "text/plain": [
              "<Figure size 432x288 with 1 Axes>"
            ]
          },
          "metadata": {
            "tags": [],
            "needs_background": "light"
          }
        }
      ]
    },
    {
      "cell_type": "code",
      "metadata": {
        "id": "8wqv5fNJL6An",
        "colab_type": "code",
        "colab": {
          "base_uri": "https://localhost:8080/",
          "height": 295
        },
        "outputId": "f4ffe1ab-7dee-4d3d-a0ac-2d1cc2a5fc66"
      },
      "source": [
        "import matplotlib.pyplot as plt\n",
        "plt.plot(model.history.history[\"loss\"])\n",
        "plt.plot(model.history.history[\"val_loss\"])\n",
        "plt.title(\"Model Loss\")\n",
        "plt.ylabel(\"Accuracy\")\n",
        "plt.xlabel(\"Epochs\")\n",
        "plt.legend([\"Train\", \"Validation\"], loc=\"best\")\n",
        "plt.show()"
      ],
      "execution_count": 67,
      "outputs": [
        {
          "output_type": "display_data",
          "data": {
            "image/png": "[encoded data removed]",
            "text/plain": [
              "<Figure size 432x288 with 1 Axes>"
            ]
          },
          "metadata": {
            "tags": [],
            "needs_background": "light"
          }
        }
      ]
    },
    {
      "cell_type": "code",
      "metadata": {
        "id": "75fDjqZzMQLG",
        "colab_type": "code",
        "colab": {
          "base_uri": "https://localhost:8080/",
          "height": 52
        },
        "outputId": "b32de53e-6088-4e4e-94db-bd5ec110164d"
      },
      "source": [
        "model = Sequential()\n",
        "model.add(Dense(1000, input_dim=shape_feature[1]*shape_feature[2], activation=\"relu\"))\n",
        "model.add(Dense(1000, activation=\"relu\", kernel_initializer=initializers, bias_initializer=initializers))\n",
        "model.add(Dense(1000, activation=\"relu\", kernel_initializer=initializers, bias_initializer=initializers))\n",
        "model.add(Dense(10,  activation=\"softmax\"))\n",
        "\n",
        "model.load_weights('/content/fashion_mnist.10-0.33.hdf5')\n",
        "#compile\n",
        "model.compile(optimizer='sgd', loss='categorical_crossentropy', metrics=[\"categorical_accuracy\"])\n",
        "scores = model.evaluate(X_test, y_test, verbose=1)\n",
        "print(scores)"
      ],
      "execution_count": 68,
      "outputs": [
        {
          "output_type": "stream",
          "text": [
            "313/313 [==============================] - 2s 5ms/step - loss: 0.3559 - categorical_accuracy: 0.8697\n",
            "[0.35588592290878296, 0.869700014591217]\n"
          ],
          "name": "stdout"
        }
      ]
    }
  ]
}