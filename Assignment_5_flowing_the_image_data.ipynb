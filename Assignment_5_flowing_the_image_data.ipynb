{
  "nbformat": 4,
  "nbformat_minor": 0,
  "metadata": {
    "colab": {
      "name": "Assignment 5 flowing the image data.ipynb",
      "provenance": [],
      "collapsed_sections": [],
      "authorship_tag": "ABX9TyOen0tJZIEhLlxpd0aiHE2X",
      "include_colab_link": true
    },
    "kernelspec": {
      "name": "python3",
      "display_name": "Python 3"
    }
  },
  "cells": [
    {
      "cell_type": "markdown",
      "metadata": {
        "id": "view-in-github",
        "colab_type": "text"
      },
      "source": [
        "<a href=\"https://colab.research.google.com/github/vikpy/DLSem3/blob/master/Assignment_5_flowing_the_image_data.ipynb\" target=\"_parent\"><img src=\"https://colab.research.google.com/assets/colab-badge.svg\" alt=\"Open In Colab\"/></a>"
      ]
    },
    {
      "cell_type": "markdown",
      "metadata": {
        "id": "GgJ4FbE_fYb2",
        "colab_type": "text"
      },
      "source": [
        "# Imagenet for model building - classifier on any three classes (synsets) of cars "
      ]
    },
    {
      "cell_type": "code",
      "metadata": {
        "id": "wZ4hX2kPel_b",
        "colab_type": "code",
        "colab": {}
      },
      "source": [
        "from bs4 import BeautifulSoup\n",
        "import numpy as np\n",
        "import requests\n",
        "import cv2\n",
        "import PIL.Image\n",
        "import urllib\n",
        "import os\n",
        "import pandas as pd\n",
        "\n",
        "\n",
        "wnids = {\n",
        "         \n",
        "         'jeep' : 'n03594945',\n",
        "         \n",
        "         'race_car' : 'n04037443',\n",
        "\n",
        "         'army_tank' : 'n04389033'\n",
        "\n",
        "         }\n",
        "image_net_path = 'http://www.image-net.org/api/text/imagenet.synset.geturls?wnid='\n",
        "pages = {}\n",
        "for wnid in wnids.keys():\n",
        "  temp = requests.get(image_net_path + wnids[wnid])\n",
        "  pages[wnid] = str(BeautifulSoup(temp.content, 'html.parser')).split('\\r\\n')"
      ],
      "execution_count": 1,
      "outputs": []
    },
    {
      "cell_type": "code",
      "metadata": {
        "id": "QkOJ3a4Kl2zo",
        "colab_type": "code",
        "colab": {
          "base_uri": "https://localhost:8080/",
          "height": 104
        },
        "outputId": "d5f60117-2073-4f83-f894-c4d3f3407abf"
      },
      "source": [
        "pages[\"race_car\"][:5]"
      ],
      "execution_count": 2,
      "outputs": [
        {
          "output_type": "execute_result",
          "data": {
            "text/plain": [
              "['http://www.upmoon.com/up7/Mitsubishi%20Eclipse%20Street%20Racing%20Car.jpg',\n",
              " 'http://www.hunternet.com.au/members/uploads/images/SkidPadFront.jpg',\n",
              " 'http://farm1.static.flickr.com/202/463662585_60ea3e8381.jpg',\n",
              " 'http://www.cardsunlimited.com/largeimage/RacingCar.jpg',\n",
              " 'http://www.iceposter.com/thumbs/A11870_b.jpg']"
            ]
          },
          "metadata": {
            "tags": []
          },
          "execution_count": 2
        }
      ]
    },
    {
      "cell_type": "markdown",
      "metadata": {
        "id": "ZPQIkC3GJNoy",
        "colab_type": "text"
      },
      "source": [
        "We will be using Flow from Directory \n",
        "![alt text](http://upscfever.com/datasets/flow_from_directory.jpeg)"
      ]
    },
    {
      "cell_type": "code",
      "metadata": {
        "id": "wEzu3cG-LV1O",
        "colab_type": "code",
        "colab": {}
      },
      "source": [
        "# Making directories for the train set \n",
        "!mkdir /content/train \n",
        "!mkdir /content/train/race_car \n",
        "!mkdir /content/train/jeep \n",
        "!mkdir /content/train/army_tank \n",
        "\n",
        "# making directories for the test set\n",
        "!mkdir /content/validation \n",
        "!mkdir /content/validation/race_car \n",
        "!mkdir /content/validation/jeep \n",
        "!mkdir /content/validation/army_tank \n",
        "\n",
        "# making directories for the test set \n",
        "!mkdir /content/test/ \n",
        "!mkdir /content/test/test "
      ],
      "execution_count": 3,
      "outputs": []
    },
    {
      "cell_type": "code",
      "metadata": {
        "id": "niV9WB3mL5DD",
        "colab_type": "code",
        "colab": {}
      },
      "source": [
        "def url_to_image(url):\n",
        "  import numpy as np\n",
        "  import cv2\n",
        "  import urllib\n",
        "  resp = urllib.request.urlopen(url)\n",
        "  image = np.asarray(bytearray(resp.read()), dtype=\"uint8\")\n",
        "  image = cv2.imdecode(image, cv2.IMREAD_COLOR)\n",
        " \n",
        "\t# return the image\n",
        "  return image"
      ],
      "execution_count": 4,
      "outputs": []
    },
    {
      "cell_type": "code",
      "metadata": {
        "id": "gPqP-RuTTfCP",
        "colab_type": "code",
        "colab": {
          "base_uri": "https://localhost:8080/",
          "height": 434
        },
        "outputId": "eaab1f34-aa35-4604-8a00-314100c76fb7"
      },
      "source": [
        "n_of_training_images=150#the number of training images to use\n",
        "\n",
        "for class_of_vehicle in pages:\n",
        "  for progress in range(n_of_training_images):\n",
        "      if(progress%20==0):\n",
        "          print(progress)\n",
        "      if not pages[class_of_vehicle][progress] == None:\n",
        "        try:\n",
        "          I = url_to_image(pages[class_of_vehicle][progress])\n",
        "          if (len(I.shape)) == 3: #check if the image has width, length and channels\n",
        "            save_path = '/content/train/' + class_of_vehicle + '/img'+str(progress)+'.jpg'#create a name of each image\n",
        "            cv2.imwrite(save_path,I)\n",
        "        except:\n",
        "          None"
      ],
      "execution_count": 5,
      "outputs": [
        {
          "output_type": "stream",
          "text": [
            "0\n",
            "20\n",
            "40\n",
            "60\n",
            "80\n",
            "100\n",
            "120\n",
            "140\n",
            "0\n",
            "20\n",
            "40\n",
            "60\n",
            "80\n",
            "100\n",
            "120\n",
            "140\n",
            "0\n",
            "20\n",
            "40\n",
            "60\n",
            "80\n",
            "100\n",
            "120\n",
            "140\n"
          ],
          "name": "stdout"
        }
      ]
    },
    {
      "cell_type": "code",
      "metadata": {
        "id": "qMpbE5wOq4TZ",
        "colab_type": "code",
        "colab": {
          "base_uri": "https://localhost:8080/",
          "height": 173
        },
        "outputId": "2900c932-5b19-4c75-ec57-4d7a30f5d56a"
      },
      "source": [
        "for class_of_vehicle in pages:\n",
        "  for progress in range(50):\n",
        "      if(progress%20==0):\n",
        "          print(progress)\n",
        "      if not pages[class_of_vehicle][n_of_training_images + progress] == None:\n",
        "        try:\n",
        "          I = url_to_image(pages[class_of_vehicle][n_of_training_images + progress])\n",
        "          if (len(I.shape)) == 3: #check if the image has width, length and channels\n",
        "            save_path = '/content/validation/' + class_of_vehicle + '/img'+str(n_of_training_images + progress)+'.jpg'#create a name of each image\n",
        "            cv2.imwrite(save_path,I)\n",
        "        except:\n",
        "          None"
      ],
      "execution_count": 6,
      "outputs": [
        {
          "output_type": "stream",
          "text": [
            "0\n",
            "20\n",
            "40\n",
            "0\n",
            "20\n",
            "40\n",
            "0\n",
            "20\n",
            "40\n"
          ],
          "name": "stdout"
        }
      ]
    },
    {
      "cell_type": "code",
      "metadata": {
        "id": "I8VDt3pJwftG",
        "colab_type": "code",
        "colab": {
          "base_uri": "https://localhost:8080/",
          "height": 173
        },
        "outputId": "58c9f544-981d-4a2c-814d-c33c69d8794d"
      },
      "source": [
        "for class_of_vehicle in pages:\n",
        "  for progress in range(50):\n",
        "      if(progress%20==0):\n",
        "          print(progress)\n",
        "      if not pages[class_of_vehicle][n_of_training_images + progress + 50] == None:\n",
        "        try:\n",
        "          I = url_to_image(pages[class_of_vehicle][n_of_training_images + progress + 50])\n",
        "          if (len(I.shape)) == 3: #check if the image has width, length and channels\n",
        "            save_path = '/content/test/test/'+ str(class_of_vehicle) +  '_' +str(n_of_training_images + progress + 50)+'.jpg'#create a name of each image\n",
        "            cv2.imwrite(save_path,I)\n",
        "        except:\n",
        "          None"
      ],
      "execution_count": 7,
      "outputs": [
        {
          "output_type": "stream",
          "text": [
            "0\n",
            "20\n",
            "40\n",
            "0\n",
            "20\n",
            "40\n",
            "0\n",
            "20\n",
            "40\n"
          ],
          "name": "stdout"
        }
      ]
    },
    {
      "cell_type": "code",
      "metadata": {
        "id": "6b4opS0K2_dR",
        "colab_type": "code",
        "colab": {}
      },
      "source": [
        "# Path to the train folder\n",
        "original_test = '/content/test/test'\n",
        " \n",
        "filenames = os.listdir(original_test)\n",
        "categories = []\n",
        "for filename in filenames:\n",
        "    category = filename.split('_')[0]\n",
        "    if category == 'race_car':\n",
        "        categories.append('race_car')\n",
        "    elif category == 'jeep' :\n",
        "        categories.append('jeep')\n",
        "    else : \n",
        "        categories.append('army_tank')\n",
        "\n",
        "data_test = pd.DataFrame({'filename':filenames,'label':categories})\n",
        "\n",
        "data_test.to_csv(\"original_test.csv\",index=False)"
      ],
      "execution_count": 8,
      "outputs": []
    },
    {
      "cell_type": "markdown",
      "metadata": {
        "id": "86LteUWsWTYq",
        "colab_type": "text"
      },
      "source": [
        "class_mode: One of \"categorical\", \"binary\", \"sparse\", \"input\", or None. Default: \"categorical\". Determines the type of label arrays that are returned: - \"categorical\" will be 2D one-hot encoded labels, - \"binary\" will be 1D binary labels, \"sparse\" will be 1D integer labels, - \"input\" will be images identical to input images (mainly used to work with autoencoders). - If None, no labels are returned (the generator will only yield batches of image data, which is useful to use with model.predict_generator()). Please note that in case of class_mode None, the data still needs to reside in a subdirectory of directory for it to work correctly\n"
      ]
    },
    {
      "cell_type": "code",
      "metadata": {
        "id": "gveh11cJeSfn",
        "colab_type": "code",
        "colab": {
          "base_uri": "https://localhost:8080/",
          "height": 69
        },
        "outputId": "724083a0-b5b9-4cd9-f0cc-9b0d1e906104"
      },
      "source": [
        "from keras.models import Sequential\n",
        "from keras.layers import Conv2D, Flatten, Dense\n",
        "from keras.optimizers import SGD\n",
        "from keras.preprocessing.image import ImageDataGenerator\n",
        "from keras.layers import Conv2D, MaxPooling2D\n",
        "from keras.layers import Activation, Dropout, Flatten, Dense\n",
        "from keras.utils import to_categorical\n",
        "from keras.callbacks import ModelCheckpoint, EarlyStopping\n",
        "import keras\n",
        "\n",
        "\n",
        "# Image Augmentation\n",
        "\n",
        "trainval_datagen = ImageDataGenerator(\n",
        "    rescale=1./255, \n",
        "    horizontal_flip=True #,\n",
        " #   rotation_range=180,\n",
        " #   width_shift_range=0.3,\n",
        " #   height_shift_range=0.3,\n",
        " #   shear_range=0.4,\n",
        " #   zoom_range=0.4,\n",
        " #   fill_mode = 'nearest'\n",
        ")\n",
        "\n",
        "\n",
        "test_datagen = ImageDataGenerator(\n",
        "    rescale=1./255\n",
        ")\n",
        "\n",
        "# Flowing the data from the directory \n",
        "batch_size = 32\n",
        "train_generator = trainval_datagen.flow_from_directory(directory='/content/train/',\n",
        "                                                       seed=123,\n",
        "                                                       shuffle=True,\n",
        "                                                       color_mode='rgb',\n",
        "                                                       class_mode='categorical',\n",
        "                                                       batch_size=batch_size,\n",
        "                                                       target_size=(150,150))\n",
        "\n",
        "val_generator = trainval_datagen.flow_from_directory(directory='/content/validation/',                                                      \n",
        "                                                       seed=123,\n",
        "                                                       shuffle=True,                                                       \n",
        "                                                       color_mode='rgb',\n",
        "                                                       class_mode='categorical',\n",
        "                                                       batch_size=batch_size,                                                     \n",
        "                                                       target_size=(150,150))\n",
        "\n",
        "\n",
        "\n",
        "test_generator = test_datagen.flow_from_directory(directory='/content/test/',\n",
        "                                                  seed=123,\n",
        "                                                  shuffle=False,                                                  \n",
        "                                                  class_mode=None,\n",
        "                                                  color_mode='rgb',\n",
        "                                                  target_size=(150,150))\n",
        "\n"
      ],
      "execution_count": 9,
      "outputs": [
        {
          "output_type": "stream",
          "text": [
            "Found 267 images belonging to 3 classes.\n",
            "Found 105 images belonging to 3 classes.\n",
            "Found 101 images belonging to 1 classes.\n"
          ],
          "name": "stdout"
        }
      ]
    },
    {
      "cell_type": "code",
      "metadata": {
        "id": "bGibdFto_-Sb",
        "colab_type": "code",
        "colab": {}
      },
      "source": [
        "# Using Initializers\n",
        "\n",
        "#initializers = keras.initializers.glorot_normal()\n",
        "#initializers = keras.initializers.glorot_uniform()\n",
        "#initializers = keras.initializers.he_uniform()\n",
        "initializers = keras.initializers.lecun_uniform()\n",
        "\n",
        "\n",
        "# Building the model \n",
        "model = Sequential()\n",
        "\n",
        "model.add(Conv2D(512, (150,150), padding='valid', activation='relu', input_shape=(150,150,3)))\n",
        "\n",
        "model.add(Flatten())\n",
        "\n",
        "model.add(Dense(512, activation='relu', kernel_initializer=initializers, bias_initializer=initializers))\n",
        "\n",
        "model.add(Dense(512, activation='relu', kernel_initializer=initializers, bias_initializer=initializers))\n",
        "\n",
        "model.add(Dense(256, activation='relu', kernel_initializer=initializers, bias_initializer=initializers))\n",
        "\n",
        "model.add(Dense(256, activation='relu', kernel_initializer=initializers, bias_initializer=initializers))\n",
        "\n",
        "model.add(Dense(3, activation='softmax'))\n",
        "\n",
        "model.compile(loss='categorical_crossentropy',  optimizer= 'sgd', metrics=['accuracy'])\n",
        "#model.compile(loss='categorical_crossentropy',  optimizer= 'rmsprop', metrics=['accuracy'])\n",
        "#model.compile(loss='categorical_crossentropy',  optimizer= 'adam', metrics=['accuracy'])"
      ],
      "execution_count": 10,
      "outputs": []
    },
    {
      "cell_type": "code",
      "metadata": {
        "id": "R5zF2CG0ADRp",
        "colab_type": "code",
        "colab": {
          "base_uri": "https://localhost:8080/",
          "height": 399
        },
        "outputId": "799fa130-22de-4b42-8a92-422685d2da22"
      },
      "source": [
        "model.summary()"
      ],
      "execution_count": 11,
      "outputs": [
        {
          "output_type": "stream",
          "text": [
            "Model: \"sequential\"\n",
            "_________________________________________________________________\n",
            "Layer (type)                 Output Shape              Param #   \n",
            "=================================================================\n",
            "conv2d (Conv2D)              (None, 1, 1, 512)         34560512  \n",
            "_________________________________________________________________\n",
            "flatten (Flatten)            (None, 512)               0         \n",
            "_________________________________________________________________\n",
            "dense (Dense)                (None, 512)               262656    \n",
            "_________________________________________________________________\n",
            "dense_1 (Dense)              (None, 512)               262656    \n",
            "_________________________________________________________________\n",
            "dense_2 (Dense)              (None, 256)               131328    \n",
            "_________________________________________________________________\n",
            "dense_3 (Dense)              (None, 256)               65792     \n",
            "_________________________________________________________________\n",
            "dense_4 (Dense)              (None, 3)                 771       \n",
            "=================================================================\n",
            "Total params: 35,283,715\n",
            "Trainable params: 35,283,715\n",
            "Non-trainable params: 0\n",
            "_________________________________________________________________\n"
          ],
          "name": "stdout"
        }
      ]
    },
    {
      "cell_type": "code",
      "metadata": {
        "id": "qxudMQh8AFJZ",
        "colab_type": "code",
        "colab": {
          "base_uri": "https://localhost:8080/",
          "height": 660
        },
        "outputId": "878e74dc-ba90-46bd-a112-ca3239981c46"
      },
      "source": [
        "# Fitting the models and calling the call backs\n",
        "filepath=\"m1_test.{epoch:02d}-{val_loss:.2f}.hdf5\"\n",
        "earlystopping = EarlyStopping(monitor='val_loss', verbose=1, patience=4, mode=\"min\")\n",
        "#checkpoint = ModelCheckpoint(filepath, monitor='val_accuracy', verbose=1, mode=\"max\")\n",
        "model_history = model.fit_generator(generator=train_generator, validation_data=val_generator, epochs=30, verbose=1 , callbacks=[earlystopping])"
      ],
      "execution_count": 13,
      "outputs": [
        {
          "output_type": "stream",
          "text": [
            "Epoch 1/30\n",
            "9/9 [==============================] - ETA: 0s - loss: 0.8663 - accuracy: 0.6030\n",
            "Epoch 00001: saving model to m1_test.01-0.85.hdf5\n",
            "9/9 [==============================] - 15s 2s/step - loss: 0.8663 - accuracy: 0.6030 - val_loss: 0.8526 - val_accuracy: 0.6190\n",
            "Epoch 2/30\n",
            "9/9 [==============================] - ETA: 0s - loss: 0.9061 - accuracy: 0.5993\n",
            "Epoch 00002: saving model to m1_test.02-0.84.hdf5\n",
            "9/9 [==============================] - 15s 2s/step - loss: 0.9061 - accuracy: 0.5993 - val_loss: 0.8392 - val_accuracy: 0.5810\n",
            "Epoch 3/30\n",
            "9/9 [==============================] - ETA: 0s - loss: 0.8542 - accuracy: 0.6404\n",
            "Epoch 00003: saving model to m1_test.03-0.90.hdf5\n",
            "9/9 [==============================] - 15s 2s/step - loss: 0.8542 - accuracy: 0.6404 - val_loss: 0.8969 - val_accuracy: 0.5524\n",
            "Epoch 4/30\n",
            "9/9 [==============================] - ETA: 0s - loss: 0.8706 - accuracy: 0.6142\n",
            "Epoch 00004: saving model to m1_test.04-0.88.hdf5\n",
            "9/9 [==============================] - 16s 2s/step - loss: 0.8706 - accuracy: 0.6142 - val_loss: 0.8787 - val_accuracy: 0.5524\n",
            "Epoch 5/30\n",
            "9/9 [==============================] - ETA: 0s - loss: 0.8688 - accuracy: 0.5543\n",
            "Epoch 00005: saving model to m1_test.05-0.81.hdf5\n",
            "9/9 [==============================] - 16s 2s/step - loss: 0.8688 - accuracy: 0.5543 - val_loss: 0.8097 - val_accuracy: 0.6286\n",
            "Epoch 6/30\n",
            "9/9 [==============================] - ETA: 0s - loss: 0.8663 - accuracy: 0.6367\n",
            "Epoch 00006: saving model to m1_test.06-0.84.hdf5\n",
            "9/9 [==============================] - 15s 2s/step - loss: 0.8663 - accuracy: 0.6367 - val_loss: 0.8355 - val_accuracy: 0.6476\n",
            "Epoch 7/30\n",
            "9/9 [==============================] - ETA: 0s - loss: 0.8371 - accuracy: 0.6330\n",
            "Epoch 00007: saving model to m1_test.07-0.88.hdf5\n",
            "9/9 [==============================] - 14s 2s/step - loss: 0.8371 - accuracy: 0.6330 - val_loss: 0.8770 - val_accuracy: 0.5905\n",
            "Epoch 8/30\n",
            "9/9 [==============================] - ETA: 0s - loss: 0.8464 - accuracy: 0.5955\n",
            "Epoch 00008: saving model to m1_test.08-0.83.hdf5\n",
            "9/9 [==============================] - 15s 2s/step - loss: 0.8464 - accuracy: 0.5955 - val_loss: 0.8269 - val_accuracy: 0.6095\n",
            "Epoch 9/30\n",
            "9/9 [==============================] - ETA: 0s - loss: 0.8210 - accuracy: 0.5993\n",
            "Epoch 00009: saving model to m1_test.09-0.91.hdf5\n",
            "9/9 [==============================] - 15s 2s/step - loss: 0.8210 - accuracy: 0.5993 - val_loss: 0.9143 - val_accuracy: 0.5524\n",
            "Epoch 00009: early stopping\n"
          ],
          "name": "stdout"
        }
      ]
    },
    {
      "cell_type": "code",
      "metadata": {
        "id": "pSrNh-m6AH0T",
        "colab_type": "code",
        "colab": {
          "base_uri": "https://localhost:8080/",
          "height": 642
        },
        "outputId": "1fa9b12a-8f2c-425a-aec1-492c1af2d150"
      },
      "source": [
        "model_history.history"
      ],
      "execution_count": 14,
      "outputs": [
        {
          "output_type": "execute_result",
          "data": {
            "text/plain": [
              "{'accuracy': [0.6029962301254272,\n",
              "  0.5992509126663208,\n",
              "  0.6404494643211365,\n",
              "  0.6142321825027466,\n",
              "  0.5543071031570435,\n",
              "  0.63670414686203,\n",
              "  0.6329588294029236,\n",
              "  0.5955055952072144,\n",
              "  0.5992509126663208],\n",
              " 'loss': [0.8663332462310791,\n",
              "  0.9061248302459717,\n",
              "  0.8542298078536987,\n",
              "  0.8705607652664185,\n",
              "  0.8687594532966614,\n",
              "  0.8662580251693726,\n",
              "  0.8370637893676758,\n",
              "  0.8463575839996338,\n",
              "  0.8210111856460571],\n",
              " 'val_accuracy': [0.6190476417541504,\n",
              "  0.5809524059295654,\n",
              "  0.5523809790611267,\n",
              "  0.5523809790611267,\n",
              "  0.6285714507102966,\n",
              "  0.6476190686225891,\n",
              "  0.5904762148857117,\n",
              "  0.6095238327980042,\n",
              "  0.5523809790611267],\n",
              " 'val_loss': [0.8525511026382446,\n",
              "  0.8392142057418823,\n",
              "  0.8968775868415833,\n",
              "  0.8786531686782837,\n",
              "  0.8096621036529541,\n",
              "  0.8354817628860474,\n",
              "  0.8770309686660767,\n",
              "  0.8269329071044922,\n",
              "  0.9142986536026001]}"
            ]
          },
          "metadata": {
            "tags": []
          },
          "execution_count": 14
        }
      ]
    },
    {
      "cell_type": "code",
      "metadata": {
        "id": "-78Ou_90AJkz",
        "colab_type": "code",
        "colab": {
          "base_uri": "https://localhost:8080/",
          "height": 295
        },
        "outputId": "0d4d5045-1141-4e8f-cc48-1d920155e6b7"
      },
      "source": [
        "import matplotlib.pyplot as plt\n",
        "plt.plot(model_history.history[\"accuracy\"])\n",
        "plt.plot(model_history.history[\"val_accuracy\"])\n",
        "plt.title(\"Model Accuracy\")\n",
        "plt.ylabel(\"Accuracy\")\n",
        "plt.xlabel(\"Epochs\")\n",
        "plt.legend([\"Train\", \"Validation\"], loc=\"best\")\n",
        "plt.show()"
      ],
      "execution_count": 15,
      "outputs": [
        {
          "output_type": "display_data",
          "data": {
            "image/png": "[encoded data removed]",
            "text/plain": [
              "<Figure size 432x288 with 1 Axes>"
            ]
          },
          "metadata": {
            "tags": [],
            "needs_background": "light"
          }
        }
      ]
    },
    {
      "cell_type": "code",
      "metadata": {
        "id": "FvavEmB_AK_Z",
        "colab_type": "code",
        "colab": {
          "base_uri": "https://localhost:8080/",
          "height": 295
        },
        "outputId": "e7c270d5-5767-437f-98bd-d46a0b9af997"
      },
      "source": [
        "import matplotlib.pyplot as plt\n",
        "plt.plot(model.history.history[\"loss\"])\n",
        "plt.plot(model.history.history[\"val_loss\"])\n",
        "plt.title(\"Model Loss\")\n",
        "plt.ylabel(\"Accuracy\")\n",
        "plt.xlabel(\"Epochs\")\n",
        "plt.legend([\"Train\", \"Validation\"], loc=\"best\")\n",
        "plt.show()"
      ],
      "execution_count": 16,
      "outputs": [
        {
          "output_type": "display_data",
          "data": {
            "image/png": "[encoded data removed]",
            "text/plain": [
              "<Figure size 432x288 with 1 Axes>"
            ]
          },
          "metadata": {
            "tags": [],
            "needs_background": "light"
          }
        }
      ]
    }
  ]
}