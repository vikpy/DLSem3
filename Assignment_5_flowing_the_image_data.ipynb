{
  "nbformat": 4,
  "nbformat_minor": 0,
  "metadata": {
    "colab": {
      "name": "Assignment 5 flowing the image data.ipynb",
      "provenance": [],
      "collapsed_sections": [],
      "authorship_tag": "ABX9TyOvkXdv36G9910h4/dHrXRq",
      "include_colab_link": true
    },
    "kernelspec": {
      "name": "python3",
      "display_name": "Python 3"
    }
  },
  "cells": [
    {
      "cell_type": "markdown",
      "metadata": {
        "id": "view-in-github",
        "colab_type": "text"
      },
      "source": [
        "<a href=\"https://colab.research.google.com/github/vikpy/DLSem3/blob/master/Assignment_5_flowing_the_image_data.ipynb\" target=\"_parent\"><img src=\"https://colab.research.google.com/assets/colab-badge.svg\" alt=\"Open In Colab\"/></a>"
      ]
    },
    {
      "cell_type": "markdown",
      "metadata": {
        "id": "GgJ4FbE_fYb2",
        "colab_type": "text"
      },
      "source": [
        "# Imagenet for model building - classifier on any three classes (synsets) of cars "
      ]
    },
    {
      "cell_type": "code",
      "metadata": {
        "id": "wZ4hX2kPel_b",
        "colab_type": "code",
        "colab": {}
      },
      "source": [
        "#code part 1\n",
        "from bs4 import BeautifulSoup\n",
        "import numpy as np\n",
        "import requests\n",
        "import cv2\n",
        "import PIL.Image\n",
        "import urllib\n",
        "import os\n",
        "import pandas as pd\n",
        "\n",
        "\n",
        "wnids = {\n",
        "         \n",
        "         'jeep' : 'n03594945',\n",
        "         \n",
        "         'race_car' : 'n04037443',\n",
        "\n",
        "         'army_tank' : 'n04389033'\n",
        "\n",
        "         }\n",
        "image_net_path = 'http://www.image-net.org/api/text/imagenet.synset.geturls?wnid='\n",
        "pages = {}\n",
        "for wnid in wnids.keys():\n",
        "  temp = requests.get(image_net_path + wnids[wnid])\n",
        "  pages[wnid] = str(BeautifulSoup(temp.content, 'html.parser')).split('\\r\\n')"
      ],
      "execution_count": 3,
      "outputs": []
    },
    {
      "cell_type": "code",
      "metadata": {
        "id": "QkOJ3a4Kl2zo",
        "colab_type": "code",
        "colab": {
          "base_uri": "https://localhost:8080/",
          "height": 104
        },
        "outputId": "e929d84f-1d4b-46a2-c4e5-0660f7545538"
      },
      "source": [
        "pages[\"race_car\"][:5]"
      ],
      "execution_count": null,
      "outputs": [
        {
          "output_type": "execute_result",
          "data": {
            "text/plain": [
              "['http://www.upmoon.com/up7/Mitsubishi%20Eclipse%20Street%20Racing%20Car.jpg',\n",
              " 'http://www.hunternet.com.au/members/uploads/images/SkidPadFront.jpg',\n",
              " 'http://farm1.static.flickr.com/202/463662585_60ea3e8381.jpg',\n",
              " 'http://www.cardsunlimited.com/largeimage/RacingCar.jpg',\n",
              " 'http://www.iceposter.com/thumbs/A11870_b.jpg']"
            ]
          },
          "metadata": {
            "tags": []
          },
          "execution_count": 25
        }
      ]
    },
    {
      "cell_type": "markdown",
      "metadata": {
        "id": "ZPQIkC3GJNoy",
        "colab_type": "text"
      },
      "source": [
        "We will be using Flow from Directory \n",
        "![alt text](http://upscfever.com/datasets/flow_from_directory.jpeg)"
      ]
    },
    {
      "cell_type": "code",
      "metadata": {
        "id": "wEzu3cG-LV1O",
        "colab_type": "code",
        "colab": {}
      },
      "source": [
        "# Making directories for the train set \n",
        "!mkdir /content/train \n",
        "!mkdir /content/train/race_car \n",
        "!mkdir /content/train/jeep \n",
        "!mkdir /content/train/army_tank \n",
        "\n",
        "# making directories for the test set\n",
        "!mkdir /content/validation \n",
        "!mkdir /content/validation/race_car \n",
        "!mkdir /content/validation/jeep \n",
        "!mkdir /content/validation/army_tank \n",
        "\n",
        "# making directories for the test set \n",
        "!mkdir /content/test/ \n",
        "!mkdir /content/test/test "
      ],
      "execution_count": null,
      "outputs": []
    },
    {
      "cell_type": "code",
      "metadata": {
        "id": "niV9WB3mL5DD",
        "colab_type": "code",
        "colab": {}
      },
      "source": [
        "def url_to_image(url):\n",
        "  import numpy as np\n",
        "  import cv2\n",
        "  import urllib\n",
        "  resp = urllib.request.urlopen(url)\n",
        "  image = np.asarray(bytearray(resp.read()), dtype=\"uint8\")\n",
        "  image = cv2.imdecode(image, cv2.IMREAD_COLOR)\n",
        " \n",
        "\t# return the image\n",
        "  return image"
      ],
      "execution_count": null,
      "outputs": []
    },
    {
      "cell_type": "code",
      "metadata": {
        "id": "gPqP-RuTTfCP",
        "colab_type": "code",
        "colab": {
          "base_uri": "https://localhost:8080/",
          "height": 434
        },
        "outputId": "bba4e778-bd0e-4235-9d6f-ed6241a9040f"
      },
      "source": [
        "n_of_training_images=150#the number of training images to use\n",
        "\n",
        "for class_of_vehicle in pages:\n",
        "  for progress in range(n_of_training_images):\n",
        "      if(progress%20==0):\n",
        "          print(progress)\n",
        "      if not pages[class_of_vehicle][progress] == None:\n",
        "        try:\n",
        "          I = url_to_image(pages[class_of_vehicle][progress])\n",
        "          if (len(I.shape)) == 3: #check if the image has width, length and channels\n",
        "            save_path = '/content/train/' + class_of_vehicle + '/img'+str(progress)+'.jpg'#create a name of each image\n",
        "            cv2.imwrite(save_path,I)\n",
        "        except:\n",
        "          None"
      ],
      "execution_count": null,
      "outputs": [
        {
          "output_type": "stream",
          "text": [
            "0\n",
            "20\n",
            "40\n",
            "60\n",
            "80\n",
            "100\n",
            "120\n",
            "140\n",
            "0\n",
            "20\n",
            "40\n",
            "60\n",
            "80\n",
            "100\n",
            "120\n",
            "140\n",
            "0\n",
            "20\n",
            "40\n",
            "60\n",
            "80\n",
            "100\n",
            "120\n",
            "140\n"
          ],
          "name": "stdout"
        }
      ]
    },
    {
      "cell_type": "code",
      "metadata": {
        "id": "qMpbE5wOq4TZ",
        "colab_type": "code",
        "colab": {
          "base_uri": "https://localhost:8080/",
          "height": 173
        },
        "outputId": "685a1aec-3528-4dd6-f6a9-b02260a4ff6b"
      },
      "source": [
        "for class_of_vehicle in pages:\n",
        "  for progress in range(50):\n",
        "      if(progress%20==0):\n",
        "          print(progress)\n",
        "      if not pages[class_of_vehicle][n_of_training_images + progress] == None:\n",
        "        try:\n",
        "          I = url_to_image(pages[class_of_vehicle][n_of_training_images + progress])\n",
        "          if (len(I.shape)) == 3: #check if the image has width, length and channels\n",
        "            save_path = '/content/validation/' + class_of_vehicle + '/img'+str(n_of_training_images + progress)+'.jpg'#create a name of each image\n",
        "            cv2.imwrite(save_path,I)\n",
        "        except:\n",
        "          None"
      ],
      "execution_count": null,
      "outputs": [
        {
          "output_type": "stream",
          "text": [
            "0\n",
            "20\n",
            "40\n",
            "0\n",
            "20\n",
            "40\n",
            "0\n",
            "20\n",
            "40\n"
          ],
          "name": "stdout"
        }
      ]
    },
    {
      "cell_type": "code",
      "metadata": {
        "id": "I8VDt3pJwftG",
        "colab_type": "code",
        "colab": {
          "base_uri": "https://localhost:8080/",
          "height": 173
        },
        "outputId": "1fe983cc-e25d-491a-a97e-6f23cc84383e"
      },
      "source": [
        "for class_of_vehicle in pages:\n",
        "  for progress in range(50):\n",
        "      if(progress%20==0):\n",
        "          print(progress)\n",
        "      if not pages[class_of_vehicle][n_of_training_images + progress + 50] == None:\n",
        "        try:\n",
        "          I = url_to_image(pages[class_of_vehicle][n_of_training_images + progress + 50])\n",
        "          if (len(I.shape)) == 3: #check if the image has width, length and channels\n",
        "            save_path = '/content/test/test/'+ str(class_of_vehicle) +  '_' +str(n_of_training_images + progress + 50)+'.jpg'#create a name of each image\n",
        "            cv2.imwrite(save_path,I)\n",
        "        except:\n",
        "          None"
      ],
      "execution_count": null,
      "outputs": [
        {
          "output_type": "stream",
          "text": [
            "0\n",
            "20\n",
            "40\n",
            "0\n",
            "20\n",
            "40\n",
            "0\n",
            "20\n",
            "40\n"
          ],
          "name": "stdout"
        }
      ]
    },
    {
      "cell_type": "code",
      "metadata": {
        "id": "6b4opS0K2_dR",
        "colab_type": "code",
        "colab": {}
      },
      "source": [
        "# Path to the train folder\n",
        "original_test = '/content/test/test'\n",
        " \n",
        "filenames = os.listdir(original_test)\n",
        "categories = []\n",
        "for filename in filenames:\n",
        "    category = filename.split('_')[0]\n",
        "    if category == 'ships':\n",
        "        categories.append('ships')\n",
        "    else:\n",
        "        categories.append('bikes')\n",
        "\n",
        "data_test = pd.DataFrame({'filename':filenames,'label':categories})\n",
        "\n",
        "data_test.to_csv(\"original_test.csv\",index=False)"
      ],
      "execution_count": null,
      "outputs": []
    }
  ]
}