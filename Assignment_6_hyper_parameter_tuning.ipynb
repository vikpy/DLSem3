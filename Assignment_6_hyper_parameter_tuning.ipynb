{
  "nbformat": 4,
  "nbformat_minor": 0,
  "metadata": {
    "colab": {
      "name": "Assignment 6 hyper-parameter tuning.ipynb",
      "provenance": [],
      "authorship_tag": "ABX9TyN3BDSX3eMUfakdPvzp0imQ",
      "include_colab_link": true
    },
    "kernelspec": {
      "name": "python3",
      "display_name": "Python 3"
    }
  },
  "cells": [
    {
      "cell_type": "markdown",
      "metadata": {
        "id": "view-in-github",
        "colab_type": "text"
      },
      "source": [
        "<a href=\"https://colab.research.google.com/github/vikpy/DLSem3/blob/master/Assignment_6_hyper_parameter_tuning.ipynb\" target=\"_parent\"><img src=\"https://colab.research.google.com/assets/colab-badge.svg\" alt=\"Open In Colab\"/></a>"
      ]
    },
    {
      "cell_type": "markdown",
      "metadata": {
        "id": "GUcZ2dCAB1z4",
        "colab_type": "text"
      },
      "source": [
        "Batch size\n",
        "\n",
        "Learning rate decay\n",
        "\n",
        "Batch norm\n",
        "\n",
        "Adam, RMSProp, Momentum\n",
        "\n",
        "Normalize features\n",
        "\n",
        "Use L1, L2 regularization, Dropout, Data augmentation, Early stopping\n",
        "\n",
        "\n",
        "Assignment 6: \n",
        "\n",
        "Use Concepts 1-6 to improve accuracy on CIFAR100 to +90%\n"
      ]
    },
    {
      "cell_type": "code",
      "metadata": {
        "id": "CB3KPb9bBUR2",
        "colab_type": "code",
        "colab": {}
      },
      "source": [
        ""
      ],
      "execution_count": null,
      "outputs": []
    }
  ]
}