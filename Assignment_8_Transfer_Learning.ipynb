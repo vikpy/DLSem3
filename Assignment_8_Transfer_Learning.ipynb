{
  "nbformat": 4,
  "nbformat_minor": 0,
  "metadata": {
    "colab": {
      "name": "Assignment 8 Transfer Learning.ipynb",
      "provenance": [],
      "authorship_tag": "ABX9TyOx7Vo7dWyq9vDvJm4v3OeZ",
      "include_colab_link": true
    },
    "kernelspec": {
      "name": "python3",
      "display_name": "Python 3"
    }
  },
  "cells": [
    {
      "cell_type": "markdown",
      "metadata": {
        "id": "view-in-github",
        "colab_type": "text"
      },
      "source": [
        "<a href=\"https://colab.research.google.com/github/vikpy/DLSem3/blob/master/Assignment_8_Transfer_Learning.ipynb\" target=\"_parent\"><img src=\"https://colab.research.google.com/assets/colab-badge.svg\" alt=\"Open In Colab\"/></a>"
      ]
    },
    {
      "cell_type": "markdown",
      "metadata": {
        "id": "4AlxjIKd_dVV"
      },
      "source": [
        "#**Download dataset of indian elephant, african elephant and tusker (100 images each). Find which pretrained model get highest accuracy**"
      ]
    },
    {
      "cell_type": "code",
      "metadata": {
        "id": "9WA8h82tAe8x"
      },
      "source": [
        ""
      ],
      "execution_count": null,
      "outputs": []
    }
  ]
}