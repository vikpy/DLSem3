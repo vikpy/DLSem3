{
  "nbformat": 4,
  "nbformat_minor": 0,
  "metadata": {
    "colab": {
      "name": "Assignment 8 Transfer Learning.ipynb",
      "provenance": [],
      "authorship_tag": "ABX9TyNCx8bAMBTV7+q3pcQEj3F+",
      "include_colab_link": true
    },
    "kernelspec": {
      "name": "python3",
      "display_name": "Python 3"
    }
  },
  "cells": [
    {
      "cell_type": "markdown",
      "metadata": {
        "id": "view-in-github",
        "colab_type": "text"
      },
      "source": [
        "<a href=\"https://colab.research.google.com/github/vikpy/DLSem3/blob/master/Assignment_8_Transfer_Learning.ipynb\" target=\"_parent\"><img src=\"https://colab.research.google.com/assets/colab-badge.svg\" alt=\"Open In Colab\"/></a>"
      ]
    },
    {
      "cell_type": "markdown",
      "metadata": {
        "id": "4AlxjIKd_dVV"
      },
      "source": [
        "#**Download dataset of indian elephant, african elephant and tusker. Find which pretrained model get highest accuracy**"
      ]
    },
    {
      "cell_type": "code",
      "metadata": {
        "id": "9WA8h82tAe8x"
      },
      "source": [
        "from bs4 import BeautifulSoup\n",
        "import numpy as np\n",
        "import requests\n",
        "import cv2\n",
        "import PIL.Image\n",
        "import urllib\n",
        "import os\n",
        "import pandas as pd\n",
        "\n",
        "\n",
        "wnids = {\n",
        "         \n",
        "         'tusker' : 'n01871265',\n",
        "         \n",
        "         'indian_ele' : 'n02504013',\n",
        "\n",
        "         'african_ele' : 'n02504458'\n",
        "\n",
        "         }\n",
        "image_net_path = 'http://www.image-net.org/api/text/imagenet.synset.geturls?wnid='\n",
        "pages = {}\n",
        "for wnid in wnids.keys():\n",
        "  temp = requests.get(image_net_path + wnids[wnid])\n",
        "  pages[wnid] = str(BeautifulSoup(temp.content, 'html.parser')).split('\\r\\n')"
      ],
      "execution_count": 1,
      "outputs": []
    },
    {
      "cell_type": "code",
      "metadata": {
        "id": "qG6_tt5meVZB"
      },
      "source": [
        "\n",
        "# Making directories for the train set \n",
        "!mkdir /content/train \n",
        "!mkdir /content/train/tusker \n",
        "!mkdir /content/train/indian_ele \n",
        "!mkdir /content/train/african_ele \n",
        "\n",
        "# making directories for the test set\n",
        "!mkdir /content/validation \n",
        "!mkdir /content/validation/tusker \n",
        "!mkdir /content/validation/indian_ele \n",
        "!mkdir /content/validation/african_ele\n",
        "\n",
        "# making directories for the test set \n",
        "!mkdir /content/test/ \n",
        "!mkdir /content/test/test"
      ],
      "execution_count": 2,
      "outputs": []
    },
    {
      "cell_type": "code",
      "metadata": {
        "id": "DPYpsj2lgeVc"
      },
      "source": [
        "def url_to_image(url):\n",
        "  import numpy as np\n",
        "  import cv2\n",
        "  import urllib\n",
        "  resp = urllib.request.urlopen(url)\n",
        "  image = np.asarray(bytearray(resp.read()), dtype=\"uint8\")\n",
        "  image = cv2.imdecode(image, cv2.IMREAD_COLOR)\n",
        " \n",
        "\t# return the image\n",
        "  return image"
      ],
      "execution_count": 3,
      "outputs": []
    },
    {
      "cell_type": "code",
      "metadata": {
        "id": "e6p53sWhgiaG",
        "outputId": "3921cec2-85cc-46cf-bd76-a657b243dd60",
        "colab": {
          "base_uri": "https://localhost:8080/",
          "height": 0
        }
      },
      "source": [
        "n_of_training_images=150#the number of training images to use\n",
        "\n",
        "for class_ in pages:\n",
        "  for progress in range(n_of_training_images):\n",
        "      if(progress%20==0):\n",
        "          print(progress)\n",
        "      if not pages[class_][progress] == None:\n",
        "        try:\n",
        "          I = url_to_image(pages[class_][progress])\n",
        "          if (len(I.shape)) == 3: #check if the image has width, length and channels\n",
        "            save_path = '/content/train/' + class_ + '/img'+str(progress)+'.jpg'#create a name of each image\n",
        "            cv2.imwrite(save_path,I)\n",
        "        except:\n",
        "          None"
      ],
      "execution_count": 4,
      "outputs": [
        {
          "output_type": "stream",
          "text": [
            "0\n",
            "20\n",
            "40\n",
            "60\n",
            "80\n",
            "100\n",
            "120\n",
            "140\n",
            "0\n",
            "20\n",
            "40\n",
            "60\n",
            "80\n",
            "100\n",
            "120\n",
            "140\n",
            "0\n",
            "20\n",
            "40\n",
            "60\n",
            "80\n",
            "100\n",
            "120\n",
            "140\n"
          ],
          "name": "stdout"
        }
      ]
    },
    {
      "cell_type": "code",
      "metadata": {
        "id": "QqM8c-Qjgk_D",
        "outputId": "ae22c6df-d58d-4d76-9286-3f304d925e6f",
        "colab": {
          "base_uri": "https://localhost:8080/",
          "height": 0
        }
      },
      "source": [
        "for class_ in pages:\n",
        "  for progress in range(50):\n",
        "      if(progress%20==0):\n",
        "          print(progress)\n",
        "      if not pages[class_][n_of_training_images + progress] == None:\n",
        "        try:\n",
        "          I = url_to_image(pages[class_][n_of_training_images + progress])\n",
        "          if (len(I.shape)) == 3: #check if the image has width, length and channels\n",
        "            save_path = '/content/validation/' + class_ + '/img'+str(n_of_training_images + progress)+'.jpg'#create a name of each image\n",
        "            cv2.imwrite(save_path,I)\n",
        "        except:\n",
        "          None"
      ],
      "execution_count": 5,
      "outputs": [
        {
          "output_type": "stream",
          "text": [
            "0\n",
            "20\n",
            "40\n",
            "0\n",
            "20\n",
            "40\n",
            "0\n",
            "20\n",
            "40\n"
          ],
          "name": "stdout"
        }
      ]
    },
    {
      "cell_type": "code",
      "metadata": {
        "id": "yiNQkZqdQIWR",
        "outputId": "f8120201-4d58-48fc-c513-e913b54934f4",
        "colab": {
          "base_uri": "https://localhost:8080/",
          "height": 0
        }
      },
      "source": [
        "for class_ in pages:\n",
        "  for progress in range(50):\n",
        "      if(progress%20==0):\n",
        "          print(progress)\n",
        "      if not pages[class_][n_of_training_images + progress + 50] == None:\n",
        "        try:\n",
        "          I = url_to_image(pages[class_][n_of_training_images + progress + 50])\n",
        "          if (len(I.shape)) == 3: #check if the image has width, length and channels\n",
        "            save_path = '/content/test/test/'+ str(class_) +  '_' +str(n_of_training_images + progress + 50)+'.jpg'#create a name of each image\n",
        "            cv2.imwrite(save_path,I)\n",
        "        except:\n",
        "          None"
      ],
      "execution_count": 6,
      "outputs": [
        {
          "output_type": "stream",
          "text": [
            "0\n",
            "20\n",
            "40\n",
            "0\n",
            "20\n",
            "40\n",
            "0\n",
            "20\n",
            "40\n"
          ],
          "name": "stdout"
        }
      ]
    },
    {
      "cell_type": "code",
      "metadata": {
        "id": "fUR_Ehfsgoz3"
      },
      "source": [
        "# Path to the train folder\n",
        "original_test = '/content/test/test'\n",
        " \n",
        "filenames = os.listdir(original_test)\n",
        "categories = []\n",
        "for filename in filenames:\n",
        "    category = filename.split('_')[0]\n",
        "    if category == 'race_car':\n",
        "        categories.append(0)\n",
        "    elif category == 'jeep' :\n",
        "        categories.append(1)\n",
        "    else : \n",
        "        categories.append(2)\n",
        "\n",
        "data_test = pd.DataFrame({'filename':filenames,'label':categories})\n",
        "\n",
        "data_test.to_csv(\"original_test.csv\",index=False)"
      ],
      "execution_count": 8,
      "outputs": []
    },
    {
      "cell_type": "code",
      "metadata": {
        "id": "h5jNKq2uPtQl",
        "outputId": "5061c85c-8ace-4e53-a18a-a66c0352d8e7",
        "colab": {
          "base_uri": "https://localhost:8080/",
          "height": 0
        }
      },
      "source": [
        "from keras.preprocessing.image import ImageDataGenerator\n",
        "trainval_datagen = ImageDataGenerator(\n",
        "    rescale=1./255, \n",
        "    horizontal_flip=True #,\n",
        " #   rotation_range=180,\n",
        " #   width_shift_range=0.3,\n",
        " #   height_shift_range=0.3,\n",
        " #   shear_range=0.4,\n",
        " #   zoom_range=0.4,\n",
        " #   fill_mode = 'nearest'\n",
        ")\n",
        "\n",
        "\n",
        "test_datagen = ImageDataGenerator(\n",
        "    rescale=1./255\n",
        ")\n",
        "\n",
        "batch_size = 32\n",
        "train_generator = trainval_datagen.flow_from_directory(directory='/content/train/',\n",
        "                                                       seed=123,\n",
        "                                                       shuffle=True,\n",
        "                                                       color_mode='rgb',\n",
        "                                                       class_mode='categorical',\n",
        "                                                       batch_size=batch_size,\n",
        "                                                       target_size=(150,150))\n",
        "\n",
        "\n",
        "\n",
        "val_generator = trainval_datagen.flow_from_directory(directory='/content/validation/',                                                      \n",
        "                                                       seed=123,\n",
        "                                                       shuffle=True,                                                       \n",
        "                                                       color_mode='rgb',\n",
        "                                                       class_mode='categorical',\n",
        "                                                       batch_size=batch_size,                                                     \n",
        "                                                       target_size=(150,150))"
      ],
      "execution_count": 9,
      "outputs": [
        {
          "output_type": "stream",
          "text": [
            "Found 280 images belonging to 3 classes.\n",
            "Found 105 images belonging to 3 classes.\n"
          ],
          "name": "stdout"
        }
      ]
    },
    {
      "cell_type": "markdown",
      "metadata": {
        "id": "O5oG7WBTXI13"
      },
      "source": [
        "#Xception Net"
      ]
    },
    {
      "cell_type": "code",
      "metadata": {
        "id": "faPs39YaVaVU",
        "outputId": "74c200a0-9feb-4727-fa44-dfc90d1e3b4d",
        "colab": {
          "base_uri": "https://localhost:8080/",
          "height": 0
        }
      },
      "source": [
        "import keras as keras\n",
        "\n",
        "base_model = keras.applications.Xception(\n",
        "    weights='imagenet',  # Load weights pre-trained on ImageNet.\n",
        "    input_shape=(150, 150, 3),\n",
        "    include_top=False)  # \n",
        "\n",
        "base_model.trainable = False\n",
        "\n",
        "inputs = keras.Input(shape=(150, 150, 3))\n",
        "# We make sure that the base_model is running in inference mode here,\n",
        "# by passing `training=False`. This is important for fine-tuning, as you will\n",
        "# learn in a few paragraphs.\n",
        "x = base_model(inputs, training=False)\n",
        "# Convert features of shape `base_model.output_shape[1:]` to vectors\n",
        "x = keras.layers.GlobalAveragePooling2D()(x)\n",
        "# A Dense classifier with a 3 units \n",
        "outputs = keras.layers.Dense(3)(x)\n",
        "model = keras.Model(inputs, outputs)"
      ],
      "execution_count": 11,
      "outputs": [
        {
          "output_type": "stream",
          "text": [
            "Downloading data from https://storage.googleapis.com/tensorflow/keras-applications/xception/xception_weights_tf_dim_ordering_tf_kernels_notop.h5\n",
            "83689472/83683744 [==============================] - 1s 0us/step\n"
          ],
          "name": "stdout"
        }
      ]
    },
    {
      "cell_type": "code",
      "metadata": {
        "id": "HKYD951QWGmN"
      },
      "source": [
        "model.compile(optimizer=keras.optimizers.Adam(),\n",
        "              loss=keras.losses.CategoricalCrossentropy(from_logits=True),\n",
        "              metrics=[keras.metrics.CategoricalAccuracy()])"
      ],
      "execution_count": 12,
      "outputs": []
    },
    {
      "cell_type": "code",
      "metadata": {
        "id": "hYbBav0gWj7W",
        "outputId": "e7415a67-3921-4b0c-da04-329108822542",
        "colab": {
          "base_uri": "https://localhost:8080/",
          "height": 0
        }
      },
      "source": [
        "model_history = model.fit(train_generator, validation_data=val_generator, epochs=20, verbose=1 )"
      ],
      "execution_count": 16,
      "outputs": [
        {
          "output_type": "stream",
          "text": [
            "Epoch 1/20\n",
            "9/9 [==============================] - 32s 4s/step - loss: 0.9968 - categorical_accuracy: 0.4750 - val_loss: 0.9752 - val_categorical_accuracy: 0.5143\n",
            "Epoch 2/20\n",
            "9/9 [==============================] - 31s 3s/step - loss: 0.8103 - categorical_accuracy: 0.6250 - val_loss: 0.8662 - val_categorical_accuracy: 0.6381\n",
            "Epoch 3/20\n",
            "9/9 [==============================] - 31s 3s/step - loss: 0.7128 - categorical_accuracy: 0.7036 - val_loss: 0.8560 - val_categorical_accuracy: 0.6095\n",
            "Epoch 4/20\n",
            "9/9 [==============================] - 31s 3s/step - loss: 0.6790 - categorical_accuracy: 0.7143 - val_loss: 0.7874 - val_categorical_accuracy: 0.6286\n",
            "Epoch 5/20\n",
            "9/9 [==============================] - 31s 3s/step - loss: 0.6262 - categorical_accuracy: 0.7750 - val_loss: 0.8373 - val_categorical_accuracy: 0.5810\n",
            "Epoch 6/20\n",
            "9/9 [==============================] - 31s 3s/step - loss: 0.6202 - categorical_accuracy: 0.7357 - val_loss: 0.7822 - val_categorical_accuracy: 0.6095\n",
            "Epoch 7/20\n",
            "9/9 [==============================] - 31s 3s/step - loss: 0.5585 - categorical_accuracy: 0.7750 - val_loss: 0.8116 - val_categorical_accuracy: 0.7238\n",
            "Epoch 8/20\n",
            "9/9 [==============================] - 31s 3s/step - loss: 0.5140 - categorical_accuracy: 0.7964 - val_loss: 0.8351 - val_categorical_accuracy: 0.6190\n",
            "Epoch 9/20\n",
            "9/9 [==============================] - 31s 3s/step - loss: 0.5110 - categorical_accuracy: 0.8179 - val_loss: 0.7931 - val_categorical_accuracy: 0.6381\n",
            "Epoch 10/20\n",
            "9/9 [==============================] - 31s 3s/step - loss: 0.4899 - categorical_accuracy: 0.8179 - val_loss: 0.7890 - val_categorical_accuracy: 0.6476\n",
            "Epoch 11/20\n",
            "9/9 [==============================] - 31s 3s/step - loss: 0.4877 - categorical_accuracy: 0.8143 - val_loss: 0.8304 - val_categorical_accuracy: 0.6095\n",
            "Epoch 12/20\n",
            "9/9 [==============================] - 31s 3s/step - loss: 0.4616 - categorical_accuracy: 0.8143 - val_loss: 0.8555 - val_categorical_accuracy: 0.6476\n",
            "Epoch 13/20\n",
            "9/9 [==============================] - 31s 3s/step - loss: 0.4596 - categorical_accuracy: 0.8214 - val_loss: 0.8383 - val_categorical_accuracy: 0.6762\n",
            "Epoch 14/20\n",
            "9/9 [==============================] - 31s 3s/step - loss: 0.4262 - categorical_accuracy: 0.8357 - val_loss: 0.8270 - val_categorical_accuracy: 0.6571\n",
            "Epoch 15/20\n",
            "9/9 [==============================] - 31s 3s/step - loss: 0.4237 - categorical_accuracy: 0.8321 - val_loss: 0.8377 - val_categorical_accuracy: 0.6286\n",
            "Epoch 16/20\n",
            "9/9 [==============================] - 31s 3s/step - loss: 0.4060 - categorical_accuracy: 0.8429 - val_loss: 0.8312 - val_categorical_accuracy: 0.6762\n",
            "Epoch 17/20\n",
            "9/9 [==============================] - 32s 4s/step - loss: 0.4254 - categorical_accuracy: 0.8429 - val_loss: 0.8854 - val_categorical_accuracy: 0.6667\n",
            "Epoch 18/20\n",
            "9/9 [==============================] - 31s 3s/step - loss: 0.3928 - categorical_accuracy: 0.8607 - val_loss: 0.8411 - val_categorical_accuracy: 0.6476\n",
            "Epoch 19/20\n",
            "9/9 [==============================] - 31s 3s/step - loss: 0.4032 - categorical_accuracy: 0.8464 - val_loss: 0.8845 - val_categorical_accuracy: 0.6095\n",
            "Epoch 20/20\n",
            "9/9 [==============================] - 31s 3s/step - loss: 0.3812 - categorical_accuracy: 0.8571 - val_loss: 0.8597 - val_categorical_accuracy: 0.6476\n"
          ],
          "name": "stdout"
        }
      ]
    },
    {
      "cell_type": "code",
      "metadata": {
        "id": "htSPs59-XFzd",
        "outputId": "a0d8db8f-8269-45e3-9a3c-e7c3e60014f9",
        "colab": {
          "base_uri": "https://localhost:8080/",
          "height": 0
        }
      },
      "source": [
        "import matplotlib.pyplot as plt\n",
        "plt.plot(model_history.history[\"categorical_accuracy\"])\n",
        "plt.plot(model_history.history[\"val_categorical_accuracy\"])\n",
        "plt.title(\"Model Accuracy\")\n",
        "plt.ylabel(\"Accuracy\")\n",
        "plt.xlabel(\"Epochs\")\n",
        "plt.legend([\"Train\", \"Validation\"], loc=\"best\")\n",
        "plt.show()\n"
      ],
      "execution_count": 18,
      "outputs": [
        {
          "output_type": "display_data",
          "data": {
            "image/png": "[encoded data removed]",
            "text/plain": [
              "<Figure size 432x288 with 1 Axes>"
            ]
          },
          "metadata": {
            "tags": [],
            "needs_background": "light"
          }
        }
      ]
    },
    {
      "cell_type": "markdown",
      "metadata": {
        "id": "n_0-NzaaXNIv"
      },
      "source": [
        "#VGG16"
      ]
    },
    {
      "cell_type": "code",
      "metadata": {
        "id": "DYsnSl__buAP",
        "outputId": "51e4b0af-d3ea-4039-a0df-4ba5f0b56a19",
        "colab": {
          "base_uri": "https://localhost:8080/",
          "height": 0
        }
      },
      "source": [
        "import keras as keras\n",
        "\n",
        "base_model = keras.applications.VGG16(\n",
        "    weights='imagenet',  # Load weights pre-trained on ImageNet.\n",
        "    input_shape=(150, 150, 3),\n",
        "    include_top=False)  # \n",
        "\n",
        "base_model.trainable = False\n",
        "\n",
        "inputs = keras.Input(shape=(150, 150, 3))\n",
        "# We make sure that the base_model is running in inference mode here,\n",
        "# by passing `training=False`. This is important for fine-tuning, as you will\n",
        "# learn in a few paragraphs.\n",
        "x = base_model(inputs, training=False)\n",
        "# Convert features of shape `base_model.output_shape[1:]` to vectors\n",
        "x = keras.layers.GlobalAveragePooling2D()(x)\n",
        "# A Dense classifier with a 3 units \n",
        "outputs = keras.layers.Dense(3)(x)\n",
        "model = keras.Model(inputs, outputs)\n",
        "\n",
        "\n",
        "model.compile(optimizer=keras.optimizers.Adam(),\n",
        "              loss=keras.losses.CategoricalCrossentropy(from_logits=True),\n",
        "              metrics=[keras.metrics.CategoricalAccuracy()])\n",
        "\n",
        "\n",
        "model_history = model.fit(train_generator, validation_data=val_generator, epochs=20, verbose=1 )\n",
        "\n",
        "\n",
        "import matplotlib.pyplot as plt\n",
        "plt.plot(model_history.history[\"categorical_accuracy\"])\n",
        "plt.plot(model_history.history[\"val_categorical_accuracy\"])\n",
        "plt.title(\"Model Accuracy\")\n",
        "plt.ylabel(\"Accuracy\")\n",
        "plt.xlabel(\"Epochs\")\n",
        "plt.legend([\"Train\", \"Validation\"], loc=\"best\")\n",
        "plt.show()\n"
      ],
      "execution_count": 19,
      "outputs": [
        {
          "output_type": "stream",
          "text": [
            "Downloading data from https://storage.googleapis.com/tensorflow/keras-applications/vgg16/vgg16_weights_tf_dim_ordering_tf_kernels_notop.h5\n",
            "58892288/58889256 [==============================] - 0s 0us/step\n",
            "Epoch 1/20\n",
            "9/9 [==============================] - 79s 9s/step - loss: 1.1182 - categorical_accuracy: 0.3286 - val_loss: 1.0822 - val_categorical_accuracy: 0.3810\n",
            "Epoch 2/20\n",
            "9/9 [==============================] - 76s 8s/step - loss: 1.0950 - categorical_accuracy: 0.3964 - val_loss: 1.0873 - val_categorical_accuracy: 0.3905\n",
            "Epoch 3/20\n",
            "9/9 [==============================] - 76s 8s/step - loss: 1.0820 - categorical_accuracy: 0.4036 - val_loss: 1.0663 - val_categorical_accuracy: 0.4190\n",
            "Epoch 4/20\n",
            "9/9 [==============================] - 76s 8s/step - loss: 1.0685 - categorical_accuracy: 0.4464 - val_loss: 1.0692 - val_categorical_accuracy: 0.4190\n",
            "Epoch 5/20\n",
            "9/9 [==============================] - 76s 8s/step - loss: 1.0596 - categorical_accuracy: 0.4786 - val_loss: 1.0554 - val_categorical_accuracy: 0.4762\n",
            "Epoch 6/20\n",
            "9/9 [==============================] - 76s 8s/step - loss: 1.0479 - categorical_accuracy: 0.4607 - val_loss: 1.0580 - val_categorical_accuracy: 0.4000\n",
            "Epoch 7/20\n",
            "9/9 [==============================] - 76s 8s/step - loss: 1.0455 - categorical_accuracy: 0.4679 - val_loss: 1.0660 - val_categorical_accuracy: 0.3810\n",
            "Epoch 8/20\n",
            "9/9 [==============================] - 76s 8s/step - loss: 1.0286 - categorical_accuracy: 0.5286 - val_loss: 1.0609 - val_categorical_accuracy: 0.4286\n",
            "Epoch 9/20\n",
            "9/9 [==============================] - 76s 8s/step - loss: 1.0244 - categorical_accuracy: 0.5143 - val_loss: 1.0527 - val_categorical_accuracy: 0.4381\n",
            "Epoch 10/20\n",
            "9/9 [==============================] - 76s 8s/step - loss: 1.0123 - categorical_accuracy: 0.5500 - val_loss: 1.0498 - val_categorical_accuracy: 0.4286\n",
            "Epoch 11/20\n",
            "9/9 [==============================] - 76s 8s/step - loss: 1.0020 - categorical_accuracy: 0.5536 - val_loss: 1.0583 - val_categorical_accuracy: 0.4000\n",
            "Epoch 12/20\n",
            "9/9 [==============================] - 76s 8s/step - loss: 0.9997 - categorical_accuracy: 0.5536 - val_loss: 1.0494 - val_categorical_accuracy: 0.4571\n",
            "Epoch 13/20\n",
            "9/9 [==============================] - 78s 9s/step - loss: 0.9840 - categorical_accuracy: 0.5750 - val_loss: 1.0357 - val_categorical_accuracy: 0.4952\n",
            "Epoch 14/20\n",
            "9/9 [==============================] - 81s 9s/step - loss: 0.9879 - categorical_accuracy: 0.5571 - val_loss: 1.0440 - val_categorical_accuracy: 0.4476\n",
            "Epoch 15/20\n",
            "9/9 [==============================] - 76s 8s/step - loss: 0.9721 - categorical_accuracy: 0.5714 - val_loss: 1.0388 - val_categorical_accuracy: 0.4667\n",
            "Epoch 16/20\n",
            "9/9 [==============================] - 77s 9s/step - loss: 0.9647 - categorical_accuracy: 0.5893 - val_loss: 1.0403 - val_categorical_accuracy: 0.4857\n",
            "Epoch 17/20\n",
            "9/9 [==============================] - 76s 8s/step - loss: 0.9611 - categorical_accuracy: 0.6071 - val_loss: 1.0495 - val_categorical_accuracy: 0.4476\n",
            "Epoch 18/20\n",
            "9/9 [==============================] - 76s 8s/step - loss: 0.9573 - categorical_accuracy: 0.5821 - val_loss: 1.0419 - val_categorical_accuracy: 0.4952\n",
            "Epoch 19/20\n",
            "9/9 [==============================] - 76s 8s/step - loss: 0.9511 - categorical_accuracy: 0.6071 - val_loss: 1.0361 - val_categorical_accuracy: 0.4667\n",
            "Epoch 20/20\n",
            "9/9 [==============================] - 76s 8s/step - loss: 0.9544 - categorical_accuracy: 0.5750 - val_loss: 1.0429 - val_categorical_accuracy: 0.4476\n"
          ],
          "name": "stdout"
        },
        {
          "output_type": "display_data",
          "data": {
            "image/png": "[encoded data removed]",
            "text/plain": [
              "<Figure size 432x288 with 1 Axes>"
            ]
          },
          "metadata": {
            "tags": [],
            "needs_background": "light"
          }
        }
      ]
    },
    {
      "cell_type": "markdown",
      "metadata": {
        "id": "QEmn6hrzc62n"
      },
      "source": [
        "#VGG 19 "
      ]
    },
    {
      "cell_type": "code",
      "metadata": {
        "id": "gAbxlWqNdO0h",
        "outputId": "fa5dbc29-9b73-4867-d319-657165636a27",
        "colab": {
          "base_uri": "https://localhost:8080/",
          "height": 1000
        }
      },
      "source": [
        "import keras as keras\n",
        "\n",
        "base_model = keras.applications.VGG19(\n",
        "    weights='imagenet',  # Load weights pre-trained on ImageNet.\n",
        "    input_shape=(150, 150, 3),\n",
        "    include_top=False)  # \n",
        "\n",
        "base_model.trainable = False\n",
        "\n",
        "inputs = keras.Input(shape=(150, 150, 3))\n",
        "# We make sure that the base_model is running in inference mode here,\n",
        "# by passing `training=False`. This is important for fine-tuning, as you will\n",
        "# learn in a few paragraphs.\n",
        "x = base_model(inputs, training=False)\n",
        "# Convert features of shape `base_model.output_shape[1:]` to vectors\n",
        "x = keras.layers.GlobalAveragePooling2D()(x)\n",
        "# A Dense classifier with a 3 units \n",
        "outputs = keras.layers.Dense(3)(x)\n",
        "model = keras.Model(inputs, outputs)\n",
        "\n",
        "\n",
        "model.compile(optimizer=keras.optimizers.Adam(),\n",
        "              loss=keras.losses.CategoricalCrossentropy(from_logits=True),\n",
        "              metrics=[keras.metrics.CategoricalAccuracy()])\n",
        "\n",
        "\n",
        "model_history = model.fit(train_generator, validation_data=val_generator, epochs=20, verbose=1 )\n",
        "\n",
        "\n",
        "import matplotlib.pyplot as plt\n",
        "plt.plot(model_history.history[\"categorical_accuracy\"])\n",
        "plt.plot(model_history.history[\"val_categorical_accuracy\"])\n",
        "plt.title(\"Model Accuracy\")\n",
        "plt.ylabel(\"Accuracy\")\n",
        "plt.xlabel(\"Epochs\")\n",
        "plt.legend([\"Train\", \"Validation\"], loc=\"best\")\n",
        "plt.show()\n"
      ],
      "execution_count": 20,
      "outputs": [
        {
          "output_type": "stream",
          "text": [
            "Downloading data from https://storage.googleapis.com/tensorflow/keras-applications/vgg19/vgg19_weights_tf_dim_ordering_tf_kernels_notop.h5\n",
            "80142336/80134624 [==============================] - 1s 0us/step\n",
            "Epoch 1/20\n",
            "9/9 [==============================] - 100s 11s/step - loss: 1.2958 - categorical_accuracy: 0.3179 - val_loss: 1.1107 - val_categorical_accuracy: 0.3429\n",
            "Epoch 2/20\n",
            "9/9 [==============================] - 95s 11s/step - loss: 1.1139 - categorical_accuracy: 0.3750 - val_loss: 1.1316 - val_categorical_accuracy: 0.3619\n",
            "Epoch 3/20\n",
            "9/9 [==============================] - 95s 11s/step - loss: 1.1127 - categorical_accuracy: 0.3964 - val_loss: 1.1122 - val_categorical_accuracy: 0.3714\n",
            "Epoch 4/20\n",
            "9/9 [==============================] - 96s 11s/step - loss: 1.0854 - categorical_accuracy: 0.4000 - val_loss: 1.0876 - val_categorical_accuracy: 0.3905\n",
            "Epoch 5/20\n",
            "9/9 [==============================] - 98s 11s/step - loss: 1.0791 - categorical_accuracy: 0.3857 - val_loss: 1.0782 - val_categorical_accuracy: 0.3905\n",
            "Epoch 6/20\n",
            "9/9 [==============================] - 95s 11s/step - loss: 1.0656 - categorical_accuracy: 0.4357 - val_loss: 1.0832 - val_categorical_accuracy: 0.4000\n",
            "Epoch 7/20\n",
            "9/9 [==============================] - 100s 11s/step - loss: 1.0614 - categorical_accuracy: 0.4107 - val_loss: 1.0750 - val_categorical_accuracy: 0.4095\n",
            "Epoch 8/20\n",
            "9/9 [==============================] - 98s 11s/step - loss: 1.0491 - categorical_accuracy: 0.4500 - val_loss: 1.0667 - val_categorical_accuracy: 0.4286\n",
            "Epoch 9/20\n",
            "9/9 [==============================] - 96s 11s/step - loss: 1.0400 - categorical_accuracy: 0.4679 - val_loss: 1.0597 - val_categorical_accuracy: 0.4095\n",
            "Epoch 10/20\n",
            "9/9 [==============================] - 95s 11s/step - loss: 1.0291 - categorical_accuracy: 0.4893 - val_loss: 1.0634 - val_categorical_accuracy: 0.4190\n",
            "Epoch 11/20\n",
            "9/9 [==============================] - 96s 11s/step - loss: 1.0208 - categorical_accuracy: 0.4750 - val_loss: 1.0588 - val_categorical_accuracy: 0.4667\n",
            "Epoch 12/20\n",
            "9/9 [==============================] - 95s 11s/step - loss: 1.0129 - categorical_accuracy: 0.4964 - val_loss: 1.0568 - val_categorical_accuracy: 0.4571\n",
            "Epoch 13/20\n",
            "9/9 [==============================] - 96s 11s/step - loss: 1.0098 - categorical_accuracy: 0.5000 - val_loss: 1.0532 - val_categorical_accuracy: 0.4952\n",
            "Epoch 14/20\n",
            "9/9 [==============================] - 98s 11s/step - loss: 1.0011 - categorical_accuracy: 0.5429 - val_loss: 1.0393 - val_categorical_accuracy: 0.5048\n",
            "Epoch 15/20\n",
            "9/9 [==============================] - 96s 11s/step - loss: 0.9913 - categorical_accuracy: 0.5357 - val_loss: 1.0403 - val_categorical_accuracy: 0.5143\n",
            "Epoch 16/20\n",
            "9/9 [==============================] - 96s 11s/step - loss: 0.9850 - categorical_accuracy: 0.5571 - val_loss: 1.0467 - val_categorical_accuracy: 0.5048\n",
            "Epoch 17/20\n",
            "9/9 [==============================] - 96s 11s/step - loss: 0.9764 - categorical_accuracy: 0.5500 - val_loss: 1.0309 - val_categorical_accuracy: 0.4952\n",
            "Epoch 18/20\n",
            "9/9 [==============================] - 96s 11s/step - loss: 0.9810 - categorical_accuracy: 0.5571 - val_loss: 1.0314 - val_categorical_accuracy: 0.4952\n",
            "Epoch 19/20\n",
            "9/9 [==============================] - 95s 11s/step - loss: 0.9600 - categorical_accuracy: 0.5750 - val_loss: 1.0399 - val_categorical_accuracy: 0.5143\n",
            "Epoch 20/20\n",
            "9/9 [==============================] - 95s 11s/step - loss: 0.9576 - categorical_accuracy: 0.5679 - val_loss: 1.0430 - val_categorical_accuracy: 0.5143\n"
          ],
          "name": "stdout"
        },
        {
          "output_type": "display_data",
          "data": {
            "image/png": "[encoded data removed]",
            "text/plain": [
              "<Figure size 432x288 with 1 Axes>"
            ]
          },
          "metadata": {
            "tags": [],
            "needs_background": "light"
          }
        }
      ]
    },
    {
      "cell_type": "markdown",
      "metadata": {
        "id": "pLiZ6OVndR4y"
      },
      "source": [
        "#ResNet50"
      ]
    },
    {
      "cell_type": "code",
      "metadata": {
        "id": "2igayudmdj72",
        "outputId": "3cd300cb-4dbd-4a7e-d105-e1919fd97324",
        "colab": {
          "base_uri": "https://localhost:8080/",
          "height": 1000
        }
      },
      "source": [
        "import keras as keras\n",
        "\n",
        "base_model = keras.applications.ResNet50(\n",
        "    weights='imagenet',  # Load weights pre-trained on ImageNet.\n",
        "    input_shape=(150, 150, 3),\n",
        "    include_top=False)  # \n",
        "\n",
        "base_model.trainable = False\n",
        "\n",
        "inputs = keras.Input(shape=(150, 150, 3))\n",
        "# We make sure that the base_model is running in inference mode here,\n",
        "# by passing `training=False`. This is important for fine-tuning, as you will\n",
        "# learn in a few paragraphs.\n",
        "x = base_model(inputs, training=False)\n",
        "# Convert features of shape `base_model.output_shape[1:]` to vectors\n",
        "x = keras.layers.GlobalAveragePooling2D()(x)\n",
        "# A Dense classifier with a 3 units \n",
        "outputs = keras.layers.Dense(3)(x)\n",
        "model = keras.Model(inputs, outputs)\n",
        "\n",
        "\n",
        "model.compile(optimizer=keras.optimizers.Adam(),\n",
        "              loss=keras.losses.CategoricalCrossentropy(from_logits=True),\n",
        "              metrics=[keras.metrics.CategoricalAccuracy()])\n",
        "\n",
        "\n",
        "model_history = model.fit(train_generator, validation_data=val_generator, epochs=20, verbose=1 )\n",
        "\n",
        "\n",
        "import matplotlib.pyplot as plt\n",
        "plt.plot(model_history.history[\"categorical_accuracy\"])\n",
        "plt.plot(model_history.history[\"val_categorical_accuracy\"])\n",
        "plt.title(\"Model Accuracy\")\n",
        "plt.ylabel(\"Accuracy\")\n",
        "plt.xlabel(\"Epochs\")\n",
        "plt.legend([\"Train\", \"Validation\"], loc=\"best\")\n",
        "plt.show()\n"
      ],
      "execution_count": 21,
      "outputs": [
        {
          "output_type": "stream",
          "text": [
            "Downloading data from https://storage.googleapis.com/tensorflow/keras-applications/resnet/resnet50_weights_tf_dim_ordering_tf_kernels_notop.h5\n",
            "94773248/94765736 [==============================] - 1s 0us/step\n",
            "Epoch 1/20\n",
            "9/9 [==============================] - 27s 3s/step - loss: 1.0974 - categorical_accuracy: 0.3750 - val_loss: 1.1100 - val_categorical_accuracy: 0.3524\n",
            "Epoch 2/20\n",
            "9/9 [==============================] - 26s 3s/step - loss: 1.0982 - categorical_accuracy: 0.3929 - val_loss: 1.1026 - val_categorical_accuracy: 0.3524\n",
            "Epoch 3/20\n",
            "9/9 [==============================] - 26s 3s/step - loss: 1.0946 - categorical_accuracy: 0.4036 - val_loss: 1.0918 - val_categorical_accuracy: 0.3619\n",
            "Epoch 4/20\n",
            "9/9 [==============================] - 26s 3s/step - loss: 1.0874 - categorical_accuracy: 0.4000 - val_loss: 1.0946 - val_categorical_accuracy: 0.3619\n",
            "Epoch 5/20\n",
            "9/9 [==============================] - 26s 3s/step - loss: 1.0885 - categorical_accuracy: 0.3929 - val_loss: 1.0997 - val_categorical_accuracy: 0.3524\n",
            "Epoch 6/20\n",
            "9/9 [==============================] - 26s 3s/step - loss: 1.0755 - categorical_accuracy: 0.3929 - val_loss: 1.0897 - val_categorical_accuracy: 0.3524\n",
            "Epoch 7/20\n",
            "9/9 [==============================] - 26s 3s/step - loss: 1.0815 - categorical_accuracy: 0.3964 - val_loss: 1.0909 - val_categorical_accuracy: 0.3714\n",
            "Epoch 8/20\n",
            "9/9 [==============================] - 26s 3s/step - loss: 1.0767 - categorical_accuracy: 0.4000 - val_loss: 1.0921 - val_categorical_accuracy: 0.3524\n",
            "Epoch 9/20\n",
            "9/9 [==============================] - 26s 3s/step - loss: 1.0782 - categorical_accuracy: 0.3964 - val_loss: 1.0899 - val_categorical_accuracy: 0.3524\n",
            "Epoch 10/20\n",
            "9/9 [==============================] - 26s 3s/step - loss: 1.0821 - categorical_accuracy: 0.3536 - val_loss: 1.0877 - val_categorical_accuracy: 0.3619\n",
            "Epoch 11/20\n",
            "9/9 [==============================] - 26s 3s/step - loss: 1.0773 - categorical_accuracy: 0.3821 - val_loss: 1.0905 - val_categorical_accuracy: 0.3524\n",
            "Epoch 12/20\n",
            "9/9 [==============================] - 26s 3s/step - loss: 1.0763 - categorical_accuracy: 0.3964 - val_loss: 1.0964 - val_categorical_accuracy: 0.3524\n",
            "Epoch 13/20\n",
            "9/9 [==============================] - 26s 3s/step - loss: 1.0738 - categorical_accuracy: 0.3964 - val_loss: 1.0889 - val_categorical_accuracy: 0.3619\n",
            "Epoch 14/20\n",
            "9/9 [==============================] - 26s 3s/step - loss: 1.0779 - categorical_accuracy: 0.4536 - val_loss: 1.0870 - val_categorical_accuracy: 0.3714\n",
            "Epoch 15/20\n",
            "9/9 [==============================] - 26s 3s/step - loss: 1.0687 - categorical_accuracy: 0.4286 - val_loss: 1.0929 - val_categorical_accuracy: 0.3524\n",
            "Epoch 16/20\n",
            "9/9 [==============================] - 26s 3s/step - loss: 1.0702 - categorical_accuracy: 0.4143 - val_loss: 1.0845 - val_categorical_accuracy: 0.3714\n",
            "Epoch 17/20\n",
            "9/9 [==============================] - 26s 3s/step - loss: 1.0710 - categorical_accuracy: 0.4143 - val_loss: 1.0850 - val_categorical_accuracy: 0.3524\n",
            "Epoch 18/20\n",
            "9/9 [==============================] - 26s 3s/step - loss: 1.0697 - categorical_accuracy: 0.3964 - val_loss: 1.0913 - val_categorical_accuracy: 0.3524\n",
            "Epoch 19/20\n",
            "9/9 [==============================] - 26s 3s/step - loss: 1.0680 - categorical_accuracy: 0.4286 - val_loss: 1.0849 - val_categorical_accuracy: 0.3429\n",
            "Epoch 20/20\n",
            "9/9 [==============================] - 26s 3s/step - loss: 1.0722 - categorical_accuracy: 0.4500 - val_loss: 1.0890 - val_categorical_accuracy: 0.3333\n"
          ],
          "name": "stdout"
        },
        {
          "output_type": "display_data",
          "data": {
            "image/png": "[encoded data removed]",
            "text/plain": [
              "<Figure size 432x288 with 1 Axes>"
            ]
          },
          "metadata": {
            "tags": [],
            "needs_background": "light"
          }
        }
      ]
    },
    {
      "cell_type": "markdown",
      "metadata": {
        "id": "sdMsDIyIdlH7"
      },
      "source": [
        "#ResNet152V2"
      ]
    },
    {
      "cell_type": "code",
      "metadata": {
        "id": "xOKY4iuEiLIf",
        "outputId": "53b27a14-3334-4f43-9ed9-69f9450c40a4",
        "colab": {
          "base_uri": "https://localhost:8080/",
          "height": 1000
        }
      },
      "source": [
        "import keras as keras\n",
        "\n",
        "base_model = keras.applications.ResNet152V2(\n",
        "    weights='imagenet',  # Load weights pre-trained on ImageNet.\n",
        "    input_shape=(150, 150, 3),\n",
        "    include_top=False)  # \n",
        "\n",
        "base_model.trainable = False\n",
        "\n",
        "inputs = keras.Input(shape=(150, 150, 3))\n",
        "# We make sure that the base_model is running in inference mode here,\n",
        "# by passing `training=False`. This is important for fine-tuning, as you will\n",
        "# learn in a few paragraphs.\n",
        "x = base_model(inputs, training=False)\n",
        "# Convert features of shape `base_model.output_shape[1:]` to vectors\n",
        "x = keras.layers.GlobalAveragePooling2D()(x)\n",
        "# A Dense classifier with a 3 units \n",
        "outputs = keras.layers.Dense(3)(x)\n",
        "model = keras.Model(inputs, outputs)\n",
        "\n",
        "\n",
        "model.compile(optimizer=keras.optimizers.Adam(),\n",
        "              loss=keras.losses.CategoricalCrossentropy(from_logits=True),\n",
        "              metrics=[keras.metrics.CategoricalAccuracy()])\n",
        "\n",
        "\n",
        "model_history = model.fit(train_generator, validation_data=val_generator, epochs=20, verbose=1 )\n",
        "\n",
        "\n",
        "import matplotlib.pyplot as plt\n",
        "plt.plot(model_history.history[\"categorical_accuracy\"])\n",
        "plt.plot(model_history.history[\"val_categorical_accuracy\"])\n",
        "plt.title(\"Model Accuracy\")\n",
        "plt.ylabel(\"Accuracy\")\n",
        "plt.xlabel(\"Epochs\")\n",
        "plt.legend([\"Train\", \"Validation\"], loc=\"best\")\n",
        "plt.show()\n"
      ],
      "execution_count": 22,
      "outputs": [
        {
          "output_type": "stream",
          "text": [
            "Downloading data from https://storage.googleapis.com/tensorflow/keras-applications/resnet/resnet152v2_weights_tf_dim_ordering_tf_kernels_notop.h5\n",
            "234553344/234545216 [==============================] - 2s 0us/step\n",
            "Epoch 1/20\n",
            "9/9 [==============================] - 73s 8s/step - loss: 1.5395 - categorical_accuracy: 0.3643 - val_loss: 1.2791 - val_categorical_accuracy: 0.4190\n",
            "Epoch 2/20\n",
            "9/9 [==============================] - 68s 8s/step - loss: 1.0164 - categorical_accuracy: 0.5429 - val_loss: 1.2798 - val_categorical_accuracy: 0.3810\n",
            "Epoch 3/20\n",
            "9/9 [==============================] - 68s 8s/step - loss: 0.8230 - categorical_accuracy: 0.6357 - val_loss: 1.1478 - val_categorical_accuracy: 0.4857\n",
            "Epoch 4/20\n",
            "9/9 [==============================] - 69s 8s/step - loss: 0.6552 - categorical_accuracy: 0.7321 - val_loss: 1.1222 - val_categorical_accuracy: 0.4667\n",
            "Epoch 5/20\n",
            "9/9 [==============================] - 69s 8s/step - loss: 0.5712 - categorical_accuracy: 0.7893 - val_loss: 1.1284 - val_categorical_accuracy: 0.4857\n",
            "Epoch 6/20\n",
            "9/9 [==============================] - 68s 8s/step - loss: 0.5468 - categorical_accuracy: 0.7893 - val_loss: 1.0441 - val_categorical_accuracy: 0.5048\n",
            "Epoch 7/20\n",
            "9/9 [==============================] - 68s 8s/step - loss: 0.4901 - categorical_accuracy: 0.8321 - val_loss: 1.0295 - val_categorical_accuracy: 0.5429\n",
            "Epoch 8/20\n",
            "9/9 [==============================] - 68s 8s/step - loss: 0.4101 - categorical_accuracy: 0.8821 - val_loss: 1.0247 - val_categorical_accuracy: 0.5714\n",
            "Epoch 9/20\n",
            "9/9 [==============================] - 72s 8s/step - loss: 0.4267 - categorical_accuracy: 0.8464 - val_loss: 1.0149 - val_categorical_accuracy: 0.5333\n",
            "Epoch 10/20\n",
            "9/9 [==============================] - 69s 8s/step - loss: 0.3803 - categorical_accuracy: 0.8857 - val_loss: 1.0595 - val_categorical_accuracy: 0.5905\n",
            "Epoch 11/20\n",
            "9/9 [==============================] - 68s 8s/step - loss: 0.3547 - categorical_accuracy: 0.8929 - val_loss: 1.0520 - val_categorical_accuracy: 0.5238\n",
            "Epoch 12/20\n",
            "9/9 [==============================] - 70s 8s/step - loss: 0.3415 - categorical_accuracy: 0.8786 - val_loss: 1.0104 - val_categorical_accuracy: 0.5810\n",
            "Epoch 13/20\n",
            "9/9 [==============================] - 68s 8s/step - loss: 0.3322 - categorical_accuracy: 0.8929 - val_loss: 1.0167 - val_categorical_accuracy: 0.5619\n",
            "Epoch 14/20\n",
            "9/9 [==============================] - 68s 8s/step - loss: 0.3204 - categorical_accuracy: 0.9179 - val_loss: 0.9713 - val_categorical_accuracy: 0.5810\n",
            "Epoch 15/20\n",
            "9/9 [==============================] - 68s 8s/step - loss: 0.2912 - categorical_accuracy: 0.9107 - val_loss: 1.0596 - val_categorical_accuracy: 0.5333\n",
            "Epoch 16/20\n",
            "9/9 [==============================] - 68s 8s/step - loss: 0.2552 - categorical_accuracy: 0.9500 - val_loss: 1.0336 - val_categorical_accuracy: 0.5714\n",
            "Epoch 17/20\n",
            "9/9 [==============================] - 72s 8s/step - loss: 0.2663 - categorical_accuracy: 0.9321 - val_loss: 1.0772 - val_categorical_accuracy: 0.5524\n",
            "Epoch 18/20\n",
            "9/9 [==============================] - 68s 8s/step - loss: 0.2471 - categorical_accuracy: 0.9357 - val_loss: 1.0206 - val_categorical_accuracy: 0.5714\n",
            "Epoch 19/20\n",
            "9/9 [==============================] - 68s 8s/step - loss: 0.2513 - categorical_accuracy: 0.9321 - val_loss: 1.0764 - val_categorical_accuracy: 0.5524\n",
            "Epoch 20/20\n",
            "9/9 [==============================] - 68s 8s/step - loss: 0.2125 - categorical_accuracy: 0.9643 - val_loss: 1.0392 - val_categorical_accuracy: 0.5429\n"
          ],
          "name": "stdout"
        },
        {
          "output_type": "display_data",
          "data": {
            "image/png": "[encoded data removed]",
            "text/plain": [
              "<Figure size 432x288 with 1 Axes>"
            ]
          },
          "metadata": {
            "tags": [],
            "needs_background": "light"
          }
        }
      ]
    },
    {
      "cell_type": "markdown",
      "metadata": {
        "id": "-Ny4ePoUiYtD"
      },
      "source": [
        "#InceptionResNetV2"
      ]
    },
    {
      "cell_type": "code",
      "metadata": {
        "id": "28ycw6btibb0",
        "outputId": "697c4ec9-f3bf-4548-9f46-c80f3ea52019",
        "colab": {
          "base_uri": "https://localhost:8080/",
          "height": 1000
        }
      },
      "source": [
        "import keras as keras\n",
        "\n",
        "base_model = keras.applications.InceptionResNetV2(\n",
        "    weights='imagenet',  # Load weights pre-trained on ImageNet.\n",
        "    input_shape=(150, 150, 3),\n",
        "    include_top=False)  # \n",
        "\n",
        "base_model.trainable = False\n",
        "\n",
        "inputs = keras.Input(shape=(150, 150, 3))\n",
        "# We make sure that the base_model is running in inference mode here,\n",
        "# by passing `training=False`. This is important for fine-tuning, as you will\n",
        "# learn in a few paragraphs.\n",
        "x = base_model(inputs, training=False)\n",
        "# Convert features of shape `base_model.output_shape[1:]` to vectors\n",
        "x = keras.layers.GlobalAveragePooling2D()(x)\n",
        "# A Dense classifier with a 3 units \n",
        "outputs = keras.layers.Dense(3)(x)\n",
        "model = keras.Model(inputs, outputs)\n",
        "\n",
        "\n",
        "model.compile(optimizer=keras.optimizers.Adam(),\n",
        "              loss=keras.losses.CategoricalCrossentropy(from_logits=True),\n",
        "              metrics=[keras.metrics.CategoricalAccuracy()])\n",
        "\n",
        "\n",
        "model_history = model.fit(train_generator, validation_data=val_generator, epochs=20, verbose=1 )\n",
        "\n",
        "\n",
        "import matplotlib.pyplot as plt\n",
        "plt.plot(model_history.history[\"categorical_accuracy\"])\n",
        "plt.plot(model_history.history[\"val_categorical_accuracy\"])\n",
        "plt.title(\"Model Accuracy\")\n",
        "plt.ylabel(\"Accuracy\")\n",
        "plt.xlabel(\"Epochs\")\n",
        "plt.legend([\"Train\", \"Validation\"], loc=\"best\")\n",
        "plt.show()\n"
      ],
      "execution_count": 23,
      "outputs": [
        {
          "output_type": "stream",
          "text": [
            "Downloading data from https://storage.googleapis.com/tensorflow/keras-applications/inception_resnet_v2/inception_resnet_v2_weights_tf_dim_ordering_tf_kernels_notop.h5\n",
            "219062272/219055592 [==============================] - 2s 0us/step\n",
            "Epoch 1/20\n",
            "9/9 [==============================] - 34s 4s/step - loss: 1.5054 - categorical_accuracy: 0.4071 - val_loss: 1.4421 - val_categorical_accuracy: 0.4476\n",
            "Epoch 2/20\n",
            "9/9 [==============================] - 32s 4s/step - loss: 1.0403 - categorical_accuracy: 0.5679 - val_loss: 1.2224 - val_categorical_accuracy: 0.5143\n",
            "Epoch 3/20\n",
            "9/9 [==============================] - 31s 3s/step - loss: 0.8959 - categorical_accuracy: 0.6464 - val_loss: 1.1743 - val_categorical_accuracy: 0.5238\n",
            "Epoch 4/20\n",
            "9/9 [==============================] - 31s 3s/step - loss: 0.8553 - categorical_accuracy: 0.6536 - val_loss: 1.3339 - val_categorical_accuracy: 0.5333\n",
            "Epoch 5/20\n",
            "9/9 [==============================] - 31s 3s/step - loss: 0.8323 - categorical_accuracy: 0.6429 - val_loss: 1.1394 - val_categorical_accuracy: 0.5429\n",
            "Epoch 6/20\n",
            "9/9 [==============================] - 31s 3s/step - loss: 0.6735 - categorical_accuracy: 0.7000 - val_loss: 1.1777 - val_categorical_accuracy: 0.5048\n",
            "Epoch 7/20\n",
            "9/9 [==============================] - 31s 3s/step - loss: 0.6772 - categorical_accuracy: 0.7143 - val_loss: 1.2523 - val_categorical_accuracy: 0.4667\n",
            "Epoch 8/20\n",
            "9/9 [==============================] - 31s 3s/step - loss: 0.6043 - categorical_accuracy: 0.7464 - val_loss: 1.1490 - val_categorical_accuracy: 0.5429\n",
            "Epoch 9/20\n",
            "9/9 [==============================] - 35s 4s/step - loss: 0.6456 - categorical_accuracy: 0.7179 - val_loss: 0.9841 - val_categorical_accuracy: 0.5238\n",
            "Epoch 10/20\n",
            "9/9 [==============================] - 31s 3s/step - loss: 0.5591 - categorical_accuracy: 0.7607 - val_loss: 1.0933 - val_categorical_accuracy: 0.5524\n",
            "Epoch 11/20\n",
            "9/9 [==============================] - 32s 4s/step - loss: 0.5747 - categorical_accuracy: 0.7857 - val_loss: 1.1026 - val_categorical_accuracy: 0.5238\n",
            "Epoch 12/20\n",
            "9/9 [==============================] - 31s 3s/step - loss: 0.5345 - categorical_accuracy: 0.7964 - val_loss: 1.0692 - val_categorical_accuracy: 0.5429\n",
            "Epoch 13/20\n",
            "9/9 [==============================] - 31s 3s/step - loss: 0.5337 - categorical_accuracy: 0.7857 - val_loss: 0.9844 - val_categorical_accuracy: 0.6000\n",
            "Epoch 14/20\n",
            "9/9 [==============================] - 32s 4s/step - loss: 0.5089 - categorical_accuracy: 0.8036 - val_loss: 1.1175 - val_categorical_accuracy: 0.5238\n",
            "Epoch 15/20\n",
            "9/9 [==============================] - 31s 3s/step - loss: 0.4784 - categorical_accuracy: 0.8286 - val_loss: 1.0208 - val_categorical_accuracy: 0.5333\n",
            "Epoch 16/20\n",
            "9/9 [==============================] - 32s 4s/step - loss: 0.4782 - categorical_accuracy: 0.8143 - val_loss: 1.0179 - val_categorical_accuracy: 0.5905\n",
            "Epoch 17/20\n",
            "9/9 [==============================] - 31s 3s/step - loss: 0.4723 - categorical_accuracy: 0.8036 - val_loss: 1.1275 - val_categorical_accuracy: 0.5143\n",
            "Epoch 18/20\n",
            "9/9 [==============================] - 31s 3s/step - loss: 0.4824 - categorical_accuracy: 0.8036 - val_loss: 1.1553 - val_categorical_accuracy: 0.5810\n",
            "Epoch 19/20\n",
            "9/9 [==============================] - 31s 3s/step - loss: 0.4655 - categorical_accuracy: 0.8071 - val_loss: 1.0706 - val_categorical_accuracy: 0.5524\n",
            "Epoch 20/20\n",
            "9/9 [==============================] - 32s 4s/step - loss: 0.4297 - categorical_accuracy: 0.8357 - val_loss: 1.0310 - val_categorical_accuracy: 0.5619\n"
          ],
          "name": "stdout"
        },
        {
          "output_type": "display_data",
          "data": {
            "image/png": "[encoded data removed]",
            "text/plain": [
              "<Figure size 432x288 with 1 Axes>"
            ]
          },
          "metadata": {
            "tags": [],
            "needs_background": "light"
          }
        }
      ]
    },
    {
      "cell_type": "markdown",
      "metadata": {
        "id": "fJEYrELtieGt"
      },
      "source": [
        "#MobileNetV2"
      ]
    },
    {
      "cell_type": "code",
      "metadata": {
        "id": "-jxkfGjBihzJ"
      },
      "source": [
        "import keras as keras\n",
        "\n",
        "base_model = keras.applications.InceptionResNetV2(\n",
        "    weights='imagenet',  # Load weights pre-trained on ImageNet.\n",
        "    input_shape=(150, 150, 3),\n",
        "    include_top=False)  # \n",
        "\n",
        "base_model.trainable = False\n",
        "\n",
        "inputs = keras.Input(shape=(150, 150, 3))\n",
        "# We make sure that the base_model is running in inference mode here,\n",
        "# by passing `training=False`. This is important for fine-tuning, as you will\n",
        "# learn in a few paragraphs.\n",
        "x = base_model(inputs, training=False)\n",
        "# Convert features of shape `base_model.output_shape[1:]` to vectors\n",
        "x = keras.layers.GlobalAveragePooling2D()(x)\n",
        "# A Dense classifier with a 3 units \n",
        "outputs = keras.layers.Dense(3)(x)\n",
        "model = keras.Model(inputs, outputs)\n",
        "\n",
        "\n",
        "model.compile(optimizer=keras.optimizers.Adam(),\n",
        "              loss=keras.losses.CategoricalCrossentropy(from_logits=True),\n",
        "              metrics=[keras.metrics.CategoricalAccuracy()])\n",
        "\n",
        "\n",
        "model_history = model.fit(train_generator, validation_data=val_generator, epochs=20, verbose=1 )\n",
        "\n",
        "\n",
        "import matplotlib.pyplot as plt\n",
        "plt.plot(model_history.history[\"categorical_accuracy\"])\n",
        "plt.plot(model_history.history[\"val_categorical_accuracy\"])\n",
        "plt.title(\"Model Accuracy\")\n",
        "plt.ylabel(\"Accuracy\")\n",
        "plt.xlabel(\"Epochs\")\n",
        "plt.legend([\"Train\", \"Validation\"], loc=\"best\")\n",
        "plt.show()\n"
      ],
      "execution_count": null,
      "outputs": []
    },
    {
      "cell_type": "markdown",
      "metadata": {
        "id": "gXEzAvCuil7f"
      },
      "source": [
        "#DenseNet201"
      ]
    },
    {
      "cell_type": "code",
      "metadata": {
        "id": "oghFM9BKioBj",
        "outputId": "2deb5c62-a26f-4332-cd17-8b8a6a8606af",
        "colab": {
          "base_uri": "https://localhost:8080/",
          "height": 1000
        }
      },
      "source": [
        "import keras as keras\n",
        "\n",
        "base_model = keras.applications.DenseNet201(\n",
        "    weights='imagenet',  # Load weights pre-trained on ImageNet.\n",
        "    input_shape=(150, 150, 3),\n",
        "    include_top=False)  # \n",
        "\n",
        "base_model.trainable = False\n",
        "\n",
        "inputs = keras.Input(shape=(150, 150, 3))\n",
        "# We make sure that the base_model is running in inference mode here,\n",
        "# by passing `training=False`. This is important for fine-tuning, as you will\n",
        "# learn in a few paragraphs.\n",
        "x = base_model(inputs, training=False)\n",
        "# Convert features of shape `base_model.output_shape[1:]` to vectors\n",
        "x = keras.layers.GlobalAveragePooling2D()(x)\n",
        "# A Dense classifier with a 3 units \n",
        "outputs = keras.layers.Dense(3)(x)\n",
        "model = keras.Model(inputs, outputs)\n",
        "\n",
        "\n",
        "model.compile(optimizer=keras.optimizers.Adam(),\n",
        "              loss=keras.losses.CategoricalCrossentropy(from_logits=True),\n",
        "              metrics=[keras.metrics.CategoricalAccuracy()])\n",
        "\n",
        "\n",
        "model_history = model.fit(train_generator, validation_data=val_generator, epochs=20, verbose=1 )\n",
        "\n",
        "\n",
        "import matplotlib.pyplot as plt\n",
        "plt.plot(model_history.history[\"categorical_accuracy\"])\n",
        "plt.plot(model_history.history[\"val_categorical_accuracy\"])\n",
        "plt.title(\"Model Accuracy\")\n",
        "plt.ylabel(\"Accuracy\")\n",
        "plt.xlabel(\"Epochs\")\n",
        "plt.legend([\"Train\", \"Validation\"], loc=\"best\")\n",
        "plt.show()\n"
      ],
      "execution_count": 24,
      "outputs": [
        {
          "output_type": "stream",
          "text": [
            "Downloading data from https://storage.googleapis.com/tensorflow/keras-applications/densenet/densenet201_weights_tf_dim_ordering_tf_kernels_notop.h5\n",
            "74842112/74836368 [==============================] - 0s 0us/step\n",
            "Epoch 1/20\n",
            "9/9 [==============================] - 35s 4s/step - loss: 1.4242 - categorical_accuracy: 0.3893 - val_loss: 1.2323 - val_categorical_accuracy: 0.4381\n",
            "Epoch 2/20\n",
            "9/9 [==============================] - 32s 4s/step - loss: 1.1293 - categorical_accuracy: 0.4893 - val_loss: 1.1345 - val_categorical_accuracy: 0.4762\n",
            "Epoch 3/20\n",
            "9/9 [==============================] - 33s 4s/step - loss: 0.9197 - categorical_accuracy: 0.6036 - val_loss: 1.0322 - val_categorical_accuracy: 0.5048\n",
            "Epoch 4/20\n",
            "9/9 [==============================] - 32s 4s/step - loss: 0.7973 - categorical_accuracy: 0.6500 - val_loss: 0.9629 - val_categorical_accuracy: 0.5714\n",
            "Epoch 5/20\n",
            "9/9 [==============================] - 32s 4s/step - loss: 0.7185 - categorical_accuracy: 0.6929 - val_loss: 0.9152 - val_categorical_accuracy: 0.5429\n",
            "Epoch 6/20\n",
            "9/9 [==============================] - 36s 4s/step - loss: 0.6969 - categorical_accuracy: 0.7000 - val_loss: 0.9161 - val_categorical_accuracy: 0.5714\n",
            "Epoch 7/20\n",
            "9/9 [==============================] - 32s 4s/step - loss: 0.6132 - categorical_accuracy: 0.7500 - val_loss: 0.8660 - val_categorical_accuracy: 0.5619\n",
            "Epoch 8/20\n",
            "9/9 [==============================] - 33s 4s/step - loss: 0.5900 - categorical_accuracy: 0.7607 - val_loss: 0.8947 - val_categorical_accuracy: 0.6381\n",
            "Epoch 9/20\n",
            "9/9 [==============================] - 32s 4s/step - loss: 0.5537 - categorical_accuracy: 0.7964 - val_loss: 0.9461 - val_categorical_accuracy: 0.5524\n",
            "Epoch 10/20\n",
            "9/9 [==============================] - 32s 4s/step - loss: 0.5175 - categorical_accuracy: 0.8036 - val_loss: 0.9188 - val_categorical_accuracy: 0.5810\n",
            "Epoch 11/20\n",
            "9/9 [==============================] - 32s 4s/step - loss: 0.4959 - categorical_accuracy: 0.8143 - val_loss: 0.9175 - val_categorical_accuracy: 0.6000\n",
            "Epoch 12/20\n",
            "9/9 [==============================] - 33s 4s/step - loss: 0.4770 - categorical_accuracy: 0.8500 - val_loss: 0.8648 - val_categorical_accuracy: 0.6571\n",
            "Epoch 13/20\n",
            "9/9 [==============================] - 32s 4s/step - loss: 0.4175 - categorical_accuracy: 0.8607 - val_loss: 0.9287 - val_categorical_accuracy: 0.5524\n",
            "Epoch 14/20\n",
            "9/9 [==============================] - 32s 4s/step - loss: 0.4189 - categorical_accuracy: 0.8679 - val_loss: 0.9510 - val_categorical_accuracy: 0.6095\n",
            "Epoch 15/20\n",
            "9/9 [==============================] - 32s 4s/step - loss: 0.3966 - categorical_accuracy: 0.8679 - val_loss: 0.8860 - val_categorical_accuracy: 0.6095\n",
            "Epoch 16/20\n",
            "9/9 [==============================] - 32s 4s/step - loss: 0.3804 - categorical_accuracy: 0.8714 - val_loss: 0.9274 - val_categorical_accuracy: 0.5619\n",
            "Epoch 17/20\n",
            "9/9 [==============================] - 32s 4s/step - loss: 0.3729 - categorical_accuracy: 0.8714 - val_loss: 0.9047 - val_categorical_accuracy: 0.6190\n",
            "Epoch 18/20\n",
            "9/9 [==============================] - 32s 4s/step - loss: 0.3548 - categorical_accuracy: 0.8964 - val_loss: 0.8617 - val_categorical_accuracy: 0.6476\n",
            "Epoch 19/20\n",
            "9/9 [==============================] - 32s 4s/step - loss: 0.3356 - categorical_accuracy: 0.9000 - val_loss: 0.9014 - val_categorical_accuracy: 0.6571\n",
            "Epoch 20/20\n",
            "9/9 [==============================] - 32s 4s/step - loss: 0.3263 - categorical_accuracy: 0.8893 - val_loss: 0.8987 - val_categorical_accuracy: 0.5714\n"
          ],
          "name": "stdout"
        },
        {
          "output_type": "display_data",
          "data": {
            "image/png": "[encoded data removed]",
            "text/plain": [
              "<Figure size 432x288 with 1 Axes>"
            ]
          },
          "metadata": {
            "tags": [],
            "needs_background": "light"
          }
        }
      ]
    }
  ]
}