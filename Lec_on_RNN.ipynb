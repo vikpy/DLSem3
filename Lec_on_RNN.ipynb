{
  "nbformat": 4,
  "nbformat_minor": 0,
  "metadata": {
    "colab": {
      "name": "Lec on RNN.ipynb",
      "provenance": [],
      "authorship_tag": "ABX9TyOn49RoKLGUh93I+kzNefSJ",
      "include_colab_link": true
    },
    "kernelspec": {
      "name": "python3",
      "display_name": "Python 3"
    }
  },
  "cells": [
    {
      "cell_type": "markdown",
      "metadata": {
        "id": "view-in-github",
        "colab_type": "text"
      },
      "source": [
        "<a href=\"https://colab.research.google.com/github/vikpy/DLSem3/blob/master/Lec_on_RNN.ipynb\" target=\"_parent\"><img src=\"https://colab.research.google.com/assets/colab-badge.svg\" alt=\"Open In Colab\"/></a>"
      ]
    },
    {
      "cell_type": "code",
      "metadata": {
        "id": "XT903MpJ3M1g"
      },
      "source": [
        "import os\n",
        "import datetime\n",
        "\n",
        "import IPython\n",
        "import IPython.display\n",
        "import matplotlib as mpl\n",
        "import matplotlib.pyplot as plt\n",
        "import numpy as np\n",
        "import pandas as pd\n",
        "import seaborn as sns\n",
        "import tensorflow as tf\n",
        "\n",
        "mpl.rcParams['figure.figsize'] = (8, 6)\n",
        "mpl.rcParams['axes.grid'] = False"
      ],
      "execution_count": 2,
      "outputs": []
    },
    {
      "cell_type": "code",
      "metadata": {
        "id": "D_PR1wdYJjYo",
        "outputId": "86ff8a6b-7997-41cc-8066-5081030a2650",
        "colab": {
          "base_uri": "https://localhost:8080/",
          "height": 70
        }
      },
      "source": [
        "# Step get the dataset \n",
        "zip_path = tf.keras.utils.get_file(\n",
        "    origin='https://storage.googleapis.com/tensorflow/tf-keras-datasets/jena_climate_2009_2016.csv.zip',\n",
        "    fname='jena_climate_2009_2016.csv.zip',\n",
        "    extract=True)\n",
        "csv_path, _ = os.path.splitext(zip_path)"
      ],
      "execution_count": 3,
      "outputs": [
        {
          "output_type": "stream",
          "text": [
            "Downloading data from https://storage.googleapis.com/tensorflow/tf-keras-datasets/jena_climate_2009_2016.csv.zip\n",
            "13574144/13568290 [==============================] - 0s 0us/step\n"
          ],
          "name": "stdout"
        }
      ]
    },
    {
      "cell_type": "code",
      "metadata": {
        "id": "HgkYphLnKdhk"
      },
      "source": [
        "df = pd.read_csv(csv_path)\n",
        "# slice [start:stop:step], starting from index 5 take every 6th record.\n",
        "df = df[5::6]\n",
        "\n",
        "date_time = pd.to_datetime(df.pop('Date Time'), format='%d.%m.%Y %H:%M:%S')"
      ],
      "execution_count": 4,
      "outputs": []
    },
    {
      "cell_type": "code",
      "metadata": {
        "id": "mVxevMZrKgK2",
        "outputId": "8815d3de-b75a-4d1a-c2e4-f843e52c337b",
        "colab": {
          "base_uri": "https://localhost:8080/",
          "height": 249
        }
      },
      "source": [
        "df.head()\n"
      ],
      "execution_count": 5,
      "outputs": [
        {
          "output_type": "execute_result",
          "data": {
            "text/html": [
              "<div>\n",
              "<style scoped>\n",
              "    .dataframe tbody tr th:only-of-type {\n",
              "        vertical-align: middle;\n",
              "    }\n",
              "\n",
              "    .dataframe tbody tr th {\n",
              "        vertical-align: top;\n",
              "    }\n",
              "\n",
              "    .dataframe thead th {\n",
              "        text-align: right;\n",
              "    }\n",
              "</style>\n",
              "<table border=\"1\" class=\"dataframe\">\n",
              "  <thead>\n",
              "    <tr style=\"text-align: right;\">\n",
              "      <th></th>\n",
              "      <th>p (mbar)</th>\n",
              "      <th>T (degC)</th>\n",
              "      <th>Tpot (K)</th>\n",
              "      <th>Tdew (degC)</th>\n",
              "      <th>rh (%)</th>\n",
              "      <th>VPmax (mbar)</th>\n",
              "      <th>VPact (mbar)</th>\n",
              "      <th>VPdef (mbar)</th>\n",
              "      <th>sh (g/kg)</th>\n",
              "      <th>H2OC (mmol/mol)</th>\n",
              "      <th>rho (g/m**3)</th>\n",
              "      <th>wv (m/s)</th>\n",
              "      <th>max. wv (m/s)</th>\n",
              "      <th>wd (deg)</th>\n",
              "    </tr>\n",
              "  </thead>\n",
              "  <tbody>\n",
              "    <tr>\n",
              "      <th>5</th>\n",
              "      <td>996.50</td>\n",
              "      <td>-8.05</td>\n",
              "      <td>265.38</td>\n",
              "      <td>-8.78</td>\n",
              "      <td>94.4</td>\n",
              "      <td>3.33</td>\n",
              "      <td>3.14</td>\n",
              "      <td>0.19</td>\n",
              "      <td>1.96</td>\n",
              "      <td>3.15</td>\n",
              "      <td>1307.86</td>\n",
              "      <td>0.21</td>\n",
              "      <td>0.63</td>\n",
              "      <td>192.7</td>\n",
              "    </tr>\n",
              "    <tr>\n",
              "      <th>11</th>\n",
              "      <td>996.62</td>\n",
              "      <td>-8.88</td>\n",
              "      <td>264.54</td>\n",
              "      <td>-9.77</td>\n",
              "      <td>93.2</td>\n",
              "      <td>3.12</td>\n",
              "      <td>2.90</td>\n",
              "      <td>0.21</td>\n",
              "      <td>1.81</td>\n",
              "      <td>2.91</td>\n",
              "      <td>1312.25</td>\n",
              "      <td>0.25</td>\n",
              "      <td>0.63</td>\n",
              "      <td>190.3</td>\n",
              "    </tr>\n",
              "    <tr>\n",
              "      <th>17</th>\n",
              "      <td>996.84</td>\n",
              "      <td>-8.81</td>\n",
              "      <td>264.59</td>\n",
              "      <td>-9.66</td>\n",
              "      <td>93.5</td>\n",
              "      <td>3.13</td>\n",
              "      <td>2.93</td>\n",
              "      <td>0.20</td>\n",
              "      <td>1.83</td>\n",
              "      <td>2.94</td>\n",
              "      <td>1312.18</td>\n",
              "      <td>0.18</td>\n",
              "      <td>0.63</td>\n",
              "      <td>167.2</td>\n",
              "    </tr>\n",
              "    <tr>\n",
              "      <th>23</th>\n",
              "      <td>996.99</td>\n",
              "      <td>-9.05</td>\n",
              "      <td>264.34</td>\n",
              "      <td>-10.02</td>\n",
              "      <td>92.6</td>\n",
              "      <td>3.07</td>\n",
              "      <td>2.85</td>\n",
              "      <td>0.23</td>\n",
              "      <td>1.78</td>\n",
              "      <td>2.85</td>\n",
              "      <td>1313.61</td>\n",
              "      <td>0.10</td>\n",
              "      <td>0.38</td>\n",
              "      <td>240.0</td>\n",
              "    </tr>\n",
              "    <tr>\n",
              "      <th>29</th>\n",
              "      <td>997.46</td>\n",
              "      <td>-9.63</td>\n",
              "      <td>263.72</td>\n",
              "      <td>-10.65</td>\n",
              "      <td>92.2</td>\n",
              "      <td>2.94</td>\n",
              "      <td>2.71</td>\n",
              "      <td>0.23</td>\n",
              "      <td>1.69</td>\n",
              "      <td>2.71</td>\n",
              "      <td>1317.19</td>\n",
              "      <td>0.40</td>\n",
              "      <td>0.88</td>\n",
              "      <td>157.0</td>\n",
              "    </tr>\n",
              "  </tbody>\n",
              "</table>\n",
              "</div>"
            ],
            "text/plain": [
              "    p (mbar)  T (degC)  Tpot (K)  ...  wv (m/s)  max. wv (m/s)  wd (deg)\n",
              "5     996.50     -8.05    265.38  ...      0.21           0.63     192.7\n",
              "11    996.62     -8.88    264.54  ...      0.25           0.63     190.3\n",
              "17    996.84     -8.81    264.59  ...      0.18           0.63     167.2\n",
              "23    996.99     -9.05    264.34  ...      0.10           0.38     240.0\n",
              "29    997.46     -9.63    263.72  ...      0.40           0.88     157.0\n",
              "\n",
              "[5 rows x 14 columns]"
            ]
          },
          "metadata": {
            "tags": []
          },
          "execution_count": 5
        }
      ]
    },
    {
      "cell_type": "code",
      "metadata": {
        "id": "1W_roC2TKjew",
        "outputId": "7269afbf-af5a-4c15-fbac-854142e62d42",
        "colab": {
          "base_uri": "https://localhost:8080/",
          "height": 34
        }
      },
      "source": [
        "wv = df['wv (m/s)']\n",
        "bad_wv = wv == -9999.0\n",
        "wv[bad_wv] = 0.0\n",
        "\n",
        "max_wv = df['max. wv (m/s)']\n",
        "bad_max_wv = max_wv == -9999.0\n",
        "max_wv[bad_max_wv] = 0.0\n",
        "\n",
        "# The above inplace edits are reflected in the DataFrame\n",
        "df['wv (m/s)'].min()"
      ],
      "execution_count": 6,
      "outputs": [
        {
          "output_type": "execute_result",
          "data": {
            "text/plain": [
              "0.0"
            ]
          },
          "metadata": {
            "tags": []
          },
          "execution_count": 6
        }
      ]
    },
    {
      "cell_type": "code",
      "metadata": {
        "id": "WhED-2KqKoOR"
      },
      "source": [
        "wv = df.pop('wv (m/s)')\n",
        "max_wv = df.pop('max. wv (m/s)')\n",
        "\n",
        "# Convert to radians.\n",
        "wd_rad = df.pop('wd (deg)')*np.pi / 180\n",
        "\n",
        "# Calculate the wind x and y components.\n",
        "df['Wx'] = wv*np.cos(wd_rad)\n",
        "df['Wy'] = wv*np.sin(wd_rad)\n",
        "\n",
        "# Calculate the max wind x and y components.\n",
        "df['max Wx'] = max_wv*np.cos(wd_rad)\n",
        "df['max Wy'] = max_wv*np.sin(wd_rad)"
      ],
      "execution_count": 7,
      "outputs": []
    },
    {
      "cell_type": "code",
      "metadata": {
        "id": "hfjsWibaKrSq"
      },
      "source": [
        "timestamp_s = date_time.map(datetime.datetime.timestamp)\n",
        "day = 24*60*60\n",
        "year = (365.2425)*day\n",
        "\n",
        "df['Day sin'] = np.sin(timestamp_s * (2 * np.pi / day))\n",
        "df['Day cos'] = np.cos(timestamp_s * (2 * np.pi / day))\n",
        "df['Year sin'] = np.sin(timestamp_s * (2 * np.pi / year))\n",
        "df['Year cos'] = np.cos(timestamp_s * (2 * np.pi / year))"
      ],
      "execution_count": 9,
      "outputs": []
    },
    {
      "cell_type": "code",
      "metadata": {
        "id": "C4ZmTSPqKyu_"
      },
      "source": [
        "column_indices = {name: i for i, name in enumerate(df.columns)}\n",
        "\n",
        "n = len(df)\n",
        "train_df = df[0:int(n*0.7)]\n",
        "val_df = df[int(n*0.7):int(n*0.9)]\n",
        "test_df = df[int(n*0.9):]\n",
        "\n",
        "num_features = df.shape[1]"
      ],
      "execution_count": 10,
      "outputs": []
    },
    {
      "cell_type": "code",
      "metadata": {
        "id": "BEmXp-6xKzfe"
      },
      "source": [
        "train_mean = train_df.mean()\n",
        "train_std = train_df.std()\n",
        "\n",
        "train_df = (train_df - train_mean) / train_std\n",
        "val_df = (val_df - train_mean) / train_std\n",
        "test_df = (test_df - train_mean) / train_std"
      ],
      "execution_count": 11,
      "outputs": []
    },
    {
      "cell_type": "code",
      "metadata": {
        "id": "sJXgJxBMK3xP",
        "outputId": "86b6780e-2d33-4149-e51b-bb066c4b26f7",
        "colab": {
          "base_uri": "https://localhost:8080/",
          "height": 412
        }
      },
      "source": [
        "df_std = (df - train_mean) / train_std\n",
        "df_std = df_std.melt(var_name='Column', value_name='Normalized')\n",
        "plt.figure(figsize=(12, 6))\n",
        "ax = sns.violinplot(x='Column', y='Normalized', data=df_std)\n",
        "_ = ax.set_xticklabels(df.keys(), rotation=90)"
      ],
      "execution_count": 12,
      "outputs": [
        {
          "output_type": "display_data",
          "data": {
            "image/png": "[encoded data removed]",
            "text/plain": [
              "<Figure size 864x432 with 1 Axes>"
            ]
          },
          "metadata": {
            "tags": [],
            "needs_background": "light"
          }
        }
      ]
    },
    {
      "cell_type": "code",
      "metadata": {
        "id": "TwpTUtyKLGhW"
      },
      "source": [
        "class WindowGenerator():\n",
        "  def __init__(self, input_width, label_width, shift,\n",
        "               train_df=train_df, val_df=val_df, test_df=test_df,\n",
        "               label_columns=None):\n",
        "    # Store the raw data.\n",
        "    self.train_df = train_df\n",
        "    self.val_df = val_df\n",
        "    self.test_df = test_df\n",
        "\n",
        "    # Work out the label column indices.\n",
        "    self.label_columns = label_columns\n",
        "    if label_columns is not None:\n",
        "      self.label_columns_indices = {name: i for i, name in\n",
        "                                    enumerate(label_columns)}\n",
        "    self.column_indices = {name: i for i, name in\n",
        "                           enumerate(train_df.columns)}\n",
        "\n",
        "    # Work out the window parameters.\n",
        "    self.input_width = input_width\n",
        "    self.label_width = label_width\n",
        "    self.shift = shift\n",
        "\n",
        "    self.total_window_size = input_width + shift\n",
        "\n",
        "    self.input_slice = slice(0, input_width)\n",
        "    self.input_indices = np.arange(self.total_window_size)[self.input_slice]\n",
        "\n",
        "    self.label_start = self.total_window_size - self.label_width\n",
        "    self.labels_slice = slice(self.label_start, None)\n",
        "    self.label_indices = np.arange(self.total_window_size)[self.labels_slice]\n",
        "\n",
        "  def __repr__(self):\n",
        "    return '\\n'.join([\n",
        "        f'Total window size: {self.total_window_size}',\n",
        "        f'Input indices: {self.input_indices}',\n",
        "        f'Label indices: {self.label_indices}',\n",
        "        f'Label column name(s): {self.label_columns}'])"
      ],
      "execution_count": 13,
      "outputs": []
    },
    {
      "cell_type": "code",
      "metadata": {
        "id": "ebkz0_LiLJZH",
        "outputId": "cb534e83-bb13-4591-d10b-72a068a49336",
        "colab": {
          "base_uri": "https://localhost:8080/",
          "height": 104
        }
      },
      "source": [
        "w1 = WindowGenerator(input_width=24, label_width=1, shift=24,\n",
        "                     label_columns=['T (degC)'])\n",
        "w1"
      ],
      "execution_count": 14,
      "outputs": [
        {
          "output_type": "execute_result",
          "data": {
            "text/plain": [
              "Total window size: 48\n",
              "Input indices: [ 0  1  2  3  4  5  6  7  8  9 10 11 12 13 14 15 16 17 18 19 20 21 22 23]\n",
              "Label indices: [47]\n",
              "Label column name(s): ['T (degC)']"
            ]
          },
          "metadata": {
            "tags": []
          },
          "execution_count": 14
        }
      ]
    },
    {
      "cell_type": "code",
      "metadata": {
        "id": "BQLDP_OdLLjW",
        "outputId": "654d20a3-8ef7-45b9-9c4e-64717ddd24d1",
        "colab": {
          "base_uri": "https://localhost:8080/",
          "height": 84
        }
      },
      "source": [
        "w2 = WindowGenerator(input_width=6, label_width=1, shift=1,\n",
        "                     label_columns=['T (degC)'])\n",
        "w2"
      ],
      "execution_count": 15,
      "outputs": [
        {
          "output_type": "execute_result",
          "data": {
            "text/plain": [
              "Total window size: 7\n",
              "Input indices: [0 1 2 3 4 5]\n",
              "Label indices: [6]\n",
              "Label column name(s): ['T (degC)']"
            ]
          },
          "metadata": {
            "tags": []
          },
          "execution_count": 15
        }
      ]
    },
    {
      "cell_type": "code",
      "metadata": {
        "id": "-xNjvsugNc6N"
      },
      "source": [
        "def split_window(self, features):\n",
        "  inputs = features[:, self.input_slice, :]\n",
        "  labels = features[:, self.labels_slice, :]\n",
        "  if self.label_columns is not None:\n",
        "    labels = tf.stack(\n",
        "        [labels[:, :, self.column_indices[name]] for name in self.label_columns],\n",
        "        axis=-1)\n",
        "\n",
        "  # Slicing doesn't preserve static shape information, so set the shapes\n",
        "  # manually. This way the `tf.data.Datasets` are easier to inspect.\n",
        "  inputs.set_shape([None, self.input_width, None])\n",
        "  labels.set_shape([None, self.label_width, None])\n",
        "\n",
        "  return inputs, labels\n",
        "\n",
        "WindowGenerator.split_window = split_window"
      ],
      "execution_count": 28,
      "outputs": []
    },
    {
      "cell_type": "code",
      "metadata": {
        "id": "K4LWlkyJNAMm"
      },
      "source": [
        "def make_dataset(self, data):\n",
        "  data = np.array(data, dtype=np.float32)\n",
        "  ds = tf.keras.preprocessing.timeseries_dataset_from_array(\n",
        "      data=data,\n",
        "      targets=None,\n",
        "      sequence_length=self.total_window_size,\n",
        "      sequence_stride=1,\n",
        "      shuffle=True,\n",
        "      batch_size=32,)\n",
        "\n",
        "  ds = ds.map(self.split_window)\n",
        "\n",
        "  return ds\n",
        "\n",
        "WindowGenerator.make_dataset = make_dataset"
      ],
      "execution_count": 22,
      "outputs": []
    },
    {
      "cell_type": "code",
      "metadata": {
        "id": "Eo_6k4HGM9xC"
      },
      "source": [
        "@property\n",
        "def train(self):\n",
        "  return self.make_dataset(self.train_df)\n",
        "\n",
        "@property\n",
        "def val(self):\n",
        "  return self.make_dataset(self.val_df)\n",
        "\n",
        "@property\n",
        "def test(self):\n",
        "  return self.make_dataset(self.test_df)\n",
        "\n",
        "@property\n",
        "def example(self):\n",
        "  \"\"\"Get and cache an example batch of `inputs, labels` for plotting.\"\"\"\n",
        "  result = getattr(self, '_example', None)\n",
        "  if result is None:\n",
        "    # No example batch was found, so get one from the `.train` dataset\n",
        "    result = next(iter(self.train))\n",
        "    # And cache it for next time\n",
        "    self._example = result\n",
        "  return result\n",
        "\n",
        "WindowGenerator.train = train\n",
        "WindowGenerator.val = val\n",
        "WindowGenerator.test = test\n",
        "WindowGenerator.example = example"
      ],
      "execution_count": 25,
      "outputs": []
    },
    {
      "cell_type": "code",
      "metadata": {
        "id": "9kJrtnQsMbnN",
        "outputId": "3d3adeff-a3a2-4d83-f27a-733a53285d3d",
        "colab": {
          "base_uri": "https://localhost:8080/",
          "height": 84
        }
      },
      "source": [
        "single_step_window = WindowGenerator(\n",
        "    input_width=1, label_width=1, shift=1,\n",
        "    label_columns=['T (degC)'])\n",
        "single_step_window"
      ],
      "execution_count": 29,
      "outputs": [
        {
          "output_type": "execute_result",
          "data": {
            "text/plain": [
              "Total window size: 2\n",
              "Input indices: [0]\n",
              "Label indices: [1]\n",
              "Label column name(s): ['T (degC)']"
            ]
          },
          "metadata": {
            "tags": []
          },
          "execution_count": 29
        }
      ]
    },
    {
      "cell_type": "markdown",
      "metadata": {
        "id": "17E6zt3BLPvb"
      },
      "source": [
        "#RNN"
      ]
    },
    {
      "cell_type": "code",
      "metadata": {
        "id": "HvTH3By1LV3q"
      },
      "source": [
        "val_performance = {}\n",
        "performance = {}"
      ],
      "execution_count": 30,
      "outputs": []
    },
    {
      "cell_type": "code",
      "metadata": {
        "id": "YxkLLyNjLZyn",
        "outputId": "9590a60f-7140-4de2-c752-2a545bdee71d",
        "colab": {
          "base_uri": "https://localhost:8080/",
          "height": 373
        }
      },
      "source": [
        "simple_rnn = tf.keras.models.Sequential([\n",
        "         tf.keras.layers.SimpleRNN(units=32, return_sequences=True),\n",
        "         tf.keras.layers.Dense(units=1)                                \n",
        "]\n",
        "    \n",
        ")\n",
        "simple_rnn.compile(loss=\"mean_squared_error\", optimizer = \"adam\",\n",
        "                   metrics=[\"mean_absolute_error\"]\n",
        "                   )\n",
        "\n",
        "history = simple_rnn.fit(single_step_window.train, epochs=10,\\\n",
        "                         validation_data=single_step_window.val)\n"
      ],
      "execution_count": 34,
      "outputs": [
        {
          "output_type": "stream",
          "text": [
            "Epoch 1/10\n",
            "1534/1534 [==============================] - 6s 4ms/step - loss: 0.0396 - mean_absolute_error: 0.1189 - val_loss: 0.0098 - val_mean_absolute_error: 0.0737\n",
            "Epoch 2/10\n",
            "1534/1534 [==============================] - 6s 4ms/step - loss: 0.0090 - mean_absolute_error: 0.0694 - val_loss: 0.0084 - val_mean_absolute_error: 0.0663\n",
            "Epoch 3/10\n",
            "1534/1534 [==============================] - 6s 4ms/step - loss: 0.0082 - mean_absolute_error: 0.0657 - val_loss: 0.0077 - val_mean_absolute_error: 0.0642\n",
            "Epoch 4/10\n",
            "1534/1534 [==============================] - 6s 4ms/step - loss: 0.0079 - mean_absolute_error: 0.0645 - val_loss: 0.0076 - val_mean_absolute_error: 0.0631\n",
            "Epoch 5/10\n",
            "1534/1534 [==============================] - 6s 4ms/step - loss: 0.0077 - mean_absolute_error: 0.0633 - val_loss: 0.0075 - val_mean_absolute_error: 0.0630\n",
            "Epoch 6/10\n",
            "1534/1534 [==============================] - 6s 4ms/step - loss: 0.0075 - mean_absolute_error: 0.0623 - val_loss: 0.0073 - val_mean_absolute_error: 0.0615\n",
            "Epoch 7/10\n",
            "1534/1534 [==============================] - 6s 4ms/step - loss: 0.0074 - mean_absolute_error: 0.0620 - val_loss: 0.0076 - val_mean_absolute_error: 0.0639\n",
            "Epoch 8/10\n",
            "1534/1534 [==============================] - 6s 4ms/step - loss: 0.0074 - mean_absolute_error: 0.0619 - val_loss: 0.0088 - val_mean_absolute_error: 0.0708\n",
            "Epoch 9/10\n",
            "1534/1534 [==============================] - 6s 4ms/step - loss: 0.0073 - mean_absolute_error: 0.0613 - val_loss: 0.0073 - val_mean_absolute_error: 0.0630\n",
            "Epoch 10/10\n",
            "1534/1534 [==============================] - 6s 4ms/step - loss: 0.0072 - mean_absolute_error: 0.0609 - val_loss: 0.0070 - val_mean_absolute_error: 0.0606\n"
          ],
          "name": "stdout"
        }
      ]
    },
    {
      "cell_type": "code",
      "metadata": {
        "id": "O-V0xk2-N-6A",
        "outputId": "186f7aa1-607f-498d-875e-7cb92f7cfe98",
        "colab": {
          "base_uri": "https://localhost:8080/",
          "height": 70
        }
      },
      "source": [
        "val_performance['simple rnn'] = simple_rnn.evaluate(single_step_window.val)\n",
        "performance['simple rnn'] = simple_rnn.evaluate(single_step_window.test)"
      ],
      "execution_count": 35,
      "outputs": [
        {
          "output_type": "stream",
          "text": [
            "439/439 [==============================] - 1s 3ms/step - loss: 0.0070 - mean_absolute_error: 0.0606\n",
            "220/220 [==============================] - 1s 3ms/step - loss: 0.0070 - mean_absolute_error: 0.0612\n"
          ],
          "name": "stdout"
        }
      ]
    },
    {
      "cell_type": "code",
      "metadata": {
        "id": "M14E5h7wOTN5",
        "outputId": "030683ed-abb2-40f4-be08-b4d76fa68765",
        "colab": {
          "base_uri": "https://localhost:8080/",
          "height": 373
        }
      },
      "source": [
        "simple_rnn = tf.keras.models.Sequential([\n",
        "         tf.keras.layers.LSTM(units=32, return_sequences=True),\n",
        "         tf.keras.layers.Dense(units=1)                                \n",
        "]\n",
        "    \n",
        ")\n",
        "simple_rnn.compile(loss=\"mean_squared_error\", optimizer = \"adam\",\n",
        "                   metrics=[\"mean_absolute_error\"]\n",
        "                   )\n",
        "\n",
        "history = simple_rnn.fit(single_step_window.train, epochs=10,\\\n",
        "                         validation_data=single_step_window.val)\n"
      ],
      "execution_count": 37,
      "outputs": [
        {
          "output_type": "stream",
          "text": [
            "Epoch 1/10\n",
            "1534/1534 [==============================] - 7s 5ms/step - loss: 0.0223 - mean_absolute_error: 0.0850 - val_loss: 0.0074 - val_mean_absolute_error: 0.0621\n",
            "Epoch 2/10\n",
            "1534/1534 [==============================] - 7s 5ms/step - loss: 0.0074 - mean_absolute_error: 0.0612 - val_loss: 0.0069 - val_mean_absolute_error: 0.0598\n",
            "Epoch 3/10\n",
            "1534/1534 [==============================] - 7s 5ms/step - loss: 0.0072 - mean_absolute_error: 0.0602 - val_loss: 0.0071 - val_mean_absolute_error: 0.0608\n",
            "Epoch 4/10\n",
            "1534/1534 [==============================] - 7s 5ms/step - loss: 0.0070 - mean_absolute_error: 0.0591 - val_loss: 0.0065 - val_mean_absolute_error: 0.0579\n",
            "Epoch 5/10\n",
            "1534/1534 [==============================] - 7s 5ms/step - loss: 0.0069 - mean_absolute_error: 0.0587 - val_loss: 0.0066 - val_mean_absolute_error: 0.0581\n",
            "Epoch 6/10\n",
            "1534/1534 [==============================] - 7s 5ms/step - loss: 0.0068 - mean_absolute_error: 0.0582 - val_loss: 0.0065 - val_mean_absolute_error: 0.0574\n",
            "Epoch 7/10\n",
            "1534/1534 [==============================] - 7s 5ms/step - loss: 0.0067 - mean_absolute_error: 0.0578 - val_loss: 0.0064 - val_mean_absolute_error: 0.0572\n",
            "Epoch 8/10\n",
            "1534/1534 [==============================] - 7s 5ms/step - loss: 0.0066 - mean_absolute_error: 0.0574 - val_loss: 0.0064 - val_mean_absolute_error: 0.0567\n",
            "Epoch 9/10\n",
            "1534/1534 [==============================] - 7s 5ms/step - loss: 0.0066 - mean_absolute_error: 0.0571 - val_loss: 0.0063 - val_mean_absolute_error: 0.0561\n",
            "Epoch 10/10\n",
            "1534/1534 [==============================] - 8s 5ms/step - loss: 0.0065 - mean_absolute_error: 0.0570 - val_loss: 0.0064 - val_mean_absolute_error: 0.0568\n"
          ],
          "name": "stdout"
        }
      ]
    },
    {
      "cell_type": "markdown",
      "metadata": {
        "id": "jVoxD6TOOxyI"
      },
      "source": [
        "# Wide Window "
      ]
    },
    {
      "cell_type": "code",
      "metadata": {
        "id": "cDr6440gO-lo"
      },
      "source": [
        "val_performance ={}\n",
        "performance = {}"
      ],
      "execution_count": 41,
      "outputs": []
    },
    {
      "cell_type": "code",
      "metadata": {
        "id": "orDsHS7wO3Lx",
        "outputId": "b6d697f6-c513-47da-af18-1ab2ed9daf4e",
        "colab": {
          "base_uri": "https://localhost:8080/",
          "height": 104
        }
      },
      "source": [
        "wide_window = WindowGenerator(\n",
        "    input_width=24, label_width=24, shift=1,\n",
        "    label_columns=['T (degC)'])\n",
        "\n",
        "wide_window"
      ],
      "execution_count": 42,
      "outputs": [
        {
          "output_type": "execute_result",
          "data": {
            "text/plain": [
              "Total window size: 25\n",
              "Input indices: [ 0  1  2  3  4  5  6  7  8  9 10 11 12 13 14 15 16 17 18 19 20 21 22 23]\n",
              "Label indices: [ 1  2  3  4  5  6  7  8  9 10 11 12 13 14 15 16 17 18 19 20 21 22 23 24]\n",
              "Label column name(s): ['T (degC)']"
            ]
          },
          "metadata": {
            "tags": []
          },
          "execution_count": 42
        }
      ]
    },
    {
      "cell_type": "code",
      "metadata": {
        "id": "SELP6o3vO5lk",
        "outputId": "81265716-ba84-42b2-b9f0-3473ae63eb60",
        "colab": {
          "base_uri": "https://localhost:8080/",
          "height": 406
        }
      },
      "source": [
        "simple_gru = tf.keras.models.Sequential([\n",
        "                               tf.keras.layers.GRU(units=32, return_sequences=True),\n",
        "                               tf.keras.layers.Dense(units=1)   \n",
        "])\n",
        "\n",
        "simple_gru.compile(loss=\"mean_squared_error\", optimizer=\"adam\", metrics=['mean_absolute_error'])\n",
        "\n",
        "history = simple_gru.fit(wide_window.train, epochs=10, validation_data=wide_window.val)\n",
        "\n",
        "val_performance['simple gru'] = simple_gru.evaluate(wide_window.val)\n",
        "performance['simple gru'] = simple_gru.evaluate(wide_window.test)"
      ],
      "execution_count": 44,
      "outputs": [
        {
          "output_type": "stream",
          "text": [
            "Epoch 1/10\n",
            "1533/1533 [==============================] - 20s 13ms/step - loss: 0.0125 - mean_absolute_error: 0.0723 - val_loss: 0.0063 - val_mean_absolute_error: 0.0557\n",
            "Epoch 2/10\n",
            "1533/1533 [==============================] - 20s 13ms/step - loss: 0.0063 - mean_absolute_error: 0.0556 - val_loss: 0.0059 - val_mean_absolute_error: 0.0535\n",
            "Epoch 3/10\n",
            "1533/1533 [==============================] - 20s 13ms/step - loss: 0.0060 - mean_absolute_error: 0.0539 - val_loss: 0.0057 - val_mean_absolute_error: 0.0525\n",
            "Epoch 4/10\n",
            "1533/1533 [==============================] - 20s 13ms/step - loss: 0.0058 - mean_absolute_error: 0.0529 - val_loss: 0.0058 - val_mean_absolute_error: 0.0530\n",
            "Epoch 5/10\n",
            "1533/1533 [==============================] - 20s 13ms/step - loss: 0.0057 - mean_absolute_error: 0.0523 - val_loss: 0.0056 - val_mean_absolute_error: 0.0515\n",
            "Epoch 6/10\n",
            "1533/1533 [==============================] - 20s 13ms/step - loss: 0.0056 - mean_absolute_error: 0.0517 - val_loss: 0.0056 - val_mean_absolute_error: 0.0515\n",
            "Epoch 7/10\n",
            "1533/1533 [==============================] - 21s 14ms/step - loss: 0.0055 - mean_absolute_error: 0.0513 - val_loss: 0.0057 - val_mean_absolute_error: 0.0521\n",
            "Epoch 8/10\n",
            "1533/1533 [==============================] - 20s 13ms/step - loss: 0.0055 - mean_absolute_error: 0.0509 - val_loss: 0.0056 - val_mean_absolute_error: 0.0517\n",
            "Epoch 9/10\n",
            "1533/1533 [==============================] - 20s 13ms/step - loss: 0.0054 - mean_absolute_error: 0.0508 - val_loss: 0.0055 - val_mean_absolute_error: 0.0510\n",
            "Epoch 10/10\n",
            "1533/1533 [==============================] - 20s 13ms/step - loss: 0.0054 - mean_absolute_error: 0.0506 - val_loss: 0.0055 - val_mean_absolute_error: 0.0511\n",
            "438/438 [==============================] - 2s 5ms/step - loss: 0.0055 - mean_absolute_error: 0.0511\n",
            "219/219 [==============================] - 1s 5ms/step - loss: 0.0055 - mean_absolute_error: 0.0514\n"
          ],
          "name": "stdout"
        }
      ]
    },
    {
      "cell_type": "code",
      "metadata": {
        "id": "G2ZyN3TgPVca",
        "outputId": "60df8d85-27da-47b1-ddb1-a5435a4ee939",
        "colab": {
          "base_uri": "https://localhost:8080/",
          "height": 218
        }
      },
      "source": [
        "simple_gru.summary()"
      ],
      "execution_count": 45,
      "outputs": [
        {
          "output_type": "stream",
          "text": [
            "Model: \"sequential_14\"\n",
            "_________________________________________________________________\n",
            "Layer (type)                 Output Shape              Param #   \n",
            "=================================================================\n",
            "gru_3 (GRU)                  (None, 24, 32)            5088      \n",
            "_________________________________________________________________\n",
            "dense_14 (Dense)             (None, 24, 1)             33        \n",
            "=================================================================\n",
            "Total params: 5,121\n",
            "Trainable params: 5,121\n",
            "Non-trainable params: 0\n",
            "_________________________________________________________________\n"
          ],
          "name": "stdout"
        }
      ]
    },
    {
      "cell_type": "code",
      "metadata": {
        "id": "wD9BbH6ZQA8r",
        "outputId": "fa1b2192-a0b2-41d1-d5a6-a96e938102e4",
        "colab": {
          "base_uri": "https://localhost:8080/",
          "height": 406
        }
      },
      "source": [
        "simple_lstm = tf.keras.models.Sequential([\n",
        "                               tf.keras.layers.LSTM(units=32, return_sequences=True),\n",
        "                               tf.keras.layers.Dense(units=1)   \n",
        "])\n",
        "\n",
        "simple_lstm.compile(loss=\"mean_squared_error\", optimizer=\"adam\", metrics=['mean_absolute_error'])\n",
        "\n",
        "history = simple_lstm.fit(wide_window.train, epochs=10, validation_data=wide_window.val)\n",
        "\n",
        "val_performance['simple lstm'] = simple_lstm.evaluate(wide_window.val)\n",
        "performance['simple lstm'] = simple_lstm.evaluate(wide_window.test)"
      ],
      "execution_count": 46,
      "outputs": [
        {
          "output_type": "stream",
          "text": [
            "Epoch 1/10\n",
            "1533/1533 [==============================] - 20s 13ms/step - loss: 0.0273 - mean_absolute_error: 0.0915 - val_loss: 0.0065 - val_mean_absolute_error: 0.0569\n",
            "Epoch 2/10\n",
            "1533/1533 [==============================] - 20s 13ms/step - loss: 0.0064 - mean_absolute_error: 0.0558 - val_loss: 0.0059 - val_mean_absolute_error: 0.0535\n",
            "Epoch 3/10\n",
            "1533/1533 [==============================] - 20s 13ms/step - loss: 0.0060 - mean_absolute_error: 0.0537 - val_loss: 0.0058 - val_mean_absolute_error: 0.0530\n",
            "Epoch 4/10\n",
            "1533/1533 [==============================] - 20s 13ms/step - loss: 0.0058 - mean_absolute_error: 0.0526 - val_loss: 0.0058 - val_mean_absolute_error: 0.0526\n",
            "Epoch 5/10\n",
            "1533/1533 [==============================] - 20s 13ms/step - loss: 0.0056 - mean_absolute_error: 0.0519 - val_loss: 0.0056 - val_mean_absolute_error: 0.0516\n",
            "Epoch 6/10\n",
            "1533/1533 [==============================] - 20s 13ms/step - loss: 0.0055 - mean_absolute_error: 0.0513 - val_loss: 0.0056 - val_mean_absolute_error: 0.0516\n",
            "Epoch 7/10\n",
            "1533/1533 [==============================] - 20s 13ms/step - loss: 0.0054 - mean_absolute_error: 0.0508 - val_loss: 0.0056 - val_mean_absolute_error: 0.0510\n",
            "Epoch 8/10\n",
            "1533/1533 [==============================] - 20s 13ms/step - loss: 0.0054 - mean_absolute_error: 0.0505 - val_loss: 0.0055 - val_mean_absolute_error: 0.0509\n",
            "Epoch 9/10\n",
            "1533/1533 [==============================] - 20s 13ms/step - loss: 0.0053 - mean_absolute_error: 0.0501 - val_loss: 0.0055 - val_mean_absolute_error: 0.0511\n",
            "Epoch 10/10\n",
            "1533/1533 [==============================] - 20s 13ms/step - loss: 0.0052 - mean_absolute_error: 0.0499 - val_loss: 0.0055 - val_mean_absolute_error: 0.0507\n",
            "438/438 [==============================] - 2s 5ms/step - loss: 0.0055 - mean_absolute_error: 0.0507\n",
            "219/219 [==============================] - 1s 5ms/step - loss: 0.0055 - mean_absolute_error: 0.0516\n"
          ],
          "name": "stdout"
        }
      ]
    },
    {
      "cell_type": "code",
      "metadata": {
        "id": "TzOxkD6jQIiy",
        "outputId": "d2a9844f-d449-436c-c46b-d1967d6d2553",
        "colab": {
          "base_uri": "https://localhost:8080/",
          "height": 406
        }
      },
      "source": [
        "simple_rnn = tf.keras.models.Sequential([\n",
        "                               tf.keras.layers.LSTM(units=32, return_sequences=True),\n",
        "                               tf.keras.layers.Dense(units=1)   \n",
        "])\n",
        "\n",
        "simple_rnn.compile(loss=\"mean_squared_error\", optimizer=\"adam\", metrics=['mean_absolute_error'])\n",
        "\n",
        "history = simple_rnn.fit(wide_window.train, epochs=10, validation_data=wide_window.val)\n",
        "\n",
        "val_performance['simple rnn'] = simple_lstm.evaluate(wide_window.val)\n",
        "performance['simple rnn'] = simple_lstm.evaluate(wide_window.test)"
      ],
      "execution_count": 47,
      "outputs": [
        {
          "output_type": "stream",
          "text": [
            "Epoch 1/10\n",
            "1533/1533 [==============================] - 20s 13ms/step - loss: 0.0182 - mean_absolute_error: 0.0821 - val_loss: 0.0064 - val_mean_absolute_error: 0.0564\n",
            "Epoch 2/10\n",
            "1533/1533 [==============================] - 21s 13ms/step - loss: 0.0062 - mean_absolute_error: 0.0551 - val_loss: 0.0059 - val_mean_absolute_error: 0.0536\n",
            "Epoch 3/10\n",
            "1533/1533 [==============================] - 20s 13ms/step - loss: 0.0059 - mean_absolute_error: 0.0532 - val_loss: 0.0057 - val_mean_absolute_error: 0.0526\n",
            "Epoch 4/10\n",
            "1533/1533 [==============================] - 20s 13ms/step - loss: 0.0058 - mean_absolute_error: 0.0524 - val_loss: 0.0056 - val_mean_absolute_error: 0.0516\n",
            "Epoch 5/10\n",
            "1533/1533 [==============================] - 20s 13ms/step - loss: 0.0056 - mean_absolute_error: 0.0518 - val_loss: 0.0056 - val_mean_absolute_error: 0.0514\n",
            "Epoch 6/10\n",
            "1533/1533 [==============================] - 20s 13ms/step - loss: 0.0055 - mean_absolute_error: 0.0513 - val_loss: 0.0056 - val_mean_absolute_error: 0.0522\n",
            "Epoch 7/10\n",
            "1533/1533 [==============================] - 20s 13ms/step - loss: 0.0054 - mean_absolute_error: 0.0509 - val_loss: 0.0056 - val_mean_absolute_error: 0.0515\n",
            "Epoch 8/10\n",
            "1533/1533 [==============================] - 20s 13ms/step - loss: 0.0054 - mean_absolute_error: 0.0506 - val_loss: 0.0055 - val_mean_absolute_error: 0.0510\n",
            "Epoch 9/10\n",
            "1533/1533 [==============================] - 20s 13ms/step - loss: 0.0053 - mean_absolute_error: 0.0503 - val_loss: 0.0056 - val_mean_absolute_error: 0.0518\n",
            "Epoch 10/10\n",
            "1533/1533 [==============================] - 20s 13ms/step - loss: 0.0053 - mean_absolute_error: 0.0501 - val_loss: 0.0055 - val_mean_absolute_error: 0.0509\n",
            "438/438 [==============================] - 2s 5ms/step - loss: 0.0055 - mean_absolute_error: 0.0507\n",
            "219/219 [==============================] - 1s 5ms/step - loss: 0.0055 - mean_absolute_error: 0.0516\n"
          ],
          "name": "stdout"
        }
      ]
    },
    {
      "cell_type": "code",
      "metadata": {
        "id": "_SLhtoq8QhoW",
        "outputId": "6ae5fa99-4a31-422a-e058-0bbdbabe1586",
        "colab": {
          "base_uri": "https://localhost:8080/",
          "height": 412
        }
      },
      "source": [
        "x = np.arange(len(performance))\n",
        "width = 0.3\n",
        "metric_name = 'mean_absolute_error'\n",
        "metric_index = simple_rnn.metrics_names.index('mean_absolute_error')\n",
        "val_mae = [v[metric_index] for v in val_performance.values()]\n",
        "test_mae = [v[metric_index] for v in performance.values()]\n",
        "\n",
        "plt.ylabel('mean_absolute_error [T (degC), normalized]')\n",
        "plt.bar(x - 0.17, val_mae, width, label='Validation')\n",
        "plt.bar(x + 0.17, test_mae, width, label='Test')\n",
        "plt.xticks(ticks=x, labels=performance.keys(),\n",
        "           rotation=45)\n",
        "_ = plt.legend()\n"
      ],
      "execution_count": 48,
      "outputs": [
        {
          "output_type": "display_data",
          "data": {
            "image/png": "[encoded data removed]",
            "text/plain": [
              "<Figure size 576x432 with 1 Axes>"
            ]
          },
          "metadata": {
            "tags": [],
            "needs_background": "light"
          }
        }
      ]
    },
    {
      "cell_type": "code",
      "metadata": {
        "id": "eFuuC0V-ScAW"
      },
      "source": [
        "single_step_window = WindowGenerator(\n",
        "    # `WindowGenerator` returns all features as labels if you \n",
        "    # don't set the `label_columns` argument.\n",
        "    input_width=1, label_width=1, shift=1)\n",
        "\n",
        "wide_window = WindowGenerator(\n",
        "    input_width=24, label_width=24, shift=1)"
      ],
      "execution_count": 49,
      "outputs": []
    },
    {
      "cell_type": "code",
      "metadata": {
        "id": "eks19PLTS1AM",
        "outputId": "fe40be96-c0d7-4114-c902-0201dde9bc00",
        "colab": {
          "base_uri": "https://localhost:8080/",
          "height": 34
        }
      },
      "source": [
        "num_features"
      ],
      "execution_count": 51,
      "outputs": [
        {
          "output_type": "execute_result",
          "data": {
            "text/plain": [
              "19"
            ]
          },
          "metadata": {
            "tags": []
          },
          "execution_count": 51
        }
      ]
    },
    {
      "cell_type": "code",
      "metadata": {
        "id": "nqYfcZvOSzHV",
        "outputId": "858afcfa-d3ad-4c1b-d315-4e9286e0438e",
        "colab": {
          "base_uri": "https://localhost:8080/",
          "height": 406
        }
      },
      "source": [
        "simple_rnn = tf.keras.models.Sequential([\n",
        "                               tf.keras.layers.SimpleRNN(units=32, return_sequences=True),\n",
        "                               tf.keras.layers.Dense(units=num_features)   \n",
        "])\n",
        "\n",
        "simple_rnn.compile(loss=\"mean_squared_error\", optimizer=\"adam\", metrics=['mean_absolute_error'])\n",
        "\n",
        "history = simple_rnn.fit(single_step_window.train, epochs=10, validation_data=single_step_window.val)\n",
        "\n",
        "val_performance['simple rnn'] = simple_rnn.evaluate(single_step_window.val)\n",
        "performance['simple rnn'] = simple_rnn.evaluate(single_step_window.test)"
      ],
      "execution_count": 50,
      "outputs": [
        {
          "output_type": "stream",
          "text": [
            "Epoch 1/10\n",
            "1534/1534 [==============================] - 7s 4ms/step - loss: 0.1375 - mean_absolute_error: 0.2217 - val_loss: 0.0784 - val_mean_absolute_error: 0.1560\n",
            "Epoch 2/10\n",
            "1534/1534 [==============================] - 6s 4ms/step - loss: 0.0763 - mean_absolute_error: 0.1492 - val_loss: 0.0744 - val_mean_absolute_error: 0.1441\n",
            "Epoch 3/10\n",
            "1534/1534 [==============================] - 6s 4ms/step - loss: 0.0740 - mean_absolute_error: 0.1428 - val_loss: 0.0729 - val_mean_absolute_error: 0.1400\n",
            "Epoch 4/10\n",
            "1534/1534 [==============================] - 6s 4ms/step - loss: 0.0730 - mean_absolute_error: 0.1398 - val_loss: 0.0722 - val_mean_absolute_error: 0.1374\n",
            "Epoch 5/10\n",
            "1534/1534 [==============================] - 6s 4ms/step - loss: 0.0723 - mean_absolute_error: 0.1379 - val_loss: 0.0717 - val_mean_absolute_error: 0.1366\n",
            "Epoch 6/10\n",
            "1534/1534 [==============================] - 6s 4ms/step - loss: 0.0719 - mean_absolute_error: 0.1366 - val_loss: 0.0713 - val_mean_absolute_error: 0.1345\n",
            "Epoch 7/10\n",
            "1534/1534 [==============================] - 6s 4ms/step - loss: 0.0715 - mean_absolute_error: 0.1355 - val_loss: 0.0710 - val_mean_absolute_error: 0.1332\n",
            "Epoch 8/10\n",
            "1534/1534 [==============================] - 6s 4ms/step - loss: 0.0713 - mean_absolute_error: 0.1349 - val_loss: 0.0706 - val_mean_absolute_error: 0.1333\n",
            "Epoch 9/10\n",
            "1534/1534 [==============================] - 7s 4ms/step - loss: 0.0710 - mean_absolute_error: 0.1340 - val_loss: 0.0709 - val_mean_absolute_error: 0.1335\n",
            "Epoch 10/10\n",
            "1534/1534 [==============================] - 6s 4ms/step - loss: 0.0708 - mean_absolute_error: 0.1337 - val_loss: 0.0706 - val_mean_absolute_error: 0.1322\n",
            "439/439 [==============================] - 1s 3ms/step - loss: 0.0706 - mean_absolute_error: 0.1322\n",
            "220/220 [==============================] - 1s 3ms/step - loss: 0.0712 - mean_absolute_error: 0.1333\n"
          ],
          "name": "stdout"
        }
      ]
    },
    {
      "cell_type": "code",
      "metadata": {
        "id": "5wsyOvgZTAwl",
        "outputId": "a3c64afe-08c4-4938-9d44-8e74e4a5dc28",
        "colab": {
          "base_uri": "https://localhost:8080/",
          "height": 406
        }
      },
      "source": [
        "simple_lstm = tf.keras.models.Sequential([\n",
        "                               tf.keras.layers.LSTM(units=32, return_sequences=True),\n",
        "                               tf.keras.layers.Dense(units=num_features)   \n",
        "])\n",
        "\n",
        "simple_lstm.compile(loss=\"mean_squared_error\", optimizer=\"adam\", metrics=['mean_absolute_error'])\n",
        "\n",
        "history = simple_lstm.fit(single_step_window.train, epochs=10, validation_data=single_step_window.val)\n",
        "\n",
        "val_performance['simple lstm'] = simple_lstm.evaluate(single_step_window.val)\n",
        "performance['simple lstm'] = simple_lstm.evaluate(single_step_window.test)"
      ],
      "execution_count": 52,
      "outputs": [
        {
          "output_type": "stream",
          "text": [
            "Epoch 1/10\n",
            "1534/1534 [==============================] - 8s 5ms/step - loss: 0.1730 - mean_absolute_error: 0.2625 - val_loss: 0.0805 - val_mean_absolute_error: 0.1659\n",
            "Epoch 2/10\n",
            "1534/1534 [==============================] - 7s 5ms/step - loss: 0.0762 - mean_absolute_error: 0.1546 - val_loss: 0.0732 - val_mean_absolute_error: 0.1465\n",
            "Epoch 3/10\n",
            "1534/1534 [==============================] - 7s 5ms/step - loss: 0.0725 - mean_absolute_error: 0.1438 - val_loss: 0.0714 - val_mean_absolute_error: 0.1412\n",
            "Epoch 4/10\n",
            "1534/1534 [==============================] - 7s 5ms/step - loss: 0.0713 - mean_absolute_error: 0.1395 - val_loss: 0.0704 - val_mean_absolute_error: 0.1381\n",
            "Epoch 5/10\n",
            "1534/1534 [==============================] - 7s 5ms/step - loss: 0.0705 - mean_absolute_error: 0.1370 - val_loss: 0.0698 - val_mean_absolute_error: 0.1353\n",
            "Epoch 6/10\n",
            "1534/1534 [==============================] - 7s 5ms/step - loss: 0.0702 - mean_absolute_error: 0.1356 - val_loss: 0.0694 - val_mean_absolute_error: 0.1343\n",
            "Epoch 7/10\n",
            "1534/1534 [==============================] - 7s 5ms/step - loss: 0.0698 - mean_absolute_error: 0.1342 - val_loss: 0.0695 - val_mean_absolute_error: 0.1344\n",
            "Epoch 8/10\n",
            "1534/1534 [==============================] - 7s 5ms/step - loss: 0.0696 - mean_absolute_error: 0.1335 - val_loss: 0.0691 - val_mean_absolute_error: 0.1331\n",
            "Epoch 9/10\n",
            "1534/1534 [==============================] - 7s 5ms/step - loss: 0.0694 - mean_absolute_error: 0.1327 - val_loss: 0.0688 - val_mean_absolute_error: 0.1317\n",
            "Epoch 10/10\n",
            "1534/1534 [==============================] - 7s 5ms/step - loss: 0.0691 - mean_absolute_error: 0.1321 - val_loss: 0.0689 - val_mean_absolute_error: 0.1313\n",
            "439/439 [==============================] - 1s 3ms/step - loss: 0.0689 - mean_absolute_error: 0.1313\n",
            "220/220 [==============================] - 1s 3ms/step - loss: 0.0696 - mean_absolute_error: 0.1328\n"
          ],
          "name": "stdout"
        }
      ]
    },
    {
      "cell_type": "code",
      "metadata": {
        "id": "gpW20mq2U4K5",
        "outputId": "6c888d4f-0387-4edc-abfd-84dec03c8050",
        "colab": {
          "base_uri": "https://localhost:8080/",
          "height": 406
        }
      },
      "source": [
        "simple_gru = tf.keras.models.Sequential([\n",
        "                               tf.keras.layers.GRU(units=32, return_sequences=True),\n",
        "                               tf.keras.layers.Dense(units=num_features)   \n",
        "])\n",
        "\n",
        "simple_gru.compile(loss=\"mean_squared_error\", optimizer=\"adam\", metrics=['mean_absolute_error'])\n",
        "\n",
        "history = simple_gru.fit(single_step_window.train, epochs=10, validation_data=single_step_window.val)\n",
        "\n",
        "val_performance['simple gru'] = simple_gru.evaluate(single_step_window.val)\n",
        "performance['simple gru'] = simple_lstm.evaluate(single_step_window.test)"
      ],
      "execution_count": 54,
      "outputs": [
        {
          "output_type": "stream",
          "text": [
            "Epoch 1/10\n",
            "1534/1534 [==============================] - 7s 5ms/step - loss: 0.1343 - mean_absolute_error: 0.2186 - val_loss: 0.0743 - val_mean_absolute_error: 0.1482\n",
            "Epoch 2/10\n",
            "1534/1534 [==============================] - 7s 5ms/step - loss: 0.0733 - mean_absolute_error: 0.1445 - val_loss: 0.0713 - val_mean_absolute_error: 0.1391\n",
            "Epoch 3/10\n",
            "1534/1534 [==============================] - 7s 5ms/step - loss: 0.0716 - mean_absolute_error: 0.1388 - val_loss: 0.0706 - val_mean_absolute_error: 0.1359\n",
            "Epoch 4/10\n",
            "1534/1534 [==============================] - 7s 5ms/step - loss: 0.0708 - mean_absolute_error: 0.1361 - val_loss: 0.0698 - val_mean_absolute_error: 0.1335\n",
            "Epoch 5/10\n",
            "1534/1534 [==============================] - 7s 5ms/step - loss: 0.0702 - mean_absolute_error: 0.1341 - val_loss: 0.0695 - val_mean_absolute_error: 0.1316\n",
            "Epoch 6/10\n",
            "1534/1534 [==============================] - 8s 5ms/step - loss: 0.0698 - mean_absolute_error: 0.1329 - val_loss: 0.0688 - val_mean_absolute_error: 0.1309\n",
            "Epoch 7/10\n",
            "1534/1534 [==============================] - 7s 5ms/step - loss: 0.0695 - mean_absolute_error: 0.1322 - val_loss: 0.0687 - val_mean_absolute_error: 0.1301\n",
            "Epoch 8/10\n",
            "1534/1534 [==============================] - 7s 5ms/step - loss: 0.0693 - mean_absolute_error: 0.1315 - val_loss: 0.0687 - val_mean_absolute_error: 0.1308\n",
            "Epoch 9/10\n",
            "1534/1534 [==============================] - 7s 5ms/step - loss: 0.0690 - mean_absolute_error: 0.1308 - val_loss: 0.0682 - val_mean_absolute_error: 0.1297\n",
            "Epoch 10/10\n",
            "1534/1534 [==============================] - 7s 5ms/step - loss: 0.0688 - mean_absolute_error: 0.1305 - val_loss: 0.0682 - val_mean_absolute_error: 0.1293\n",
            "439/439 [==============================] - 1s 3ms/step - loss: 0.0682 - mean_absolute_error: 0.1293\n",
            "220/220 [==============================] - 1s 3ms/step - loss: 0.0696 - mean_absolute_error: 0.1328\n"
          ],
          "name": "stdout"
        }
      ]
    },
    {
      "cell_type": "code",
      "metadata": {
        "id": "3yLTOm_iVFl3",
        "outputId": "81f2b626-868a-40ee-cced-8af4de486011",
        "colab": {
          "base_uri": "https://localhost:8080/",
          "height": 54
        }
      },
      "source": [
        "single_step_window.train"
      ],
      "execution_count": 55,
      "outputs": [
        {
          "output_type": "execute_result",
          "data": {
            "text/plain": [
              "<MapDataset shapes: ((None, 1, 19), (None, 1, 19)), types: (tf.float32, tf.float32)>"
            ]
          },
          "metadata": {
            "tags": []
          },
          "execution_count": 55
        }
      ]
    },
    {
      "cell_type": "code",
      "metadata": {
        "id": "gykvCv0aWgMD"
      },
      "source": [
        "# Wide Window multiple output\n",
        "wide_window = WindowGenerator(\n",
        "    input_width=24, label_width=24, shift=1)"
      ],
      "execution_count": 56,
      "outputs": []
    },
    {
      "cell_type": "code",
      "metadata": {
        "id": "_Q7WX5e5WlF0",
        "outputId": "199d6a18-7646-42f0-8c62-25bade1571e1",
        "colab": {
          "base_uri": "https://localhost:8080/",
          "height": 104
        }
      },
      "source": [
        "wide_window"
      ],
      "execution_count": 57,
      "outputs": [
        {
          "output_type": "execute_result",
          "data": {
            "text/plain": [
              "Total window size: 25\n",
              "Input indices: [ 0  1  2  3  4  5  6  7  8  9 10 11 12 13 14 15 16 17 18 19 20 21 22 23]\n",
              "Label indices: [ 1  2  3  4  5  6  7  8  9 10 11 12 13 14 15 16 17 18 19 20 21 22 23 24]\n",
              "Label column name(s): None"
            ]
          },
          "metadata": {
            "tags": []
          },
          "execution_count": 57
        }
      ]
    },
    {
      "cell_type": "code",
      "metadata": {
        "id": "JGRtuPCYWnXN",
        "outputId": "c9e771a2-a4fb-4c72-d2b1-ceb0e30f2e3d",
        "colab": {
          "base_uri": "https://localhost:8080/",
          "height": 406
        }
      },
      "source": [
        "simple_rnn = tf.keras.models.Sequential([\n",
        "                               tf.keras.layers.SimpleRNN(units=32, return_sequences=True),\n",
        "                               tf.keras.layers.Dense(units=num_features)   \n",
        "])\n",
        "\n",
        "simple_rnn.compile(loss=\"mean_squared_error\", optimizer=\"adam\", metrics=['mean_absolute_error'])\n",
        "\n",
        "history = simple_rnn.fit(wide_window.train, epochs=10, validation_data=wide_window.val)\n",
        "\n",
        "val_performance['simple rnn'] = simple_rnn.evaluate(wide_window.val)\n",
        "performance['simple rnn'] = simple_rnn.evaluate(wide_window.test)"
      ],
      "execution_count": 59,
      "outputs": [
        {
          "output_type": "stream",
          "text": [
            "Epoch 1/10\n",
            "1533/1533 [==============================] - 12s 8ms/step - loss: 0.1338 - mean_absolute_error: 0.2180 - val_loss: 0.0716 - val_mean_absolute_error: 0.1442\n",
            "Epoch 2/10\n",
            "1533/1533 [==============================] - 12s 8ms/step - loss: 0.0698 - mean_absolute_error: 0.1390 - val_loss: 0.0675 - val_mean_absolute_error: 0.1335\n",
            "Epoch 3/10\n",
            "1533/1533 [==============================] - 12s 8ms/step - loss: 0.0674 - mean_absolute_error: 0.1325 - val_loss: 0.0659 - val_mean_absolute_error: 0.1295\n",
            "Epoch 4/10\n",
            "1533/1533 [==============================] - 12s 8ms/step - loss: 0.0663 - mean_absolute_error: 0.1295 - val_loss: 0.0653 - val_mean_absolute_error: 0.1279\n",
            "Epoch 5/10\n",
            "1533/1533 [==============================] - 11s 7ms/step - loss: 0.0656 - mean_absolute_error: 0.1278 - val_loss: 0.0647 - val_mean_absolute_error: 0.1262\n",
            "Epoch 6/10\n",
            "1533/1533 [==============================] - 11s 7ms/step - loss: 0.0651 - mean_absolute_error: 0.1266 - val_loss: 0.0642 - val_mean_absolute_error: 0.1253\n",
            "Epoch 7/10\n",
            "1533/1533 [==============================] - 12s 8ms/step - loss: 0.0648 - mean_absolute_error: 0.1257 - val_loss: 0.0638 - val_mean_absolute_error: 0.1246\n",
            "Epoch 8/10\n",
            "1533/1533 [==============================] - 12s 8ms/step - loss: 0.0645 - mean_absolute_error: 0.1252 - val_loss: 0.0638 - val_mean_absolute_error: 0.1241\n",
            "Epoch 9/10\n",
            "1533/1533 [==============================] - 11s 7ms/step - loss: 0.0642 - mean_absolute_error: 0.1246 - val_loss: 0.0636 - val_mean_absolute_error: 0.1237\n",
            "Epoch 10/10\n",
            "1533/1533 [==============================] - 11s 7ms/step - loss: 0.0640 - mean_absolute_error: 0.1243 - val_loss: 0.0634 - val_mean_absolute_error: 0.1233\n",
            "438/438 [==============================] - 2s 4ms/step - loss: 0.0634 - mean_absolute_error: 0.1233\n",
            "219/219 [==============================] - 1s 4ms/step - loss: 0.0635 - mean_absolute_error: 0.1250\n"
          ],
          "name": "stdout"
        }
      ]
    },
    {
      "cell_type": "code",
      "metadata": {
        "id": "17wZR4BhWrQ1",
        "outputId": "8e734b0d-fb8f-43e7-e061-094d85f46477",
        "colab": {
          "base_uri": "https://localhost:8080/",
          "height": 406
        }
      },
      "source": [
        "simple_lstm = tf.keras.models.Sequential([\n",
        "                               tf.keras.layers.LSTM(units=32, return_sequences=True),\n",
        "                               tf.keras.layers.Dense(units=num_features)   \n",
        "])\n",
        "\n",
        "simple_lstm.compile(loss=\"mean_squared_error\", optimizer=\"adam\", metrics=['mean_absolute_error'])\n",
        "\n",
        "history = simple_lstm.fit(wide_window.train, epochs=10, validation_data=wide_window.val)\n",
        "\n",
        "val_performance['simple lstm'] = simple_lstm.evaluate(wide_window.val)\n",
        "performance['simple lstm'] = simple_lstm.evaluate(wide_window.test)"
      ],
      "execution_count": 60,
      "outputs": [
        {
          "output_type": "stream",
          "text": [
            "Epoch 1/10\n",
            "1533/1533 [==============================] - 21s 13ms/step - loss: 0.1264 - mean_absolute_error: 0.2086 - val_loss: 0.0696 - val_mean_absolute_error: 0.1400\n",
            "Epoch 2/10\n",
            "1533/1533 [==============================] - 21s 14ms/step - loss: 0.0670 - mean_absolute_error: 0.1336 - val_loss: 0.0646 - val_mean_absolute_error: 0.1280\n",
            "Epoch 3/10\n",
            "1533/1533 [==============================] - 20s 13ms/step - loss: 0.0642 - mean_absolute_error: 0.1266 - val_loss: 0.0632 - val_mean_absolute_error: 0.1244\n",
            "Epoch 4/10\n",
            "1533/1533 [==============================] - 20s 13ms/step - loss: 0.0630 - mean_absolute_error: 0.1239 - val_loss: 0.0626 - val_mean_absolute_error: 0.1230\n",
            "Epoch 5/10\n",
            "1533/1533 [==============================] - 21s 13ms/step - loss: 0.0623 - mean_absolute_error: 0.1224 - val_loss: 0.0622 - val_mean_absolute_error: 0.1217\n",
            "Epoch 6/10\n",
            "1533/1533 [==============================] - 20s 13ms/step - loss: 0.0619 - mean_absolute_error: 0.1216 - val_loss: 0.0621 - val_mean_absolute_error: 0.1214\n",
            "Epoch 7/10\n",
            "1533/1533 [==============================] - 20s 13ms/step - loss: 0.0615 - mean_absolute_error: 0.1209 - val_loss: 0.0619 - val_mean_absolute_error: 0.1214\n",
            "Epoch 8/10\n",
            "1533/1533 [==============================] - 21s 14ms/step - loss: 0.0613 - mean_absolute_error: 0.1205 - val_loss: 0.0616 - val_mean_absolute_error: 0.1205\n",
            "Epoch 9/10\n",
            "1533/1533 [==============================] - 21s 13ms/step - loss: 0.0610 - mean_absolute_error: 0.1202 - val_loss: 0.0617 - val_mean_absolute_error: 0.1211\n",
            "Epoch 10/10\n",
            "1533/1533 [==============================] - 20s 13ms/step - loss: 0.0608 - mean_absolute_error: 0.1199 - val_loss: 0.0616 - val_mean_absolute_error: 0.1205\n",
            "438/438 [==============================] - 2s 5ms/step - loss: 0.0616 - mean_absolute_error: 0.1205\n",
            "219/219 [==============================] - 1s 5ms/step - loss: 0.0621 - mean_absolute_error: 0.1223\n"
          ],
          "name": "stdout"
        }
      ]
    },
    {
      "cell_type": "code",
      "metadata": {
        "id": "xJW6MeIYWtqw",
        "outputId": "c8d9709b-c1ab-4827-ee34-e675c6832367",
        "colab": {
          "base_uri": "https://localhost:8080/",
          "height": 406
        }
      },
      "source": [
        "simple_gru = tf.keras.models.Sequential([\n",
        "                               tf.keras.layers.GRU(units=32, return_sequences=True),\n",
        "                               tf.keras.layers.Dense(units=num_features)   \n",
        "])\n",
        "\n",
        "simple_gru.compile(loss=\"mean_squared_error\", optimizer=\"adam\", metrics=['mean_absolute_error'])\n",
        "\n",
        "history = simple_gru.fit(wide_window.train, epochs=10, validation_data=wide_window.val)\n",
        "\n",
        "val_performance['simple gru'] = simple_gru.evaluate(wide_window.val)\n",
        "performance['simple gru'] = simple_gru.evaluate(wide_window.test)"
      ],
      "execution_count": 61,
      "outputs": [
        {
          "output_type": "stream",
          "text": [
            "Epoch 1/10\n",
            "1533/1533 [==============================] - 21s 13ms/step - loss: 0.1169 - mean_absolute_error: 0.1960 - val_loss: 0.0674 - val_mean_absolute_error: 0.1364\n",
            "Epoch 2/10\n",
            "1533/1533 [==============================] - 20s 13ms/step - loss: 0.0663 - mean_absolute_error: 0.1320 - val_loss: 0.0644 - val_mean_absolute_error: 0.1278\n",
            "Epoch 3/10\n",
            "1533/1533 [==============================] - 22s 14ms/step - loss: 0.0644 - mean_absolute_error: 0.1267 - val_loss: 0.0633 - val_mean_absolute_error: 0.1245\n",
            "Epoch 4/10\n",
            "1533/1533 [==============================] - 21s 14ms/step - loss: 0.0635 - mean_absolute_error: 0.1244 - val_loss: 0.0629 - val_mean_absolute_error: 0.1232\n",
            "Epoch 5/10\n",
            "1533/1533 [==============================] - 21s 14ms/step - loss: 0.0629 - mean_absolute_error: 0.1231 - val_loss: 0.0624 - val_mean_absolute_error: 0.1224\n",
            "Epoch 6/10\n",
            "1533/1533 [==============================] - 22s 14ms/step - loss: 0.0625 - mean_absolute_error: 0.1224 - val_loss: 0.0623 - val_mean_absolute_error: 0.1218\n",
            "Epoch 7/10\n",
            "1533/1533 [==============================] - 21s 14ms/step - loss: 0.0622 - mean_absolute_error: 0.1218 - val_loss: 0.0621 - val_mean_absolute_error: 0.1215\n",
            "Epoch 8/10\n",
            "1533/1533 [==============================] - 21s 14ms/step - loss: 0.0619 - mean_absolute_error: 0.1214 - val_loss: 0.0621 - val_mean_absolute_error: 0.1214\n",
            "Epoch 9/10\n",
            "1533/1533 [==============================] - 21s 14ms/step - loss: 0.0617 - mean_absolute_error: 0.1212 - val_loss: 0.0622 - val_mean_absolute_error: 0.1213\n",
            "Epoch 10/10\n",
            "1533/1533 [==============================] - 21s 14ms/step - loss: 0.0615 - mean_absolute_error: 0.1209 - val_loss: 0.0621 - val_mean_absolute_error: 0.1213\n",
            "438/438 [==============================] - 2s 5ms/step - loss: 0.0621 - mean_absolute_error: 0.1213\n",
            "219/219 [==============================] - 1s 5ms/step - loss: 0.0618 - mean_absolute_error: 0.1223\n"
          ],
          "name": "stdout"
        }
      ]
    },
    {
      "cell_type": "code",
      "metadata": {
        "id": "a_0zhJctWvSG",
        "outputId": "4282f701-6eb1-4754-eddb-63fb6f8712a5",
        "colab": {
          "base_uri": "https://localhost:8080/",
          "height": 412
        }
      },
      "source": [
        "x = np.arange(len(performance))\n",
        "width = 0.3\n",
        "metric_name = 'mean_absolute_error'\n",
        "metric_index = simple_rnn.metrics_names.index('mean_absolute_error')\n",
        "val_mae = [v[metric_index] for v in val_performance.values()]\n",
        "test_mae = [v[metric_index] for v in performance.values()]\n",
        "\n",
        "plt.ylabel('mean_absolute_error [T (degC), normalized]')\n",
        "plt.bar(x - 0.17, val_mae, width, label='Validation')\n",
        "plt.bar(x + 0.17, test_mae, width, label='Test')\n",
        "plt.xticks(ticks=x, labels=performance.keys(),\n",
        "           rotation=45)\n",
        "_ = plt.legend()"
      ],
      "execution_count": 62,
      "outputs": [
        {
          "output_type": "display_data",
          "data": {
            "image/png": "[encoded data removed]",
            "text/plain": [
              "<Figure size 576x432 with 1 Axes>"
            ]
          },
          "metadata": {
            "tags": [],
            "needs_background": "light"
          }
        }
      ]
    }
  ]
}