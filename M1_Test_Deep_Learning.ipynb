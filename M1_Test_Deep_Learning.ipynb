{
  "nbformat": 4,
  "nbformat_minor": 0,
  "metadata": {
    "colab": {
      "name": "M1 Test Deep Learning.ipynb",
      "provenance": [],
      "collapsed_sections": [],
      "authorship_tag": "ABX9TyPZNFvvg4vF6InHqZV1GP82",
      "include_colab_link": true
    },
    "kernelspec": {
      "name": "python3",
      "display_name": "Python 3"
    },
    "accelerator": "TPU"
  },
  "cells": [
    {
      "cell_type": "markdown",
      "metadata": {
        "id": "view-in-github",
        "colab_type": "text"
      },
      "source": [
        "<a href=\"https://colab.research.google.com/github/vikpy/DLSem3/blob/master/M1_Test_Deep_Learning.ipynb\" target=\"_parent\"><img src=\"https://colab.research.google.com/assets/colab-badge.svg\" alt=\"Open In Colab\"/></a>"
      ]
    },
    {
      "cell_type": "code",
      "metadata": {
        "id": "7yGMJcwSaZg6",
        "colab_type": "code",
        "colab": {
          "base_uri": "https://localhost:8080/",
          "height": 193
        },
        "outputId": "171ae270-ba6a-4ed2-fffc-cb231859d438"
      },
      "source": [
        "!pip install pyforest \n",
        "from pyforest import * "
      ],
      "execution_count": 2,
      "outputs": [
        {
          "output_type": "stream",
          "text": [
            "Collecting pyforest\n",
            "  Downloading https://files.pythonhosted.org/packages/8f/85/77a9d2d9ff240822039f3dfd7a3b374d0621a0df5feb5d270a2151f6bb6d/pyforest-1.0.3.tar.gz\n",
            "Building wheels for collected packages: pyforest\n",
            "  Building wheel for pyforest (setup.py) ... \u001b[?25l\u001b[?25hdone\n",
            "  Created wheel for pyforest: filename=pyforest-1.0.3-py2.py3-none-any.whl size=13715 sha256=15ea525415e4a584c6e3f3011213d6089f8a151de054bbd0c41c4cbad041a792\n",
            "  Stored in directory: /root/.cache/pip/wheels/af/0b/39/340a7f15fc8d4ff5ab50847b28789afea04452a9d51b9721b5\n",
            "Successfully built pyforest\n",
            "Installing collected packages: pyforest\n",
            "Successfully installed pyforest-1.0.3\n"
          ],
          "name": "stdout"
        }
      ]
    },
    {
      "cell_type": "markdown",
      "metadata": {
        "id": "pa-3R7FmZrY1",
        "colab_type": "text"
      },
      "source": [
        "# Q.1 Download three classes of data from ImageNet with wnid=n02111277, n02110341 and n02109961. Organize data into train , test and validate sets with 100, 50, 50 images respectively(2 Marks)\n",
        "\n",
        "Ans:"
      ]
    },
    {
      "cell_type": "code",
      "metadata": {
        "id": "6ZKd70NDZ9mT",
        "colab_type": "code",
        "colab": {}
      },
      "source": [
        "from bs4 import BeautifulSoup\n",
        "import numpy as np\n",
        "import requests\n",
        "import cv2\n",
        "import PIL.Image\n",
        "import urllib\n",
        "import os\n",
        "import pandas as pd\n",
        "\n",
        "\n",
        "\n",
        "wnids = {\n",
        "         \n",
        "         'class1' : 'n02111277',\n",
        "         \n",
        "         'class2' : 'n02110341',\n",
        "\n",
        "         'class3' : 'n02109961'\n",
        "\n",
        "         }\n",
        "image_net_path = 'http://www.image-net.org/api/text/imagenet.synset.geturls?wnid='\n",
        "pages = {}\n",
        "for wnid in wnids.keys():\n",
        "  temp = requests.get(image_net_path + wnids[wnid])\n",
        "  pages[wnid] = str(BeautifulSoup(temp.content, 'html.parser')).split('\\r\\n')\n"
      ],
      "execution_count": 3,
      "outputs": []
    },
    {
      "cell_type": "code",
      "metadata": {
        "id": "JNFpyjZnbFB_",
        "colab_type": "code",
        "colab": {
          "base_uri": "https://localhost:8080/",
          "height": 34
        },
        "outputId": "2cdd8869-87d9-4d08-f406-0f6c57df7bc6"
      },
      "source": [
        "len(pages[\"class1\"]), len(pages[\"class2\"]), len(pages[\"class3\"])"
      ],
      "execution_count": 4,
      "outputs": [
        {
          "output_type": "execute_result",
          "data": {
            "text/plain": [
              "(1715, 1400, 1541)"
            ]
          },
          "metadata": {
            "tags": []
          },
          "execution_count": 4
        }
      ]
    },
    {
      "cell_type": "code",
      "metadata": {
        "id": "TJfjj3DcbZtJ",
        "colab_type": "code",
        "colab": {}
      },
      "source": [
        "# Making directories for the train set \n",
        "!mkdir /content/train \n",
        "!mkdir /content/train/class1 \n",
        "!mkdir /content/train/class2 \n",
        "!mkdir /content/train/class3\n",
        "\n",
        "# making directories for the test set\n",
        "!mkdir /content/validation \n",
        "!mkdir /content/validation/class1 \n",
        "!mkdir /content/validation/class2 \n",
        "!mkdir /content/validation/class3 \n",
        "\n",
        "# making directories for the test set \n",
        "!mkdir /content/test/ \n",
        "!mkdir /content/test/test "
      ],
      "execution_count": 5,
      "outputs": []
    },
    {
      "cell_type": "code",
      "metadata": {
        "id": "ImM59DPPbkpb",
        "colab_type": "code",
        "colab": {}
      },
      "source": [
        "def url_to_image(url):\n",
        "  import numpy as np\n",
        "  import cv2\n",
        "  import urllib\n",
        "  resp = urllib.request.urlopen(url)\n",
        "  image = np.asarray(bytearray(resp.read()), dtype=\"uint8\")\n",
        "  image = cv2.imdecode(image, cv2.IMREAD_COLOR)\n",
        " \n",
        "\t# return the image\n",
        "  return image"
      ],
      "execution_count": 6,
      "outputs": []
    },
    {
      "cell_type": "code",
      "metadata": {
        "id": "S8Wn03TYbtKN",
        "colab_type": "code",
        "colab": {
          "base_uri": "https://localhost:8080/",
          "height": 278
        },
        "outputId": "62f84178-de7a-4181-eabe-b7f0d4c470b0"
      },
      "source": [
        "# Creating the training examples \n",
        "\n",
        "\n",
        "n_of_training_images=100       #the number of training images to use\n",
        "\n",
        "for class_ in pages:\n",
        "  for progress in range(n_of_training_images):\n",
        "      if(progress%20==0):\n",
        "          print(progress)\n",
        "      if not pages[class_][progress] == None:\n",
        "        try:\n",
        "          I = url_to_image(pages[class_][progress])\n",
        "          if (len(I.shape)) == 3: #check if the image has width, length and channels\n",
        "            save_path = '/content/train/' + class_ + '/img'+str(progress)+'.jpg'#create a name of each image\n",
        "            cv2.imwrite(save_path,I)\n",
        "        except:\n",
        "          None"
      ],
      "execution_count": 7,
      "outputs": [
        {
          "output_type": "stream",
          "text": [
            "0\n",
            "20\n",
            "40\n",
            "60\n",
            "80\n",
            "0\n",
            "20\n",
            "40\n",
            "60\n",
            "80\n",
            "0\n",
            "20\n",
            "40\n",
            "60\n",
            "80\n"
          ],
          "name": "stdout"
        }
      ]
    },
    {
      "cell_type": "code",
      "metadata": {
        "id": "jsxJMpTjcJGk",
        "colab_type": "code",
        "colab": {
          "base_uri": "https://localhost:8080/",
          "height": 173
        },
        "outputId": "98875bab-3d33-424a-8ba2-3d29a24aec18"
      },
      "source": [
        "# Creating the validation examples \n",
        "\n",
        "for class_ in pages:\n",
        "  for progress in range(50):\n",
        "      if(progress%20==0):\n",
        "          print(progress)\n",
        "      if not pages[class_][n_of_training_images + progress] == None:\n",
        "        try:\n",
        "          I = url_to_image(pages[class_][n_of_training_images + progress])\n",
        "          if (len(I.shape)) == 3: #check if the image has width, length and channels\n",
        "            save_path = '/content/validation/' + class_ + '/img'+str(n_of_training_images + progress)+'.jpg'#create a name of each image\n",
        "            cv2.imwrite(save_path,I)\n",
        "        except:\n",
        "          None"
      ],
      "execution_count": 8,
      "outputs": [
        {
          "output_type": "stream",
          "text": [
            "0\n",
            "20\n",
            "40\n",
            "0\n",
            "20\n",
            "40\n",
            "0\n",
            "20\n",
            "40\n"
          ],
          "name": "stdout"
        }
      ]
    },
    {
      "cell_type": "code",
      "metadata": {
        "id": "RQvXyYa8ctAw",
        "colab_type": "code",
        "colab": {
          "base_uri": "https://localhost:8080/",
          "height": 173
        },
        "outputId": "927efed6-acd4-47c1-b377-e85726ff805a"
      },
      "source": [
        "for class_ in pages:\n",
        "  for progress in range(50):\n",
        "      if(progress%20==0):\n",
        "          print(progress)\n",
        "      if not pages[class_][n_of_training_images + progress + 50] == None:\n",
        "        try:\n",
        "          I = url_to_image(pages[class_][n_of_training_images + progress + 50])\n",
        "          if (len(I.shape)) == 3: #check if the image has width, length and channels\n",
        "            save_path = '/content/test/test/' + str(class_) +  '_' +str(n_of_training_images + progress + 50) +'.jpg'#create a name of each image\n",
        "            cv2.imwrite(save_path,I)\n",
        "        except:\n",
        "          None"
      ],
      "execution_count": 9,
      "outputs": [
        {
          "output_type": "stream",
          "text": [
            "0\n",
            "20\n",
            "40\n",
            "0\n",
            "20\n",
            "40\n",
            "0\n",
            "20\n",
            "40\n"
          ],
          "name": "stdout"
        }
      ]
    },
    {
      "cell_type": "code",
      "metadata": {
        "id": "LL-IB5Aoyq7Q",
        "colab_type": "code",
        "colab": {}
      },
      "source": [
        "# Path to the train folder\n",
        "original_test = '/content/test/test'\n",
        " \n",
        "filenames = os.listdir(original_test)\n",
        "categories = []\n",
        "for filename in filenames:\n",
        "    category = filename.split('_')[0]\n",
        "    if category == 'class1':\n",
        "        categories.append('class1')\n",
        "    elif category == 'class2' :\n",
        "        categories.append('class2')\n",
        "    else : \n",
        "        categories.append('class3')\n",
        "\n",
        "data_test = pd.DataFrame({'filename':filenames,'label':categories})\n",
        "\n",
        "data_test.to_csv(\"original_test.csv\",index=False)"
      ],
      "execution_count": 67,
      "outputs": []
    },
    {
      "cell_type": "markdown",
      "metadata": {
        "id": "VgzHNlx0eCUN",
        "colab_type": "text"
      },
      "source": [
        "# Q.2 Build a classification model for image recognition for images in Q1(6 Marks)\n",
        "\n",
        "Ans:"
      ]
    },
    {
      "cell_type": "code",
      "metadata": {
        "id": "gveh11cJeSfn",
        "colab_type": "code",
        "colab": {
          "base_uri": "https://localhost:8080/",
          "height": 69
        },
        "outputId": "c64a78e9-04ba-465d-ba9b-ac8fa62dd90a"
      },
      "source": [
        "from keras.models import Sequential\n",
        "from keras.layers import Conv2D, Flatten, Dense\n",
        "from keras.optimizers import SGD\n",
        "from keras.preprocessing.image import ImageDataGenerator\n",
        "from keras.layers import Conv2D, MaxPooling2D\n",
        "from keras.layers import Activation, Dropout, Flatten, Dense\n",
        "from keras.utils import to_categorical\n",
        "from keras.callbacks import ModelCheckpoint, EarlyStopping\n",
        "import keras\n",
        "\n",
        "\n",
        "# Image Augmentation\n",
        "\n",
        "trainval_datagen = ImageDataGenerator(\n",
        "    rescale=1./255, \n",
        "    horizontal_flip=True #,\n",
        " #   rotation_range=180,\n",
        " #   width_shift_range=0.3,\n",
        " #   height_shift_range=0.3,\n",
        " #   shear_range=0.4,\n",
        " #   zoom_range=0.4,\n",
        " #   fill_mode = 'nearest'\n",
        ")\n",
        "\n",
        "\n",
        "test_datagen = ImageDataGenerator(\n",
        "    rescale=1./255\n",
        ")\n",
        "\n",
        "# Flowing the data from the directory \n",
        "batch_size = 32\n",
        "train_generator = trainval_datagen.flow_from_directory(directory='/content/train/',\n",
        "                                                       seed=123,\n",
        "                                                       shuffle=True,\n",
        "                                                       color_mode='rgb',\n",
        "                                                       class_mode='categorical',\n",
        "                                                       batch_size=batch_size,\n",
        "                                                       target_size=(150,150))\n",
        "\n",
        "val_generator = trainval_datagen.flow_from_directory(directory='/content/validation/',                                                      \n",
        "                                                       seed=123,\n",
        "                                                       shuffle=True,                                                       \n",
        "                                                       color_mode='rgb',\n",
        "                                                       class_mode='categorical',\n",
        "                                                       batch_size=batch_size,                                                     \n",
        "                                                       target_size=(150,150))\n",
        "\n",
        "\n",
        "\n",
        "test_generator = test_datagen.flow_from_directory(directory='/content/test/',\n",
        "                                                  seed=123,\n",
        "                                                  shuffle=False,                                                  \n",
        "                                                  class_mode=None,\n",
        "                                                  color_mode='rgb',\n",
        "                                                  target_size=(150,150))\n",
        "\n"
      ],
      "execution_count": 60,
      "outputs": [
        {
          "output_type": "stream",
          "text": [
            "Found 219 images belonging to 3 classes.\n",
            "Found 95 images belonging to 3 classes.\n",
            "Found 100 images belonging to 1 classes.\n"
          ],
          "name": "stdout"
        }
      ]
    },
    {
      "cell_type": "code",
      "metadata": {
        "id": "Z_Ashz6Olf4l",
        "colab_type": "code",
        "colab": {}
      },
      "source": [
        "# Using Initializers\n",
        "\n",
        "#initializers = keras.initializers.glorot_normal()\n",
        "#initializers = keras.initializers.glorot_uniform()\n",
        "#initializers = keras.initializers.he_uniform()\n",
        "initializers = keras.initializers.lecun_uniform()\n",
        "\n",
        "\n",
        "# Building the model \n",
        "model = Sequential()\n",
        "\n",
        "model.add(Conv2D(512, (150,150), padding='valid', activation='relu', input_shape=(150,150,3)))\n",
        "\n",
        "model.add(Flatten())\n",
        "\n",
        "model.add(Dense(512, activation='relu', kernel_initializer=initializers, bias_initializer=initializers))\n",
        "\n",
        "model.add(Dense(512, activation='relu', kernel_initializer=initializers, bias_initializer=initializers))\n",
        "\n",
        "model.add(Dense(256, activation='relu', kernel_initializer=initializers, bias_initializer=initializers))\n",
        "\n",
        "model.add(Dense(256, activation='relu', kernel_initializer=initializers, bias_initializer=initializers))\n",
        "\n",
        "model.add(Dense(3, activation='softmax'))\n",
        "\n",
        "model.compile(loss='categorical_crossentropy',  optimizer= 'sgd', metrics=['accuracy'])\n",
        "#model.compile(loss='categorical_crossentropy',  optimizer= 'rmsprop', metrics=['accuracy'])\n",
        "#model.compile(loss='categorical_crossentropy',  optimizer= 'adam', metrics=['accuracy'])"
      ],
      "execution_count": 61,
      "outputs": []
    },
    {
      "cell_type": "code",
      "metadata": {
        "id": "bOxt-jRzjroc",
        "colab_type": "code",
        "colab": {
          "base_uri": "https://localhost:8080/",
          "height": 399
        },
        "outputId": "04150403-ae76-4886-a440-8a1ad508983b"
      },
      "source": [
        "model.summary()"
      ],
      "execution_count": 62,
      "outputs": [
        {
          "output_type": "stream",
          "text": [
            "Model: \"sequential_15\"\n",
            "_________________________________________________________________\n",
            "Layer (type)                 Output Shape              Param #   \n",
            "=================================================================\n",
            "conv2d_15 (Conv2D)           (None, 1, 1, 512)         34560512  \n",
            "_________________________________________________________________\n",
            "flatten_14 (Flatten)         (None, 512)               0         \n",
            "_________________________________________________________________\n",
            "dense_56 (Dense)             (None, 512)               262656    \n",
            "_________________________________________________________________\n",
            "dense_57 (Dense)             (None, 512)               262656    \n",
            "_________________________________________________________________\n",
            "dense_58 (Dense)             (None, 256)               131328    \n",
            "_________________________________________________________________\n",
            "dense_59 (Dense)             (None, 256)               65792     \n",
            "_________________________________________________________________\n",
            "dense_60 (Dense)             (None, 3)                 771       \n",
            "=================================================================\n",
            "Total params: 35,283,715\n",
            "Trainable params: 35,283,715\n",
            "Non-trainable params: 0\n",
            "_________________________________________________________________\n"
          ],
          "name": "stdout"
        }
      ]
    },
    {
      "cell_type": "code",
      "metadata": {
        "id": "9Y_zt-Veipxy",
        "colab_type": "code",
        "colab": {
          "base_uri": "https://localhost:8080/",
          "height": 402
        },
        "outputId": "590db63b-485a-4766-a45a-0ab8610b599b"
      },
      "source": [
        "# Fitting the models and calling the call backs\n",
        "filepath=\"m1_test.{epoch:02d}-{val_loss:.2f}.hdf5\"\n",
        "earlystopping = EarlyStopping(monitor='val_loss', verbose=1, patience=4, mode=\"min\")\n",
        "checkpoint = ModelCheckpoint(filepath, monitor='val_accuracy', verbose=1, mode=\"max\")\n",
        "model_history = model.fit_generator(generator=train_generator, validation_data=val_generator, epochs=30, verbose=1 , callbacks=[earlystopping, checkpoint])"
      ],
      "execution_count": 82,
      "outputs": [
        {
          "output_type": "stream",
          "text": [
            "Epoch 1/30\n",
            "7/7 [==============================] - ETA: 0s - loss: 0.7605 - accuracy: 0.6438\n",
            "Epoch 00001: saving model to m1_test.01-0.87.hdf5\n",
            "7/7 [==============================] - 6s 903ms/step - loss: 0.7605 - accuracy: 0.6438 - val_loss: 0.8706 - val_accuracy: 0.5474\n",
            "Epoch 2/30\n",
            "7/7 [==============================] - ETA: 0s - loss: 0.8713 - accuracy: 0.6027\n",
            "Epoch 00002: saving model to m1_test.02-0.93.hdf5\n",
            "7/7 [==============================] - 6s 877ms/step - loss: 0.8713 - accuracy: 0.6027 - val_loss: 0.9283 - val_accuracy: 0.5789\n",
            "Epoch 3/30\n",
            "7/7 [==============================] - ETA: 0s - loss: 0.7853 - accuracy: 0.6667\n",
            "Epoch 00003: saving model to m1_test.03-0.93.hdf5\n",
            "7/7 [==============================] - 6s 881ms/step - loss: 0.7853 - accuracy: 0.6667 - val_loss: 0.9262 - val_accuracy: 0.5895\n",
            "Epoch 4/30\n",
            "7/7 [==============================] - ETA: 0s - loss: 0.7114 - accuracy: 0.6712\n",
            "Epoch 00004: saving model to m1_test.04-0.90.hdf5\n",
            "7/7 [==============================] - 6s 899ms/step - loss: 0.7114 - accuracy: 0.6712 - val_loss: 0.9031 - val_accuracy: 0.5789\n",
            "Epoch 5/30\n",
            "7/7 [==============================] - ETA: 0s - loss: 0.7884 - accuracy: 0.6301\n",
            "Epoch 00005: saving model to m1_test.05-1.03.hdf5\n",
            "7/7 [==============================] - 6s 884ms/step - loss: 0.7884 - accuracy: 0.6301 - val_loss: 1.0253 - val_accuracy: 0.5474\n",
            "Epoch 00005: early stopping\n"
          ],
          "name": "stdout"
        }
      ]
    },
    {
      "cell_type": "code",
      "metadata": {
        "id": "78S0I6ee2IGz",
        "colab_type": "code",
        "colab": {
          "base_uri": "https://localhost:8080/",
          "height": 434
        },
        "outputId": "cbc50e21-d4d1-4e23-c93d-3851c82458fb"
      },
      "source": [
        "model_history.history"
      ],
      "execution_count": 79,
      "outputs": [
        {
          "output_type": "execute_result",
          "data": {
            "text/plain": [
              "{'accuracy': [0.6301369667053223,\n",
              "  0.6392694115638733,\n",
              "  0.5981734991073608,\n",
              "  0.6164383292198181,\n",
              "  0.6027397513389587,\n",
              "  0.6073059439659119],\n",
              " 'loss': [0.7991594076156616,\n",
              "  0.9345097541809082,\n",
              "  0.8130852580070496,\n",
              "  0.8011435866355896,\n",
              "  0.9077532887458801,\n",
              "  0.8028143644332886],\n",
              " 'val_accuracy': [0.557894766330719,\n",
              "  0.5263158082962036,\n",
              "  0.557894766330719,\n",
              "  0.5157894492149353,\n",
              "  0.4736842215061188,\n",
              "  0.5263158082962036],\n",
              " 'val_loss': [0.8904199004173279,\n",
              "  0.8780956268310547,\n",
              "  0.9162266850471497,\n",
              "  0.8896083831787109,\n",
              "  0.9683179259300232,\n",
              "  0.92213374376297]}"
            ]
          },
          "metadata": {
            "tags": []
          },
          "execution_count": 79
        }
      ]
    },
    {
      "cell_type": "code",
      "metadata": {
        "id": "q1--cSG21dwk",
        "colab_type": "code",
        "colab": {
          "base_uri": "https://localhost:8080/",
          "height": 295
        },
        "outputId": "71fbf327-8571-437e-a950-c611c0ec9dab"
      },
      "source": [
        "import matplotlib.pyplot as plt\n",
        "plt.plot(model_history.history[\"accuracy\"])\n",
        "plt.plot(model_history.history[\"val_accuracy\"])\n",
        "plt.title(\"Model Accuracy\")\n",
        "plt.ylabel(\"Accuracy\")\n",
        "plt.xlabel(\"Epochs\")\n",
        "plt.legend([\"Train\", \"Validation\"], loc=\"best\")\n",
        "plt.show()"
      ],
      "execution_count": 80,
      "outputs": [
        {
          "output_type": "display_data",
          "data": {
            "image/png": "[encoded data removed]",
            "text/plain": [
              "<Figure size 432x288 with 1 Axes>"
            ]
          },
          "metadata": {
            "tags": [],
            "needs_background": "light"
          }
        }
      ]
    },
    {
      "cell_type": "code",
      "metadata": {
        "id": "z2cfjues2R5i",
        "colab_type": "code",
        "colab": {
          "base_uri": "https://localhost:8080/",
          "height": 295
        },
        "outputId": "3b687f3b-fb6a-49dd-f124-76db00264e5b"
      },
      "source": [
        "\n",
        "import matplotlib.pyplot as plt\n",
        "plt.plot(model.history.history[\"loss\"])\n",
        "plt.plot(model.history.history[\"val_loss\"])\n",
        "plt.title(\"Model Loss\")\n",
        "plt.ylabel(\"Accuracy\")\n",
        "plt.xlabel(\"Epochs\")\n",
        "plt.legend([\"Train\", \"Validation\"], loc=\"best\")\n",
        "plt.show()\n"
      ],
      "execution_count": 81,
      "outputs": [
        {
          "output_type": "display_data",
          "data": {
            "image/png": "[encoded data removed]",
            "text/plain": [
              "<Figure size 432x288 with 1 Axes>"
            ]
          },
          "metadata": {
            "tags": [],
            "needs_background": "light"
          }
        }
      ]
    },
    {
      "cell_type": "markdown",
      "metadata": {
        "id": "7PrjmX1vuTqR",
        "colab_type": "text"
      },
      "source": [
        "model with horizontal flip acc->0.557\n",
        "\n",
        "model with lecun initializer and early stopping acc->0.578"
      ]
    },
    {
      "cell_type": "code",
      "metadata": {
        "id": "PRbwbG39uQct",
        "colab_type": "code",
        "colab": {
          "base_uri": "https://localhost:8080/",
          "height": 34
        },
        "outputId": "46f24d10-9b97-45f0-aa42-2e2b73d5b286"
      },
      "source": [
        "# Evaluating the model\n",
        "model.evaluate_generator(generator=val_generator)"
      ],
      "execution_count": 64,
      "outputs": [
        {
          "output_type": "execute_result",
          "data": {
            "text/plain": [
              "[0.8520916700363159, 0.5789473652839661]"
            ]
          },
          "metadata": {
            "tags": []
          },
          "execution_count": 64
        }
      ]
    },
    {
      "cell_type": "code",
      "metadata": {
        "id": "yUbAoqgLwfS1",
        "colab_type": "code",
        "colab": {
          "base_uri": "https://localhost:8080/",
          "height": 106
        },
        "outputId": "3338f35e-9ea7-4f62-b885-6bb66e04877c"
      },
      "source": [
        "# Predicting test \n",
        "test_generator.reset()\n",
        "pred = model.predict_generator(test_generator, verbose=1)"
      ],
      "execution_count": 65,
      "outputs": [
        {
          "output_type": "stream",
          "text": [
            "WARNING:tensorflow:From <ipython-input-65-a8c9046d8f88>:3: Model.predict_generator (from tensorflow.python.keras.engine.training) is deprecated and will be removed in a future version.\n",
            "Instructions for updating:\n",
            "Please use Model.predict, which supports generators.\n",
            "4/4 [==============================] - 0s 75ms/step\n"
          ],
          "name": "stdout"
        }
      ]
    },
    {
      "cell_type": "code",
      "metadata": {
        "id": "QNvVWnr2ygzM",
        "colab_type": "code",
        "colab": {
          "base_uri": "https://localhost:8080/",
          "height": 104
        },
        "outputId": "dff3eccd-d320-4c80-b589-6ae16b8aabf4"
      },
      "source": [
        "# predicted values \n",
        "pred[:5]"
      ],
      "execution_count": 66,
      "outputs": [
        {
          "output_type": "execute_result",
          "data": {
            "text/plain": [
              "array([[0.65056187, 0.14011897, 0.20931916],\n",
              "       [0.8653315 , 0.05978992, 0.0748787 ],\n",
              "       [0.12330588, 0.39836752, 0.47832656],\n",
              "       [0.82925063, 0.0722827 , 0.09846672],\n",
              "       [0.06340387, 0.4833129 , 0.45328322]], dtype=float32)"
            ]
          },
          "metadata": {
            "tags": []
          },
          "execution_count": 66
        }
      ]
    },
    {
      "cell_type": "code",
      "metadata": {
        "id": "dN5BH_mWy4YG",
        "colab_type": "code",
        "colab": {
          "base_uri": "https://localhost:8080/",
          "height": 206
        },
        "outputId": "3b70c51a-685b-4626-89e2-ba9c807da5ae"
      },
      "source": [
        "# test values\n",
        "df_test = pd.read_csv(\"/content/original_test.csv\")\n",
        "df_test.head()"
      ],
      "execution_count": 69,
      "outputs": [
        {
          "output_type": "execute_result",
          "data": {
            "text/html": [
              "<div>\n",
              "<style scoped>\n",
              "    .dataframe tbody tr th:only-of-type {\n",
              "        vertical-align: middle;\n",
              "    }\n",
              "\n",
              "    .dataframe tbody tr th {\n",
              "        vertical-align: top;\n",
              "    }\n",
              "\n",
              "    .dataframe thead th {\n",
              "        text-align: right;\n",
              "    }\n",
              "</style>\n",
              "<table border=\"1\" class=\"dataframe\">\n",
              "  <thead>\n",
              "    <tr style=\"text-align: right;\">\n",
              "      <th></th>\n",
              "      <th>filename</th>\n",
              "      <th>label</th>\n",
              "    </tr>\n",
              "  </thead>\n",
              "  <tbody>\n",
              "    <tr>\n",
              "      <th>0</th>\n",
              "      <td>class1_165.jpg</td>\n",
              "      <td>class1</td>\n",
              "    </tr>\n",
              "    <tr>\n",
              "      <th>1</th>\n",
              "      <td>class2_169.jpg</td>\n",
              "      <td>class2</td>\n",
              "    </tr>\n",
              "    <tr>\n",
              "      <th>2</th>\n",
              "      <td>class3_151.jpg</td>\n",
              "      <td>class3</td>\n",
              "    </tr>\n",
              "    <tr>\n",
              "      <th>3</th>\n",
              "      <td>class2_160.jpg</td>\n",
              "      <td>class2</td>\n",
              "    </tr>\n",
              "    <tr>\n",
              "      <th>4</th>\n",
              "      <td>class2_196.jpg</td>\n",
              "      <td>class2</td>\n",
              "    </tr>\n",
              "  </tbody>\n",
              "</table>\n",
              "</div>"
            ],
            "text/plain": [
              "         filename   label\n",
              "0  class1_165.jpg  class1\n",
              "1  class2_169.jpg  class2\n",
              "2  class3_151.jpg  class3\n",
              "3  class2_160.jpg  class2\n",
              "4  class2_196.jpg  class2"
            ]
          },
          "metadata": {
            "tags": []
          },
          "execution_count": 69
        }
      ]
    },
    {
      "cell_type": "markdown",
      "metadata": {
        "id": "DcouTHMQkTQ0",
        "colab_type": "text"
      },
      "source": [
        "#List the following experimental setting used for the classification model 2 in Q2 for obtaining +80% accuracy on test set\n",
        "\n",
        "● Data augmentation techniques used\n",
        "\n",
        "Ans: Tried rescale, horizontal flip, rotation, width shift, height shift, shear range, zoom.\n",
        "Got better accuracy for rescale and horizontal flip\n",
        "\n",
        "● Hyper-parameters of data augmentation techniques\n",
        "\n",
        "Ans:\n",
        "\n",
        "\n",
        "---\n",
        "\n",
        "\n",
        "    rescale=1./255, \n",
        "\n",
        "    horizontal_flip=True,\n",
        "\n",
        "Tired the following, did not get good accuracy\n",
        "\n",
        "    rotation_range=90,\n",
        "\n",
        "    width_shift_range=0.3,\n",
        "\n",
        "    height_shift_range=0.3,\n",
        "\n",
        "    shear_range=0.4,\n",
        "\n",
        "    zoom_range=0.4,\n",
        "    \n",
        "    fill_mode = 'nearest'\n",
        "\n",
        "\n",
        "---\n",
        "\n",
        "\n",
        "\n",
        "● Hyper-parameters of the classification model\n",
        "\n",
        "Ans:\n",
        "\n",
        "Following are the hyper parameters of the model \n",
        "\n",
        "---\n",
        "\n",
        "__Model: \"sequential\"__\n",
        "_________________________________________________________________\n",
        "\n",
        "\n",
        "Layer 1:\n",
        "\n",
        "Conv2D), (None, 1, 1, 512) , activation=relu, image with padding\n",
        "\n",
        "Layer 2:\n",
        "\n",
        "(Flatten),(None, 512) \n",
        "\n",
        "Layer 3:\n",
        "\n",
        "(Dense),(None, 512), activation=relu\n",
        "\n",
        "Layer 4:\n",
        "\n",
        "(Dense),(None, 512), activation=relu\n",
        "\n",
        "Layer 5:\n",
        "\n",
        "(Dense),(None, 512), activation=relu\n",
        "\n",
        "Layer 6:\n",
        "\n",
        "(Dense),(None, 512), activation=relu\n",
        "\n",
        "Layer 7:\n",
        "\n",
        "(Dense),(None, 3), activation=softmax\n",
        "\n",
        "---\n",
        "\n",
        "● Plot the accuracy vs validation accuracy\n",
        "\n",
        "Ans: Done in above cells\n",
        "\n",
        "● Plot loss vs validation loss\n",
        "\n",
        "Ans: Done in above cells\n",
        "\n",
        "\n",
        "● Plot model summary\n",
        "\n",
        "Ans: Done in above cells\n",
        "\n",
        "\n",
        "● Settings of callbacks\n",
        "\n",
        "Ans: \n",
        "---\n",
        "\n",
        "__Early Stopping Setting__ : EarlyStopping(monitor='val_loss', verbose=1, patience=4, mode=\"min\")\n",
        "\n",
        "__Model Check Point Setting__: \n",
        "\n",
        "ModelCheckpoint(filepath, monitor='val_accuracy', verbose=1, mode=\"max\")\n",
        "\n",
        "---\n",
        "\n",
        "● Initializers and Optimizers and settings\n",
        "\n",
        "Ans:\n",
        "\n",
        "---\n",
        "\n",
        "*Optimizers*: tried ADAM, RMSPROP and SGD. SGD was giving better accuracy amongst all three optimizers\n",
        "\n",
        "\n",
        "*Initializers*: tried glorat normal, he uniform, glorat uniform and lecun uniform. lecun uniform gave better accuracy\n",
        "\n",
        "---\n",
        "\n",
        "\n",
        "● Metrics and loss function setting\n",
        "\n",
        "Ans:\n",
        "---\n",
        "\n",
        "metrics=['accuracy']\n",
        "\n",
        "loss =['categorical_crossentropy']\n",
        "\n",
        "---"
      ]
    }
  ]
}