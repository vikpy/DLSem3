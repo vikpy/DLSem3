{
  "nbformat": 4,
  "nbformat_minor": 0,
  "metadata": {
    "colab": {
      "name": "M1 Test Deep Learning.ipynb",
      "provenance": [],
      "collapsed_sections": [],
      "authorship_tag": "ABX9TyMyhDPwfq0fqbLaoAfr9ys2",
      "include_colab_link": true
    },
    "kernelspec": {
      "name": "python3",
      "display_name": "Python 3"
    }
  },
  "cells": [
    {
      "cell_type": "markdown",
      "metadata": {
        "id": "view-in-github",
        "colab_type": "text"
      },
      "source": [
        "<a href=\"https://colab.research.google.com/github/vikpy/DLSem3/blob/master/M1_Test_Deep_Learning.ipynb\" target=\"_parent\"><img src=\"https://colab.research.google.com/assets/colab-badge.svg\" alt=\"Open In Colab\"/></a>"
      ]
    },
    {
      "cell_type": "code",
      "metadata": {
        "id": "7yGMJcwSaZg6",
        "colab_type": "code",
        "colab": {
          "base_uri": "https://localhost:8080/",
          "height": 193
        },
        "outputId": "275356f2-7984-4e00-a96e-f01672ff15e6"
      },
      "source": [
        "!pip install pyforest \n",
        "from pyforest import * "
      ],
      "execution_count": null,
      "outputs": [
        {
          "output_type": "stream",
          "text": [
            "Collecting pyforest\n",
            "  Downloading https://files.pythonhosted.org/packages/8f/85/77a9d2d9ff240822039f3dfd7a3b374d0621a0df5feb5d270a2151f6bb6d/pyforest-1.0.3.tar.gz\n",
            "Building wheels for collected packages: pyforest\n",
            "  Building wheel for pyforest (setup.py) ... \u001b[?25l\u001b[?25hdone\n",
            "  Created wheel for pyforest: filename=pyforest-1.0.3-py2.py3-none-any.whl size=13715 sha256=1b18f3a69ced626a13d7cf45a6a2a4a5f297aca1331d05db6cbd3317abb3765a\n",
            "  Stored in directory: /root/.cache/pip/wheels/af/0b/39/340a7f15fc8d4ff5ab50847b28789afea04452a9d51b9721b5\n",
            "Successfully built pyforest\n",
            "Installing collected packages: pyforest\n",
            "Successfully installed pyforest-1.0.3\n"
          ],
          "name": "stdout"
        }
      ]
    },
    {
      "cell_type": "markdown",
      "metadata": {
        "id": "pa-3R7FmZrY1",
        "colab_type": "text"
      },
      "source": [
        "# Q.1 Download three classes of data from ImageNet with wnid=n02111277, n02110341 and n02109961. Organize data into train , test and validate sets with 100, 50, 50 images respectively(2 Marks)\n",
        "\n",
        "Ans:"
      ]
    },
    {
      "cell_type": "code",
      "metadata": {
        "id": "6ZKd70NDZ9mT",
        "colab_type": "code",
        "colab": {}
      },
      "source": [
        "from bs4 import BeautifulSoup\n",
        "import numpy as np\n",
        "import requests\n",
        "import cv2\n",
        "import PIL.Image\n",
        "import urllib\n",
        "import os\n",
        "import pandas as pd\n",
        "\n",
        "\n",
        "\n",
        "wnids = {\n",
        "         \n",
        "         'class1' : 'n02111277',\n",
        "         \n",
        "         'class2' : 'n02110341',\n",
        "\n",
        "         'class3' : 'n02109961'\n",
        "\n",
        "         }\n",
        "image_net_path = 'http://www.image-net.org/api/text/imagenet.synset.geturls?wnid='\n",
        "pages = {}\n",
        "for wnid in wnids.keys():\n",
        "  temp = requests.get(image_net_path + wnids[wnid])\n",
        "  pages[wnid] = str(BeautifulSoup(temp.content, 'html.parser')).split('\\r\\n')\n"
      ],
      "execution_count": null,
      "outputs": []
    },
    {
      "cell_type": "code",
      "metadata": {
        "id": "JNFpyjZnbFB_",
        "colab_type": "code",
        "colab": {
          "base_uri": "https://localhost:8080/",
          "height": 34
        },
        "outputId": "3611b3d5-3e82-4d45-e5ec-c4e27cddce4d"
      },
      "source": [
        "len(pages[\"class1\"]), len(pages[\"class2\"]), len(pages[\"class3\"])"
      ],
      "execution_count": null,
      "outputs": [
        {
          "output_type": "execute_result",
          "data": {
            "text/plain": [
              "(1715, 1400, 1541)"
            ]
          },
          "metadata": {
            "tags": []
          },
          "execution_count": 10
        }
      ]
    },
    {
      "cell_type": "code",
      "metadata": {
        "id": "TJfjj3DcbZtJ",
        "colab_type": "code",
        "colab": {}
      },
      "source": [
        "# Making directories for the train set \n",
        "!mkdir /content/train \n",
        "!mkdir /content/train/class1 \n",
        "!mkdir /content/train/class2 \n",
        "!mkdir /content/train/class3\n",
        "\n",
        "# making directories for the test set\n",
        "!mkdir /content/validation \n",
        "!mkdir /content/validation/class1 \n",
        "!mkdir /content/validation/class2 \n",
        "!mkdir /content/validation/class3 \n",
        "\n",
        "# making directories for the test set \n",
        "!mkdir /content/test/ \n",
        "!mkdir /content/test/test "
      ],
      "execution_count": null,
      "outputs": []
    },
    {
      "cell_type": "code",
      "metadata": {
        "id": "ImM59DPPbkpb",
        "colab_type": "code",
        "colab": {}
      },
      "source": [
        "def url_to_image(url):\n",
        "  import numpy as np\n",
        "  import cv2\n",
        "  import urllib\n",
        "  resp = urllib.request.urlopen(url)\n",
        "  image = np.asarray(bytearray(resp.read()), dtype=\"uint8\")\n",
        "  image = cv2.imdecode(image, cv2.IMREAD_COLOR)\n",
        " \n",
        "\t# return the image\n",
        "  return image"
      ],
      "execution_count": null,
      "outputs": []
    },
    {
      "cell_type": "code",
      "metadata": {
        "id": "S8Wn03TYbtKN",
        "colab_type": "code",
        "colab": {
          "base_uri": "https://localhost:8080/",
          "height": 278
        },
        "outputId": "dfa44329-676e-4247-dc3f-b3dbc251b237"
      },
      "source": [
        "# Creating the training examples \n",
        "\n",
        "\n",
        "n_of_training_images=100       #the number of training images to use\n",
        "\n",
        "for class_ in pages:\n",
        "  for progress in range(n_of_training_images):\n",
        "      if(progress%20==0):\n",
        "          print(progress)\n",
        "      if not pages[class_][progress] == None:\n",
        "        try:\n",
        "          I = url_to_image(pages[class_][progress])\n",
        "          if (len(I.shape)) == 3: #check if the image has width, length and channels\n",
        "            save_path = '/content/train/' + class_ + '/img'+str(progress)+'.jpg'#create a name of each image\n",
        "            cv2.imwrite(save_path,I)\n",
        "        except:\n",
        "          None"
      ],
      "execution_count": null,
      "outputs": [
        {
          "output_type": "stream",
          "text": [
            "0\n",
            "20\n",
            "40\n",
            "60\n",
            "80\n",
            "0\n",
            "20\n",
            "40\n",
            "60\n",
            "80\n",
            "0\n",
            "20\n",
            "40\n",
            "60\n",
            "80\n"
          ],
          "name": "stdout"
        }
      ]
    },
    {
      "cell_type": "code",
      "metadata": {
        "id": "jsxJMpTjcJGk",
        "colab_type": "code",
        "colab": {
          "base_uri": "https://localhost:8080/",
          "height": 173
        },
        "outputId": "4d87fa5e-df48-4143-8a82-fd5e0a2a9d09"
      },
      "source": [
        "# Creating the validation examples \n",
        "\n",
        "for class_ in pages:\n",
        "  for progress in range(50):\n",
        "      if(progress%20==0):\n",
        "          print(progress)\n",
        "      if not pages[class_][n_of_training_images + progress] == None:\n",
        "        try:\n",
        "          I = url_to_image(pages[class_][n_of_training_images + progress])\n",
        "          if (len(I.shape)) == 3: #check if the image has width, length and channels\n",
        "            save_path = '/content/validation/' + class_ + '/img'+str(n_of_training_images + progress)+'.jpg'#create a name of each image\n",
        "            cv2.imwrite(save_path,I)\n",
        "        except:\n",
        "          None"
      ],
      "execution_count": null,
      "outputs": [
        {
          "output_type": "stream",
          "text": [
            "0\n",
            "20\n",
            "40\n",
            "0\n",
            "20\n",
            "40\n",
            "0\n",
            "20\n",
            "40\n"
          ],
          "name": "stdout"
        }
      ]
    },
    {
      "cell_type": "code",
      "metadata": {
        "id": "RQvXyYa8ctAw",
        "colab_type": "code",
        "colab": {
          "base_uri": "https://localhost:8080/",
          "height": 173
        },
        "outputId": "fe057c11-b0eb-4677-d86f-765f40910520"
      },
      "source": [
        "for class_ in pages:\n",
        "  for progress in range(50):\n",
        "      if(progress%20==0):\n",
        "          print(progress)\n",
        "      if not pages[class_][n_of_training_images + progress + 50] == None:\n",
        "        try:\n",
        "          I = url_to_image(pages[class_][n_of_training_images + progress + 50])\n",
        "          if (len(I.shape)) == 3: #check if the image has width, length and channels\n",
        "            save_path = '/content/test/test/' + str(class_) +  '_' +str(n_of_training_images + progress + 50) +'.jpg'#create a name of each image\n",
        "            cv2.imwrite(save_path,I)\n",
        "        except:\n",
        "          None"
      ],
      "execution_count": null,
      "outputs": [
        {
          "output_type": "stream",
          "text": [
            "0\n",
            "20\n",
            "40\n",
            "0\n",
            "20\n",
            "40\n",
            "0\n",
            "20\n",
            "40\n"
          ],
          "name": "stdout"
        }
      ]
    },
    {
      "cell_type": "markdown",
      "metadata": {
        "id": "VgzHNlx0eCUN",
        "colab_type": "text"
      },
      "source": [
        "# Q.2 Build a classification model for image recognition for images in Q1(6 Marks)\n",
        "\n",
        "Ans:"
      ]
    },
    {
      "cell_type": "code",
      "metadata": {
        "id": "gveh11cJeSfn",
        "colab_type": "code",
        "colab": {
          "base_uri": "https://localhost:8080/",
          "height": 69
        },
        "outputId": "61382c53-28f6-4be2-fc19-9055fbab55ea"
      },
      "source": [
        "from keras.models import Sequential\n",
        "from keras.layers import Conv2D, Flatten, Dense\n",
        "from keras.optimizers import SGD\n",
        "from keras.preprocessing.image import ImageDataGenerator\n",
        "\n",
        "\n",
        "trainval_datagen = ImageDataGenerator(\n",
        "    rescale=1./255, horizontal_flip=True\n",
        ")\n",
        "\n",
        "\n",
        "test_datagen = ImageDataGenerator(\n",
        "    rescale=1./255\n",
        ")\n",
        "\n",
        "#\n",
        "\n",
        "#flow_from_directory()\n",
        "\n",
        "train_generator = trainval_datagen.flow_from_directory(directory='/content/train/',\n",
        "                                                       seed=7,\n",
        "                                                       shuffle=True,\n",
        "                                                       color_mode='rgb',\n",
        "                                                       class_mode='categorical',\n",
        "                                                       target_size=(150,150))\n",
        "\n",
        "val_generator = trainval_datagen.flow_from_directory(directory='/content/validation/',                                                      \n",
        "                                                       seed=7,\n",
        "                                                       shuffle=True,                                                       \n",
        "                                                       color_mode='rgb',\n",
        "                                                       class_mode='categorical',\n",
        "                                                       target_size=(150,150))\n",
        "\n",
        "\n",
        "\n",
        "test_generator = test_datagen.flow_from_directory(directory='/content/test/',\n",
        "                                                  seed=7,\n",
        "                                                  shuffle=False,                                                  \n",
        "                                                  class_mode=None,\n",
        "                                                  color_mode='rgb',\n",
        "                                                  target_size=(150,150))\n",
        "\n",
        "model = Sequential()\n",
        "model.add(Conv2D(512, (150,150), padding='valid', activation='relu', input_shape=(150,150,3)))\n",
        "model.add(Flatten())\n",
        "model.add(Dense(512, activation='relu'))\n",
        "model.add(Dense(256, activation='relu'))\n",
        "model.add(Dense(3, activation='softmax'))\n",
        "\n",
        "\n",
        "model.compile(loss='categorical_crossentropy', optimizer='adam', metrics=['accuracy'])"
      ],
      "execution_count": null,
      "outputs": [
        {
          "output_type": "stream",
          "text": [
            "Found 219 images belonging to 3 classes.\n",
            "Found 95 images belonging to 3 classes.\n",
            "Found 100 images belonging to 1 classes.\n"
          ],
          "name": "stdout"
        }
      ]
    }
  ]
}