{
  "nbformat": 4,
  "nbformat_minor": 0,
  "metadata": {
    "colab": {
      "name": "MTDS_M2_D005.ipynb",
      "provenance": [],
      "private_outputs": true,
      "collapsed_sections": [
        "U3j4yBByVols",
        "-wRQqOeB5Zh5"
      ],
      "include_colab_link": true
    },
    "kernelspec": {
      "name": "python3",
      "display_name": "Python 3"
    },
    "accelerator": "GPU"
  },
  "cells": [
    {
      "cell_type": "markdown",
      "metadata": {
        "id": "view-in-github",
        "colab_type": "text"
      },
      "source": [
        "<a href=\"https://colab.research.google.com/github/vikpy/DLSem3/blob/master/MTDS_M2_D005.ipynb\" target=\"_parent\"><img src=\"https://colab.research.google.com/assets/colab-badge.svg\" alt=\"Open In Colab\"/></a>"
      ]
    },
    {
      "cell_type": "markdown",
      "metadata": {
        "id": "zKmFmyaGunc7"
      },
      "source": [
        "# TASK #2: MOUNT DRIVE AND IMPORT LIBRARIES/DATASETS"
      ]
    },
    {
      "cell_type": "markdown",
      "metadata": {
        "id": "G4OdH814kOII"
      },
      "source": [
        "- In this case study, we want to classify images of traffic signs using deep Convolutional Neural Networks (CNNs).\n",
        "- The dataset consists of 43 different classes of images. \n",
        "- Classes are as listed below: \n",
        "  - 0 = Speed limit (20km/h) \n",
        "  - 1 = Speed limit (30km/h)\n",
        "  - 2 = Speed limit (50km/h) \n",
        "  - 3 = Speed limit (60km/h)\n",
        "  - 4 = Speed limit (70km/h) \n",
        "  - 5 = Speed limit (80km/h)\n",
        "  - 6 = End of speed limit (80km/h)\n",
        "  - 7 = Speed limit (100km/h)\n",
        "  - 8 = Speed limit (120km/h)\n",
        "  - 9 = No passing\n",
        "  - 10 = No passing for vehicles over 3.5 metric tons\n",
        "  - 11 = Right-of-way at the next intersection\n",
        "  - 12 = Priority road\n",
        "  - 13 = Yield\n",
        "  - 14 = Stop\n",
        "  - 15 = No vehicles\n",
        "  - 16 = Vehicles over 3.5 metric tons prohibited\n",
        "  - 17 = No entry\n",
        "  - 18 = General caution\n",
        "  - 19 = Dangerous curve to the left\n",
        "  - 20 = Dangerous curve to the right\n",
        "  - 21 = Double curve\n",
        "  - 22 = Bumpy road\n",
        "  - 23 = Slippery road\n",
        "  - 24 = Road narrows on the right\n",
        "  - 25 = Road work\n",
        "  - 26 = Traffic signals\n",
        "  - 27 = Pedestrians\n",
        "  - 28 = Children crossing \n",
        "  - 29 = Bicycles crossing\n",
        "  - 30 = Beware of ice/snow\n",
        "  - 31 = Wild animals crossing\n",
        "  - 32 = End of all speed and passing limits\n",
        "  - 33 = Turn right ahead\n",
        "  - 34 = Turn left ahead\n",
        "  - 35 = Ahead only\n",
        "  - 36 = Go straight or right\n",
        "  - 37 = Go straight or left\n",
        "  - 38 = Keep right\n",
        "  - 39 = Keep left\n",
        "  - 40 = Roundabout mandatory\n",
        "  - 41 = End of no passing\n",
        "  - 42 = End of no passing by vehicles over 3.5 metric tons\n",
        "\n",
        "- Citation\n",
        "J. Stallkamp, M. Schlipsing, J. Salmen, and C. Igel. The German Traffic Sign Recognition Benchmark: A multi-class classification competition. In Proceedings of the IEEE International Joint Conference on Neural Networks, pages 1453–1460. 2011. \n",
        "@inproceedings{Stallkamp-IJCNN-2011, author = {Johannes Stallkamp and Marc Schlipsing and Jan Salmen and Christian Igel}, booktitle = {IEEE International Joint Conference on Neural Networks}, title = {The {G}erman {T}raffic {S}ign {R}ecognition {B}enchmark: A multi-class classification competition}, year = {2011}, pages = {1453--1460} }"
      ]
    },
    {
      "cell_type": "code",
      "metadata": {
        "id": "AhbU2fAZh0oe"
      },
      "source": [
        "import matplotlib.pyplot as plt\n",
        "import numpy as np\n",
        "import tensorflow as tf\n",
        "import pandas as pd\n",
        "import seaborn as sns\n",
        "import pickle\n",
        "import random"
      ],
      "execution_count": null,
      "outputs": []
    },
    {
      "cell_type": "code",
      "metadata": {
        "id": "GKpz8CSLh5iQ"
      },
      "source": [
        "!wget --load-cookies /tmp/cookies.txt \"https://docs.google.com/uc?export=download&confirm=$(wget --quiet --save-cookies /tmp/cookies.txt --keep-session-cookies --no-check-certificate 'https://docs.google.com/uc?export=download&id=1tQ2HkQdxCUpAo4twbqN6mu7FYD7Ry5tq' -O- | sed -rn 's/.*confirm=([0-9A-Za-z_]+).*/\\1\\n/p')&id=1tQ2HkQdxCUpAo4twbqN6mu7FYD7Ry5tq\" -O train.p && rm -rf /tmp/cookies.txt\n",
        "!wget --no-check-certificate 'https://docs.google.com/uc?export=download&id=1zJxB1YzBYuImaHBSxWGN-ZXPDRYN_CTX' -O valid.p\n",
        "!wget --no-check-certificate 'https://docs.google.com/uc?export=download&id=1jZhZpEZkYFaaPPAwfd1cB8e-FK0aoeC0' -O test.p"
      ],
      "execution_count": null,
      "outputs": []
    },
    {
      "cell_type": "code",
      "metadata": {
        "id": "gUh_5xdjh0or"
      },
      "source": [
        "with open(\"/content/train.p\", mode='rb') as training_data:\n",
        "    train = pickle.load(training_data)\n",
        "with open(\"/content/valid.p\", mode='rb') as validation_data:\n",
        "    valid = pickle.load(validation_data)\n",
        "with open(\"/content/test.p\", mode='rb') as testing_data:\n",
        "    test = pickle.load(testing_data)"
      ],
      "execution_count": null,
      "outputs": []
    },
    {
      "cell_type": "code",
      "metadata": {
        "id": "-uEFeTF3rPl0"
      },
      "source": [
        "X_train, y_train = train['features'], train['labels']\n",
        "X_validation, y_validation = valid['features'], valid['labels']\n",
        "X_test, y_test = test['features'], test['labels']"
      ],
      "execution_count": null,
      "outputs": []
    },
    {
      "cell_type": "code",
      "metadata": {
        "id": "LTLHnPTGrRkc"
      },
      "source": [
        "X_train.shape"
      ],
      "execution_count": null,
      "outputs": []
    },
    {
      "cell_type": "code",
      "metadata": {
        "id": "1jLck0QwrSNz"
      },
      "source": [
        "y_train.shape"
      ],
      "execution_count": null,
      "outputs": []
    },
    {
      "cell_type": "code",
      "metadata": {
        "id": "kat4JHlkU72s"
      },
      "source": [
        "X_validation.shape"
      ],
      "execution_count": null,
      "outputs": []
    },
    {
      "cell_type": "code",
      "metadata": {
        "id": "hNn3RQWuU9f9"
      },
      "source": [
        "y_validation.shape"
      ],
      "execution_count": null,
      "outputs": []
    },
    {
      "cell_type": "code",
      "metadata": {
        "id": "zk9-1qu8VA6A"
      },
      "source": [
        "X_test.shape"
      ],
      "execution_count": null,
      "outputs": []
    },
    {
      "cell_type": "code",
      "metadata": {
        "id": "oqO02g_xVDbf"
      },
      "source": [
        "y_test.shape"
      ],
      "execution_count": null,
      "outputs": []
    },
    {
      "cell_type": "markdown",
      "metadata": {
        "id": "LlszUhNNyrl_"
      },
      "source": [
        "# TASK #3: PERFROM IMAGES VISUALIZATION"
      ]
    },
    {
      "cell_type": "code",
      "metadata": {
        "id": "ronVvCdJsYc5"
      },
      "source": [
        "i = np.random.randint(1, len(X_train))\n",
        "plt.imshow(X_train[i])\n",
        "y_train[i]"
      ],
      "execution_count": null,
      "outputs": []
    },
    {
      "cell_type": "code",
      "metadata": {
        "id": "ZUUvpXsmlwbb"
      },
      "source": [
        "# Let's view more images in a grid format\n",
        "# Define the dimensions of the plot grid \n",
        "W_grid = 5\n",
        "L_grid = 5\n",
        "\n",
        "# fig, axes = plt.subplots(L_grid, W_grid)\n",
        "# subplot return the figure object and axes object\n",
        "# we can use the axes object to plot specific figures at various locations\n",
        "\n",
        "fig, axes = plt.subplots(L_grid, W_grid, figsize = (10,10))\n",
        "\n",
        "axes = axes.ravel() # flaten the 15 x 15 matrix into 225 array\n",
        "\n",
        "n_training = len(X_train) # get the length of the training dataset\n",
        "\n",
        "# Select a random number from 0 to n_training\n",
        "for i in np.arange(0, W_grid * L_grid): # create evenly spaces variables \n",
        "\n",
        "    # Select a random number\n",
        "    index = np.random.randint(0, n_training)\n",
        "    # read and display an image with the selected index    \n",
        "    axes[i].imshow( X_train[index])\n",
        "    axes[i].set_title(y_train[index], fontsize = 15)\n",
        "    axes[i].axis('off')\n",
        "\n",
        "plt.subplots_adjust(hspace=0.4)\n",
        "\n",
        "        "
      ],
      "execution_count": null,
      "outputs": []
    },
    {
      "cell_type": "markdown",
      "metadata": {
        "id": "Y0GmpAjG3GiH"
      },
      "source": [
        "# TASK #4: CONVERT IMAGES TO GRAYSCALE AND PERFORM NORMALIZATION"
      ]
    },
    {
      "cell_type": "code",
      "metadata": {
        "id": "YI1QcjORsq2G"
      },
      "source": [
        "from sklearn.utils import shuffle\n",
        "X_train, y_train = shuffle(X_train, y_train)"
      ],
      "execution_count": null,
      "outputs": []
    },
    {
      "cell_type": "markdown",
      "metadata": {
        "id": "O39M8bHRjJYz"
      },
      "source": [
        "#Since its an RGB image, so it means that you have add r with g with b and then divide it by 3 to get your desired grayscale image. Its done in this way. If you have an color image like the image shown above and you want to convert it into grayscale using average method."
      ]
    },
    {
      "cell_type": "code",
      "metadata": {
        "id": "u2-GkZo0riel"
      },
      "source": [
        "X_train_gray = np.sum(X_train/3, axis = 3, keepdims = True)\n",
        "X_test_gray = np.sum(X_test/3, axis = 3, keepdims = True)\n",
        "X_validation_gray = np.sum(X_validation/3, axis = 3, keepdims = True)"
      ],
      "execution_count": null,
      "outputs": []
    },
    {
      "cell_type": "code",
      "metadata": {
        "id": "a2thgGKwricb"
      },
      "source": [
        "X_train_gray.shape\n"
      ],
      "execution_count": null,
      "outputs": []
    },
    {
      "cell_type": "code",
      "metadata": {
        "id": "4yZu7n28riaV"
      },
      "source": [
        "X_test_gray.shape\n"
      ],
      "execution_count": null,
      "outputs": []
    },
    {
      "cell_type": "code",
      "metadata": {
        "id": "Nar_imirriYX"
      },
      "source": [
        "X_validation_gray.shape"
      ],
      "execution_count": null,
      "outputs": []
    },
    {
      "cell_type": "code",
      "metadata": {
        "id": "-xRVL8FpriWI"
      },
      "source": [
        "X_train_gray_norm = (X_train_gray - 128)/128\n",
        "X_test_gray_norm = (X_test_gray - 128)/128\n",
        "X_validation_gray_norm = (X_validation_gray - 128)/128"
      ],
      "execution_count": null,
      "outputs": []
    },
    {
      "cell_type": "code",
      "metadata": {
        "id": "__hg6A5yrq2c"
      },
      "source": [
        "i = random.randint(1, len(X_train_gray))\n",
        "plt.imshow(X_train_gray[i].squeeze(), cmap = 'gray')\n",
        "plt.figure()\n",
        "plt.imshow(X_train[i])\n",
        "plt.figure()\n",
        "plt.imshow(X_train_gray_norm[i].squeeze(), cmap = 'gray')"
      ],
      "execution_count": null,
      "outputs": []
    },
    {
      "cell_type": "markdown",
      "metadata": {
        "id": "U3j4yBByVols"
      },
      "source": [
        "#Building the model"
      ]
    },
    {
      "cell_type": "markdown",
      "metadata": {
        "id": "rKxOS1MfVq3J"
      },
      "source": [
        "#Use this space for coding"
      ]
    },
    {
      "cell_type": "code",
      "metadata": {
        "id": "jiwkiuWQAmAB"
      },
      "source": [
        "from keras.models import model_from_json\n",
        "def save_model(model, file_path, json_path):\n",
        "  model_json = model.to_json()\n",
        "  with open(json_path, \"w\") as json_file:\n",
        "      json_file.write(model_json)\n",
        "  # serialize weights to HDF5\n",
        "  model.save_weights(file_path)\n",
        "  print(f\"Model saved to {file_path}\")\n",
        "\n",
        "def load_model(file_path, json_path):\n",
        "  json_file = open(json_path, 'r')\n",
        "  loaded_model_json = json_file.read()\n",
        "  json_file.close()\n",
        "  loaded_model = model_from_json(loaded_model_json)\n",
        "  # load weights into new model\n",
        "  loaded_model.load_weights(file_path)\n",
        "  return loaded_model"
      ],
      "execution_count": null,
      "outputs": []
    },
    {
      "cell_type": "code",
      "metadata": {
        "id": "zyX8nViQVtr_"
      },
      "source": [
        "#\n",
        "#  Model 0\n",
        "#\n",
        "\"\"\"\n",
        "from keras.models import Sequential\n",
        "from keras.layers import Conv2D, MaxPool2D, Dense, Flatten, Dropout, BatchNormalization\n",
        "\n",
        "model = Sequential()\n",
        "model.add(Conv2D(filters=32, kernel_size=(5,5), activation='relu',padding = 'same', input_shape=X_validation_gray_norm.shape[1:]))\n",
        "model.add(BatchNormalization())\n",
        "model.add(Conv2D(filters=64, kernel_size=(3, 3),padding = 'same', activation='relu'))\n",
        "model.add(BatchNormalization())\n",
        "model.add(MaxPool2D(pool_size=(2, 2)))\n",
        "model.add(Dropout(rate=0.25))\n",
        "model.add(Conv2D(filters=64, kernel_size=(3, 3),padding='same',  activation='relu'))\n",
        "model.add(BatchNormalization())\n",
        "model.add(MaxPool2D(pool_size=(2, 2)))\n",
        "model.add(Dropout(rate=0.25))\n",
        "model.add(Flatten())\n",
        "model.add(Dense(256, activation='relu'))\n",
        "model.add(Dropout(rate=0.5))\n",
        "model.add(Dense(43, activation='softmax'))\n",
        "\n",
        "\n",
        "# Compilation \n",
        "from keras.optimizers import Adam\n",
        "loss = 'sparse_categorical_crossentropy'\n",
        "optimizer = Adam(lr=0.001)\n",
        "metrics = [\"accuracy\"]\n",
        "model.compile(\n",
        "    loss=loss, \n",
        "    optimizer=optimizer, \n",
        "    metrics=metrics\n",
        ")\n",
        "\n",
        "# Training the model \n",
        "\n",
        "# Using Call backs for efficiency \n",
        "from keras.callbacks import ReduceLROnPlateau, EarlyStopping, ModelCheckpoint\n",
        "\n",
        "es= EarlyStopping(monitor=\"val_accuracy\", patience=10, min_delta=0.0005, mode='auto',verbose=1)\n",
        "#mc=ModelCheckpoint(filepath=\"best.h5\", monitor='val_loss', verbose=1, save_best_only=True, mode='auto')\n",
        "red_lr= ReduceLROnPlateau(monitor='val_accuracy',patience=10,verbose=1,factor=0.1)\n",
        "\n",
        "\n",
        "epochs = 500\n",
        "history = model.fit(X_train_gray_norm, y_train, batch_size=32, epochs=epochs,\n",
        "validation_data=(X_validation_gray_norm, y_validation),callbacks=[es,red_lr])\n",
        "\n",
        "\"\"\""
      ],
      "execution_count": null,
      "outputs": []
    },
    {
      "cell_type": "code",
      "metadata": {
        "id": "bBkFONjuVt6D"
      },
      "source": [
        "from keras.preprocessing.image import ImageDataGenerator\n",
        "# prepare data augmentation configuration\n",
        "\n",
        "train_datagen = ImageDataGenerator(\n",
        "#        shear_range=0.2,\n",
        "#        zoom_range=0.2,\n",
        "#        brightness_range = (0.0, 1),\n",
        "        horizontal_flip=True)\n",
        "\n",
        "\n",
        "\n",
        "train_generator = train_datagen.flow(\n",
        "    X_train_gray_norm, y_train,\n",
        "    batch_size=32\n",
        "\n",
        ")\n",
        "\n",
        "\n",
        "test_datagen = ImageDataGenerator()\n",
        "\n",
        "validation_generator = test_datagen.flow(\n",
        "\n",
        "  \n",
        "X_validation_gray_norm, y_validation,\n",
        "    batch_size=32\n",
        "\n",
        ")\n",
        "\n",
        "\n",
        "#\n",
        "# Model 1 \n",
        "#\n",
        "from keras.models import Sequential\n",
        "from keras.layers import Conv2D, MaxPool2D, Dense, Flatten, Dropout\n",
        "\n",
        "model = Sequential()\n",
        "model.add(Conv2D(filters=32, kernel_size=(5,5), activation='relu', input_shape=X_train_gray_norm.shape[1:]))\n",
        "model.add(Conv2D(filters=64, kernel_size=(3, 3), activation='relu'))\n",
        "model.add(MaxPool2D(pool_size=(2, 2)))\n",
        "model.add(Dropout(rate=0.25))\n",
        "model.add(Conv2D(filters=64, kernel_size=(3, 3), activation='relu'))\n",
        "model.add(MaxPool2D(pool_size=(2, 2)))\n",
        "model.add(Dropout(rate=0.25))\n",
        "model.add(Flatten())\n",
        "model.add(Dense(256, activation='relu'))\n",
        "model.add(Dropout(rate=0.5))\n",
        "model.add(Dense(43, activation='softmax'))\n",
        "\n",
        "#Compilation of the model\n",
        "\n",
        "model.compile(\n",
        "    loss='sparse_categorical_crossentropy', \n",
        "    optimizer='adam', \n",
        "    metrics=['accuracy']\n",
        ")\n",
        "\n",
        "epochs = 200\n",
        "history = model.fit_generator(train_generator,  epochs=epochs,\n",
        "validation_data=validation_generator)"
      ],
      "execution_count": null,
      "outputs": []
    },
    {
      "cell_type": "code",
      "metadata": {
        "id": "uTp6-_cJYgT4"
      },
      "source": [
        "#save_model(model, \"model1.h5\", \"model1.json\")\n",
        "#model  = load_model( \"model1.h5\", \"model1.json\")\n",
        "#model.compile(\n",
        "#    loss='sparse_categorical_crossentropy', \n",
        "#    optimizer='adam', \n",
        "#    metrics=['accuracy']\n",
        "#)"
      ],
      "execution_count": null,
      "outputs": []
    },
    {
      "cell_type": "code",
      "metadata": {
        "id": "6k64m0ehVuQt"
      },
      "source": [
        "#\n",
        "# Model 2\n",
        "#\n",
        "\"\"\"\n",
        "from keras.models import Sequential\n",
        "from keras.layers import Conv2D, MaxPool2D, Dense, Flatten, Dropout\n",
        "from keras.optimizers import Adam\n",
        "model = Sequential()\n",
        "model.add(Conv2D(60, (5, 5), input_shape=X_train_gray_norm.shape[1:], activation='relu'))\n",
        "model.add(Conv2D(60, (5, 5), activation='relu'))\n",
        "model.add(MaxPool2D(pool_size=(2, 2)))\n",
        "  \n",
        "model.add(Conv2D(30, (3, 3), activation='relu'))\n",
        "model.add(Conv2D(30, (3, 3), activation='relu'))\n",
        "model.add(MaxPool2D(pool_size=(2, 2)))\n",
        "  \n",
        "model.add(Flatten())\n",
        "model.add(Dense(500, activation='relu'))\n",
        "model.add(Dense(43, activation='softmax'))\n",
        "  \n",
        "model.compile(Adam(lr = 0.001), loss='sparse_categorical_crossentropy', metrics=['accuracy'])\n",
        "\n",
        "epochs = 100\n",
        "history = model.fit(X_train_gray_norm, y_train, batch_size=32, epochs=epochs,\n",
        "validation_data=(X_validation_gray_norm, y_validation))\n",
        "\"\"\""
      ],
      "execution_count": null,
      "outputs": []
    },
    {
      "cell_type": "code",
      "metadata": {
        "id": "HtapHmbxBv2c"
      },
      "source": [
        "#save_model(model, \"model2.h5\", \"model2.json\")"
      ],
      "execution_count": null,
      "outputs": []
    },
    {
      "cell_type": "code",
      "metadata": {
        "id": "Sj_5ox2fCneg"
      },
      "source": [
        "#model  = load_model( \"model2.h5\", \"model2.json\")\n",
        "#model.compile(Adam(lr = 0.001), loss='sparse_categorical_crossentropy', metrics=['accuracy'])\n"
      ],
      "execution_count": null,
      "outputs": []
    },
    {
      "cell_type": "code",
      "metadata": {
        "id": "JCboE0wFM8fb"
      },
      "source": [
        "#\n",
        "# Model 3 \n",
        "#\n",
        "\"\"\"\n",
        "from keras.models import Sequential\n",
        "from keras.layers import Conv2D, MaxPool2D, Dense, Flatten, Dropout\n",
        "\n",
        "model = Sequential()\n",
        "model.add(Conv2D(filters=32, kernel_size=(5,5), activation='relu', input_shape=X_train_gray_norm.shape[1:]))\n",
        "model.add(Conv2D(filters=64, kernel_size=(3, 3), activation='relu'))\n",
        "model.add(MaxPool2D(pool_size=(2, 2)))\n",
        "model.add(Dropout(rate=0.25))\n",
        "model.add(Conv2D(filters=32, kernel_size=(5,5), activation='relu'))\n",
        "model.add(Conv2D(filters=64, kernel_size=(3, 3), activation='relu'))\n",
        "model.add(MaxPool2D(pool_size=(2, 2)))\n",
        "model.add(Dropout(rate=0.25))\n",
        "model.add(Flatten())\n",
        "model.add(Dense(256, activation='relu'))\n",
        "model.add(Dropout(rate=0.5))\n",
        "model.add(Dense(128, activation='relu'))\n",
        "model.add(Dropout(rate=0.5))\n",
        "model.add(Dense(64, activation='relu'))\n",
        "model.add(Dropout(rate=0.5))\n",
        "model.add(Dense(43, activation='softmax'))\n",
        "\n",
        "#Compilation of the model\n",
        "from keras.optimizers import Adam\n",
        "loss = 'sparse_categorical_crossentropy'\n",
        "optimizer = Adam(lr=0.001)\n",
        "metrics = [\"accuracy\"]\n",
        "model.compile(\n",
        "    loss=loss, \n",
        "    optimizer=optimizer, \n",
        "    metrics=metrics\n",
        ")\n",
        "\n",
        "epochs = 100\n",
        "history = model.fit(X_train_gray_norm, y_train, batch_size=32, epochs=epochs,\n",
        "validation_data=(X_validation_gray_norm, y_validation))\n",
        "\n",
        "\"\"\""
      ],
      "execution_count": null,
      "outputs": []
    },
    {
      "cell_type": "code",
      "metadata": {
        "id": "7j_xRIJeSEYd"
      },
      "source": [
        "\"\"\"\n",
        "save_model(model, \"model3.h5\", \"model3.json\")\n",
        "model  = load_model( \"model3.h5\", \"model3.json\")\n",
        "model.compile(Adam(lr = 0.001), loss='sparse_categorical_crossentropy', metrics=['accuracy'])\n",
        "\"\"\""
      ],
      "execution_count": null,
      "outputs": []
    },
    {
      "cell_type": "code",
      "metadata": {
        "id": "lEN66Ty5SZzp"
      },
      "source": [
        "#\n",
        "# Model 4\n",
        "#\n",
        "\"\"\"\n",
        "from keras.models import Sequential\n",
        "from keras.layers import Conv2D, MaxPool2D, Dense, Flatten, Dropout, MaxPooling2D, BatchNormalization, Activation\n",
        "\n",
        "model = Sequential()\n",
        "model.add(Conv2D(filters=32, kernel_size=(5,5), activation='relu', input_shape=X_train_gray_norm.shape[1:]))\n",
        "model.add(Conv2D(filters=64, kernel_size=(3, 3), activation='relu'))\n",
        "model.add(MaxPool2D(pool_size=(2, 2)))\n",
        "model.add(Dropout(rate=0.25))\n",
        "model.add(Conv2D(filters=128, kernel_size=(3, 3), activation='relu'))\n",
        "model.add(MaxPool2D(pool_size=(2, 2)))\n",
        "model.add(Dropout(rate=0.25))\n",
        "model.add(Conv2D(filters=64, kernel_size=(3, 3), padding='same', activation='relu'))\n",
        "model.add(MaxPool2D(pool_size=(2, 2)))\n",
        "model.add(Dropout(rate=0.25))\n",
        "model.add(Flatten())\n",
        "model.add(Dense(256, activation='relu'))\n",
        "model.add(Dropout(rate=0.5))\n",
        "model.add(Dense(128, activation='relu'))\n",
        "model.add(Dropout(rate=0.5))\n",
        "model.add(Dense(64, activation='relu'))\n",
        "model.add(Dropout(rate=0.5))\n",
        "model.add(Dense(43, activation='softmax'))\n",
        "\n",
        "\n",
        "\n",
        "#Compilation of the model\n",
        "loss = 'sparse_categorical_crossentropy'\n",
        "optimizer = 'adam'\n",
        "metrics = [\"accuracy\"]\n",
        "model.compile(\n",
        "    loss=loss, \n",
        "    optimizer=optimizer, \n",
        "    metrics=metrics\n",
        ")\n",
        "\n",
        "epochs = 20\n",
        "history = model.fit(X_train_gray_norm, y_train, batch_size=32, epochs=epochs,\n",
        "validation_data=(X_validation_gray_norm, y_validation))\n",
        "\"\"\""
      ],
      "execution_count": null,
      "outputs": []
    },
    {
      "cell_type": "markdown",
      "metadata": {
        "id": "-wRQqOeB5Zh5"
      },
      "source": [
        "# TASK #8: ASSESS TRAINED CNN MODEL PERFORMANCE "
      ]
    },
    {
      "cell_type": "markdown",
      "metadata": {
        "id": "7ZNyctYAV4SK"
      },
      "source": [
        "#Marks will be given on basis of next code cells results"
      ]
    },
    {
      "cell_type": "code",
      "metadata": {
        "id": "_RpB2PAd9SE9"
      },
      "source": [
        "CNN  = model\n",
        "score = CNN.evaluate(X_test_gray_norm, y_test)\n",
        "print('Test Accuracy: {}'.format(score[1]))"
      ],
      "execution_count": null,
      "outputs": []
    },
    {
      "cell_type": "markdown",
      "metadata": {
        "id": "Aeq_zupHWCrL"
      },
      "source": [
        "#Attach a screen shot of your results as proof below this cell"
      ]
    },
    {
      "cell_type": "markdown",
      "metadata": {
        "id": "4zHrrJPHWIF9"
      },
      "source": [
        "![model1.JPG](data:image/jpeg;base64,/9j/4AAQSkZJRgABAQEAeAB4AAD/4RDyRXhpZgAATU0AKgAAAAgABAE7AAIAAAANAAAISodpAAQAAAABAAAIWJydAAEAAAAaAAAQ0OocAAcAAAgMAAAAPgAAAAAc6gAAAAgAAAAAAAAAAAAAAAAAAAAAAAAAAAAAAAAAAAAAAAAAAAAAAAAAAAAAAAAAAAAAAAAAAAAAAAAAAAAAAAAAAAAAAAAAAAAAAAAAAAAAAAAAAAAAAAAAAAAAAAAAAAAAAAAAAAAAAAAAAAAAAAAAAAAAAAAAAAAAAAAAAAAAAAAAAAAAAAAAAAAAAAAAAAAAAAAAAAAAAAAAAAAAAAAAAAAAAAAAAAAAAAAAAAAAAAAAAAAAAAAAAAAAAAAAAAAAAAAAAAAAAAAAAAAAAAAAAAAAAAAAAAAAAAAAAAAAAAAAAAAAAAAAAAAAAAAAAAAAAAAAAAAAAAAAAAAAAAAAAAAAAAAAAAAAAAAAAAAAAAAAAAAAAAAAAAAAAAAAAAAAAAAAAAAAAAAAAAAAAAAAAAAAAAAAAAAAAAAAAAAAAAAAAAAAAAAAAAAAAAAAAAAAAAAAAAAAAAAAAAAAAAAAAAAAAAAAAAAAAAAAAAAAAAAAAAAAAAAAAAAAAAAAAAAAAAAAAAAAAAAAAAAAAAAAAAAAAAAAAAAAAAAAAAAAAAAAAAAAAAAAAAAAAAAAAAAAAAAAAAAAAAAAAAAAAAAAAAAAAAAAAAAAAAAAAAAAAAAAAAAAAAAAAAAAAAAAAAAAAAAAAAAAAAAAAAAAAAAAAAAAAAAAAAAAAAAAAAAAAAAAAAAAAAAAAAAAAAAAAAAAAAAAAAAAAAAAAAAAAAAAAAAAAAAAAAAAAAAAAAAAAAAAAAAAAAAAAAAAAAAAAAAAAAAAAAAAAAAAAAAAAAAAAAAAAAAAAAAAAAAAAAAAAAAAAAAAAAAAAAAAAAAAAAAAAAAAAAAAAAAAAAAAAAAAAAAAAAAAAAAAAAAAAAAAAAAAAAAAAAAAAAAAAAAAAAAAAAAAAAAAAAAAAAAAAAAAAAAAAAAAAAAAAAAAAAAAAAAAAAAAAAAAAAAAAAAAAAAAAAAAAAAAAAAAAAAAAAAAAAAAAAAAAAAAAAAAAAAAAAAAAAAAAAAAAAAAAAAAAAAAAAAAAAAAAAAAAAAAAAAAAAAAAAAAAAAAAAAAAAAAAAAAAAAAAAAAAAAAAAAAAAAAAAAAAAAAAAAAAAAAAAAAAAAAAAAAAAAAAAAAAAAAAAAAAAAAAAAAAAAAAAAAAAAAAAAAAAAAAAAAAAAAAAAAAAAAAAAAAAAAAAAAAAAAAAAAAAAAAAAAAAAAAAAAAAAAAAAAAAAAAAAAAAAAAAAAAAAAAAAAAAAAAAAAAAAAAAAAAAAAAAAAAAAAAAAAAAAAAAAAAAAAAAAAAAAAAAAAAAAAAAAAAAAAAAAAAAAAAAAAAAAAAAAAAAAAAAAAAAAAAAAAAAAAAAAAAAAAAAAAAAAAAAAAAAAAAAAAAAAAAAAAAAAAAAAAAAAAAAAAAAAAAAAAAAAAAAAAAAAAAAAAAAAAAAAAAAAAAAAAAAAAAAAAAAAAAAAAAAAAAAAAAAAAAAAAAAAAAAAAAAAAAAAAAAAAAAAAAAAAAAAAAAAAAAAAAAAAAAAAAAAAAAAAAAAAAAAAAAAAAAAAAAAAAAAAAAAAAAAAAAAAAAAAAAAAAAAAAAAAAAAAAAAAAAAAAAAAAAAAAAAAAAAAAAAAAAAAAAAAAAAAAAAAAAAAAAAAAAAAAAAAAAAAAAAAAAAAAAAAAAAAAAAAAAAAAAAAAAAAAAAAAAAAAAAAAAAAAAAAAAAAAAAAAAAAAAAAAAAAAAAAAAAAAAAAAAAAAAAAAAAAAAAAAAAAAAAAAAAAAAAAAAAAAAAAAAAAAAAAAAAAAAAAAAAAAAAAAAAAAAAAAAAAAAAAAAAAAAAAAAAAAAAAAAAAAAAAAAAAAAAAAAAAAAAAAAAAAAAAAAAAAAAAAAAAAAAAAAAAAAAAAAAAAAAAAAAAAAAAAAAAAAAAAAAAAAAAAAAAAAAAAAAAAAAAAAAAAAAAAAAAAAAAAAAAAAAAAAAAAAAAAAAAAAAAAAAAAAAAAAAAAAAAAAAAAAAAAAAAAAAAAAAAAAAAAAAAAAAAAAAAAAAAAAAAAAAAAAAAAAAAAAAAAAAAAAAAAAAAAAAAAAAAAAAAAAAAAAAAAAAAAAAAAAAAAAAAAAAAAAAAAAAAAAAAAAAAAAAAAAAAAAAAAAAAAAAAAAAAAAAAAAAAAAAAAAAAAAAAAAAAAAAAAAAAAAAAAAAAAAAAAAAAAAAAAAAAAAAAAAAAAAAAAAAAAAAAAAAAAAAAAAAAAAAAAAAAAAAAAAAAAAAAAAAAAAAAAAAAAAAAAAAAAAAAAAAAAAAAAAAAAAAAAAAAAAAAAAAAAAAAAAAAAAAAAAAAAAAAAAAAAAAAAAAAAAAAAAAAAAAAAAAAAAAAAAAAAAAAAAAAAAAAAAAAAAAAAAAAAAAAAAAAAAAAAAAAAAAAAAAAAAAAAAAAAAAAAAAAAAAAAAAAAAAAAAAAAAAAAAAAAAAAAAAAAAAAAAAAAAAAAAAAAAAAAAAAAAAAAAAAAAAAAAAAAAAAAAAAAAAAAAAAAAAAAAAAAAAAAAAAAAAAAAAAAAAAAAAAAAAAAAAAAAAAAAAAAAAAAAAAAAAAAAAAAAAAAAAAAAAAAAAAAAAAAAAAAAAAAAAAAAAAAAAAAAAAAAAAAAAAAAAAAAAAAAAAAAAAAAAAAAAAAAAAAAAAAAAAAAAAAAAAAAAAAAAAAAAAAAAAAAAAAAAAAAAAAAAAAAAAAAAAAAAAAAAAAAAAAAAAAAAAAAAAAAAAAFZpa3JhYW50IFBhaQAAAAWQAwACAAAAFAAAEKaQBAACAAAAFAAAELqSkQACAAAAAzcwAACSkgACAAAAAzcwAADqHAAHAAAIDAAACJoAAAAAHOoAAAAIAAAAAAAAAAAAAAAAAAAAAAAAAAAAAAAAAAAAAAAAAAAAAAAAAAAAAAAAAAAAAAAAAAAAAAAAAAAAAAAAAAAAAAAAAAAAAAAAAAAAAAAAAAAAAAAAAAAAAAAAAAAAAAAAAAAAAAAAAAAAAAAAAAAAAAAAAAAAAAAAAAAAAAAAAAAAAAAAAAAAAAAAAAAAAAAAAAAAAAAAAAAAAAAAAAAAAAAAAAAAAAAAAAAAAAAAAAAAAAAAAAAAAAAAAAAAAAAAAAAAAAAAAAAAAAAAAAAAAAAAAAAAAAAAAAAAAAAAAAAAAAAAAAAAAAAAAAAAAAAAAAAAAAAAAAAAAAAAAAAAAAAAAAAAAAAAAAAAAAAAAAAAAAAAAAAAAAAAAAAAAAAAAAAAAAAAAAAAAAAAAAAAAAAAAAAAAAAAAAAAAAAAAAAAAAAAAAAAAAAAAAAAAAAAAAAAAAAAAAAAAAAAAAAAAAAAAAAAAAAAAAAAAAAAAAAAAAAAAAAAAAAAAAAAAAAAAAAAAAAAAAAAAAAAAAAAAAAAAAAAAAAAAAAAAAAAAAAAAAAAAAAAAAAAAAAAAAAAAAAAAAAAAAAAAAAAAAAAAAAAAAAAAAAAAAAAAAAAAAAAAAAAAAAAAAAAAAAAAAAAAAAAAAAAAAAAAAAAAAAAAAAAAAAAAAAAAAAAAAAAAAAAAAAAAAAAAAAAAAAAAAAAAAAAAAAAAAAAAAAAAAAAAAAAAAAAAAAAAAAAAAAAAAAAAAAAAAAAAAAAAAAAAAAAAAAAAAAAAAAAAAAAAAAAAAAAAAAAAAAAAAAAAAAAAAAAAAAAAAAAAAAAAAAAAAAAAAAAAAAAAAAAAAAAAAAAAAAAAAAAAAAAAAAAAAAAAAAAAAAAAAAAAAAAAAAAAAAAAAAAAAAAAAAAAAAAAAAAAAAAAAAAAAAAAAAAAAAAAAAAAAAAAAAAAAAAAAAAAAAAAAAAAAAAAAAAAAAAAAAAAAAAAAAAAAAAAAAAAAAAAAAAAAAAAAAAAAAAAAAAAAAAAAAAAAAAAAAAAAAAAAAAAAAAAAAAAAAAAAAAAAAAAAAAAAAAAAAAAAAAAAAAAAAAAAAAAAAAAAAAAAAAAAAAAAAAAAAAAAAAAAAAAAAAAAAAAAAAAAAAAAAAAAAAAAAAAAAAAAAAAAAAAAAAAAAAAAAAAAAAAAAAAAAAAAAAAAAAAAAAAAAAAAAAAAAAAAAAAAAAAAAAAAAAAAAAAAAAAAAAAAAAAAAAAAAAAAAAAAAAAAAAAAAAAAAAAAAAAAAAAAAAAAAAAAAAAAAAAAAAAAAAAAAAAAAAAAAAAAAAAAAAAAAAAAAAAAAAAAAAAAAAAAAAAAAAAAAAAAAAAAAAAAAAAAAAAAAAAAAAAAAAAAAAAAAAAAAAAAAAAAAAAAAAAAAAAAAAAAAAAAAAAAAAAAAAAAAAAAAAAAAAAAAAAAAAAAAAAAAAAAAAAAAAAAAAAAAAAAAAAAAAAAAAAAAAAAAAAAAAAAAAAAAAAAAAAAAAAAAAAAAAAAAAAAAAAAAAAAAAAAAAAAAAAAAAAAAAAAAAAAAAAAAAAAAAAAAAAAAAAAAAAAAAAAAAAAAAAAAAAAAAAAAAAAAAAAAAAAAAAAAAAAAAAAAAAAAAAAAAAAAAAAAAAAAAAAAAAAAAAAAAAAAAAAAAAAAAAAAAAAAAAAAAAAAAAAAAAAAAAAAAAAAAAAAAAAAAAAAAAAAAAAAAAAAAAAAAAAAAAAAAAAAAAAAAAAAAAAAAAAAAAAAAAAAAAAAAAAAAAAAAAAAAAAAAAAAAAAAAAAAAAAAAAAAAAAAAAAAAAAAAAAAAAAAAAAAAAAAAAAAAAAAAAAAAAAAAAAAAAAAAAAAAAAAAAAAAAAAAAAAAAAAAAAAAAAAAAAAAAAAAAAAAAAAAAAAAAAAAAAAAAAAAAAAAAAAAAAAAAAAAAAAAAAAAAAAAAAAAAAAAAAAAAAAAAAAAAAAAAAAAAAAAAAAAAAAAAAAAAAAAAAAAAAAAAAAAAAAAAAAAAAAAAAAAAAAAAAAAAAAAAAAAAAAAAAAAAAAAAAAAAAAAAAAAAAAAAAAAAAAAAAAAAAAAAAAAAAAAAAAAAAAAAAAAAAAAAAAAAAAAAAAAAAAAAAAAAAAAAAAAAAAAAAAAAAAAAAAAAAAAAAAAAAAAAAAAAAAAAAAAAAAAAAAAAAAAAAAAAAAAAAAAAAAAAAAAAAAAAAAAAAAAAAAAAAAAAAAAAAAAAAAAAAAAAAAAAAAAAAAAAAAAAAAAAAAAAAAAAAAAAAAAAAAAAAAAAAAAAAAAAAAAAAAAAAAAAAAAAAAAAAAAAAAAAAAAAAAAAAAAAAAAAAAAAAAAAAAAAAAAAAAAAAAAAAAAAAAAAAAAAAAAAAAAAAAAAAAAAAAAAAAAAAAAAAAAAAAAAAAAAAAAAAAAAAAAAAAAAAAAAAAAAAAAAAAAAAAAAAAAAAAAAAAAAAAAAAAAAAAAAAAAAAAAAAAAAAAAAAAAAAAAAAAAAAAAAAAAAAAAAAAAAAAAAAAAAAAAAAAAAAAAAAAAAAAAAAAAAAAAAAAAAAAAAAAAAAAAAAAAAAAAAAAAAAAAAAAAAAAAAAAAAAAAAAAAAAAAAAAAAAAAAAAAAAAAAAAAAAAAAAAAAAAAAAAAAAAAAAAAAAAAAAAAAAAAAAAAAAAAAAAAAAAAAAAAAAAAAAAAAAAAAAAAAAAAAAAAAAAAAAAAAAAAAAAAAAAyMDIwOjA5OjI5IDE2OjE5OjQ2ADIwMjA6MDk6MjkgMTY6MTk6NDYAAABWAGkAawByAGEAYQBuAHQAIABQAGEAaQAAAP/hCx9odHRwOi8vbnMuYWRvYmUuY29tL3hhcC8xLjAvADw/eHBhY2tldCBiZWdpbj0n77u/JyBpZD0nVzVNME1wQ2VoaUh6cmVTek5UY3prYzlkJz8+DQo8eDp4bXBtZXRhIHhtbG5zOng9ImFkb2JlOm5zOm1ldGEvIj48cmRmOlJERiB4bWxuczpyZGY9Imh0dHA6Ly93d3cudzMub3JnLzE5OTkvMDIvMjItcmRmLXN5bnRheC1ucyMiPjxyZGY6RGVzY3JpcHRpb24gcmRmOmFib3V0PSJ1dWlkOmZhZjViZGQ1LWJhM2QtMTFkYS1hZDMxLWQzM2Q3NTE4MmYxYiIgeG1sbnM6ZGM9Imh0dHA6Ly9wdXJsLm9yZy9kYy9lbGVtZW50cy8xLjEvIi8+PHJkZjpEZXNjcmlwdGlvbiByZGY6YWJvdXQ9InV1aWQ6ZmFmNWJkZDUtYmEzZC0xMWRhLWFkMzEtZDMzZDc1MTgyZjFiIiB4bWxuczp4bXA9Imh0dHA6Ly9ucy5hZG9iZS5jb20veGFwLzEuMC8iPjx4bXA6Q3JlYXRlRGF0ZT4yMDIwLTA5LTI5VDE2OjE5OjQ2LjY5ODwveG1wOkNyZWF0ZURhdGU+PC9yZGY6RGVzY3JpcHRpb24+PHJkZjpEZXNjcmlwdGlvbiByZGY6YWJvdXQ9InV1aWQ6ZmFmNWJkZDUtYmEzZC0xMWRhLWFkMzEtZDMzZDc1MTgyZjFiIiB4bWxuczpkYz0iaHR0cDovL3B1cmwub3JnL2RjL2VsZW1lbnRzLzEuMS8iPjxkYzpjcmVhdG9yPjxyZGY6U2VxIHhtbG5zOnJkZj0iaHR0cDovL3d3dy53My5vcmcvMTk5OS8wMi8yMi1yZGYtc3ludGF4LW5zIyI+PHJkZjpsaT5WaWtyYWFudCBQYWk8L3JkZjpsaT48L3JkZjpTZXE+DQoJCQk8L2RjOmNyZWF0b3I+PC9yZGY6RGVzY3JpcHRpb24+PC9yZGY6UkRGPjwveDp4bXBtZXRhPg0KICAgICAgICAgICAgICAgICAgICAgICAgICAgICAgICAgICAgICAgICAgICAgICAgICAgICAgICAgICAgICAgICAgICAgICAgICAgICAgICAgICAgICAgICAgICAgICAgICAgIAogICAgICAgICAgICAgICAgICAgICAgICAgICAgICAgICAgICAgICAgICAgICAgICAgICAgICAgICAgICAgICAgICAgICAgICAgICAgICAgICAgICAgICAgICAgICAgICAgICAgCiAgICAgICAgICAgICAgICAgICAgICAgICAgICAgICAgICAgICAgICAgICAgICAgICAgICAgICAgICAgICAgICAgICAgICAgICAgICAgICAgICAgICAgICAgICAgICAgICAgICAKICAgICAgICAgICAgICAgICAgICAgICAgICAgICAgICAgICAgICAgICAgICAgICAgICAgICAgICAgICAgICAgICAgICAgICAgICAgICAgICAgICAgICAgICAgICAgICAgICAgIAogICAgICAgICAgICAgICAgICAgICAgICAgICAgICAgICAgICAgICAgICAgICAgICAgICAgICAgICAgICAgICAgICAgICAgICAgICAgICAgICAgICAgICAgICAgICAgICAgICAgCiAgICAgICAgICAgICAgICAgICAgICAgICAgICAgICAgICAgICAgICAgICAgICAgICAgICAgICAgICAgICAgICAgICAgICAgICAgICAgICAgICAgICAgICAgICAgICAgICAgICAKICAgICAgICAgICAgICAgICAgICAgICAgICAgICAgICAgICAgICAgICAgICAgICAgICAgICAgICAgICAgICAgICAgICAgICAgICAgICAgICAgICAgICAgICAgICAgICAgICAgIAogICAgICAgICAgICAgICAgICAgICAgICAgICAgICAgICAgICAgICAgICAgICAgICAgICAgICAgICAgICAgICAgICAgICAgICAgICAgICAgICAgICAgICAgICAgICAgICAgICAgCiAgICAgICAgICAgICAgICAgICAgICAgICAgICAgICAgICAgICAgICAgICAgICAgICAgICAgICAgICAgICAgICAgICAgICAgICAgICAgICAgICAgICAgICAgICAgICAgICAgICAKICAgICAgICAgICAgICAgICAgICAgICAgICAgICAgICAgICAgICAgICAgICAgICAgICAgICAgICAgICAgICAgICAgICAgICAgICAgICAgICAgICAgICAgICAgICAgICAgICAgIAogICAgICAgICAgICAgICAgICAgICAgICAgICAgICAgICAgICAgICAgICAgICAgICAgICAgICAgICAgICAgICAgICAgICAgICAgICAgICAgICAgICAgICAgICAgICAgICAgICAgCiAgICAgICAgICAgICAgICAgICAgICAgICAgICAgICAgICAgICAgICAgICAgICAgICAgICAgICAgICAgICAgICAgICAgICAgICAgICAgICAgICAgICAgICAgICAgICAgICAgICAKICAgICAgICAgICAgICAgICAgICAgICAgICAgICAgICAgICAgICAgICAgICAgICAgICAgICAgICAgICAgICAgICAgICAgICAgICAgICAgICAgICAgICAgICAgICAgICAgICAgIAogICAgICAgICAgICAgICAgICAgICAgICAgICAgICAgICAgICAgICAgICAgICAgICAgICAgICAgICAgICAgICAgICAgICAgICAgICAgICAgICAgICAgICAgICAgICAgICAgICAgCiAgICAgICAgICAgICAgICAgICAgICAgICAgICAgICAgICAgICAgICAgICAgICAgICAgICAgICAgICAgICAgICAgICAgICAgICAgICAgICAgICAgICAgICAgICAgICAgICAgICAKICAgICAgICAgICAgICAgICAgICAgICAgICAgICAgICAgICAgICAgICAgICAgICAgICAgICAgICAgICAgICAgICAgICAgICAgICAgICAgICAgICAgICAgICAgICAgICAgICAgIAogICAgICAgICAgICAgICAgICAgICAgICAgICAgICAgICAgICAgICAgICAgICAgICAgICAgICAgICAgICAgICAgICAgICAgICAgICAgICAgICAgICAgICAgICAgICAgICAgICAgCiAgICAgICAgICAgICAgICAgICAgICAgICAgICAgICAgICAgICAgICAgICAgICAgICAgICAgICAgICAgICAgICAgICAgICAgICAgICAgICAgICAgICAgICAgICAgICAgICAgICAKICAgICAgICAgICAgICAgICAgICAgICAgICAgICAgICAgICAgICAgICAgICAgICAgICAgICAgICAgICAgICAgICAgICAgICAgICAgICAgICAgICAgICAgICAgICAgICAgICAgIAogICAgICAgICAgICAgICAgICAgICAgICAgICAgICAgICAgICAgICAgICAgICAgICAgICAgICAgICAgICAgICAgICAgICAgICAgICAgICAgICAgICAgICAgICAgICAgICAgICAgCiAgICAgICAgICAgICAgICAgICAgICAgICAgICA8P3hwYWNrZXQgZW5kPSd3Jz8+/9sAQwAHBQUGBQQHBgUGCAcHCAoRCwoJCQoVDxAMERgVGhkYFRgXGx4nIRsdJR0XGCIuIiUoKSssKxogLzMvKjInKisq/9sAQwEHCAgKCQoUCwsUKhwYHCoqKioqKioqKioqKioqKioqKioqKioqKioqKioqKioqKioqKioqKioqKioqKioqKioq/8AAEQgAogN+AwEiAAIRAQMRAf/EAB8AAAEFAQEBAQEBAAAAAAAAAAABAgMEBQYHCAkKC//EALUQAAIBAwMCBAMFBQQEAAABfQECAwAEEQUSITFBBhNRYQcicRQygZGhCCNCscEVUtHwJDNicoIJChYXGBkaJSYnKCkqNDU2Nzg5OkNERUZHSElKU1RVVldYWVpjZGVmZ2hpanN0dXZ3eHl6g4SFhoeIiYqSk5SVlpeYmZqio6Slpqeoqaqys7S1tre4ubrCw8TFxsfIycrS09TV1tfY2drh4uPk5ebn6Onq8fLz9PX29/j5+v/EAB8BAAMBAQEBAQEBAQEAAAAAAAABAgMEBQYHCAkKC//EALURAAIBAgQEAwQHBQQEAAECdwABAgMRBAUhMQYSQVEHYXETIjKBCBRCkaGxwQkjM1LwFWJy0QoWJDThJfEXGBkaJicoKSo1Njc4OTpDREVGR0hJSlNUVVZXWFlaY2RlZmdoaWpzdHV2d3h5eoKDhIWGh4iJipKTlJWWl5iZmqKjpKWmp6ipqrKztLW2t7i5usLDxMXGx8jJytLT1NXW19jZ2uLj5OXm5+jp6vLz9PX29/j5+v/aAAwDAQACEQMRAD8A+kaQmlpkhwpoARpAOpqMzr61kXEvmzt/s8VHQBt+ev8Aeo89f71YlFAG356/3qPPX+9WJRQBt+ev96jz1/vUlFAC+ev96jz1/vUlFAC+ev8Aeo89f71JRQAvnr/eo89f71JRQAvnr/eo89f71JRQAvnr/eo89f71JRQAvnr/AHqPPX+9SUUAL56/3qPPX+9SUUAL56/3qPPX+9SUUAL56/3qPPX+9SUUAL56/wB6jz1/vUlFAC+ev96jz1/vUlFAC+ev96jz1/vUlFAC+ev96jz1/vUlFAC+ev8Aeo89f71JRQAvnr/eo89f71JRQAvnr/eo89f71JRQAvnr/eo89f71JRQAvnr/AHqPPX+9SUUAL56/3qPPX+9SUUAL56/3qPPX+9SUUAL56/3qPPX+9SUUAL56/wB6jz1/vUlFAC+ev96jz1/vUlFAC+ev96jz1/vUlFAC+ev96jz1/vUlFAC+ev8Aeo89f71JRQAvnr/eo89f71JRQAvnr/eo89f71JRQAvnr/eo89f71JRQAvnr/AHqPPX+9SUUAL56/3qPPX+9SUUAL56/3qPPX+9SUUAL56/3qPPX+9SUUAL56/wB6jz1/vUlFAC+ev96jz1/vUlFAC+ev96jz1/vUlFAC+ev96jz1/vUlFAC+ev8Aeo89f71JRQAvnr/eo89f71JRQAvnr/eo89f71JRQAvnr/eo89f71JRQAvnr/AHqPPX+9SUUAL56/3qPPX+9SUUAL56/3qPPX+9SUUAL56/3qPPX+9SUUAL56/wB6jz1/vUlFAC+ev96jz1/vUlFAC+ev96jz1/vUlFAC+ev96jz1/vUlFAC+ev8Aeo89f71JRQAvnr/eo89f71JRQBZqKb7hqWoZvuGgDAH+ul/3/wCgp1NH+um/3/6CsbxjqMuk+DdTvbYlZo4CEYdVZvlB/DOaAOZ8V/Fiw0O9ksdLt/7QuYjtkfftjRu4z1Yj2/OsLTfjbN9oA1fSYzCTy9s5DKPo3X8xXm2jQx3Wv2EFwu+OW5jR1J+8CwBFdb8Qfh6vhbF/p9yr2Er7RFK4EkZ9B/eH6jv60Ae36ZqdnrOmxX2nTLNbzDKuP1BHYj0q3XkPwS1KX7TqemMSYSi3CjsrZ2n8wR+VevUAbVFUtYuprLQ7+6tU3zQW0kka4zuYKSBj6iuf8HeGdDh0PTNagt4bvU7i1SaTV3UNc3JdQSWl+8Qc/dzgAAAYAFK+77frf/IHpbz/AE/4c62ivFvDh/s3wJ4X0xjiK7utPv7YE9zMgmUfRirf9taSI/2Z4Kltju8jVNXW6iznCzJqaLIvoMrsYDuRIaq352/L/N/cN6VOT+t2j2qiiikIKK5DxN43/wCEf1f7F9r8LRfuw+3VfEH2KbnP/LPyX444OeeeK6TSr3+0tJtbzdav58QfdZ3HnwnI/gkwu5fQ4GfSjdXDYt0Vwvj3xlq/hy9kh0iGyZYNHudUka6R2LeSyDYArD7wfGe3XB6VFaeL/EN1evomzTY9VOpvaLdCGRoIo1to5yxj3hnP7zZ95c/e4+7TSbV/63t+Ym7Oz/rS539RJcwSXMlvHNG08QVpIlcFkDZ2kjqM4OPXBrjW8WazaJe6Xdx2M2sQ38FlDcxxvHbP5y7lkZCxI2jOUDncQMMN3GVLrep+FNX8V6hq0ltqV6sOnRRfY7OSJCZHkRcx75HOC2TtJJ6AZpXTV1/X9XH1sekyyxwQvNPIscUalnd2wqgckknoKraZrGm63aG60bUbTULcMUM1pOsqbh1GVJGeRxXPeE/Eeq6pq1zY6lDJPEkImjvhot1pyZzgxFLjOT0IKtyCeBjJn8If8hDxR/2GX/8ARMVC1fyv+KX6ibt99vwbOmooooGFFFFABRRRQAUUUUAFFFFABRRRQAUUUUAFFFFABRRRQAUUUUAFFFFABRRRQAUUUUAFFFFABRRRQAUUUUAFFFFABRRRQAUUUUAFFFFABRRRQAUUUUAFFFFABRRRQAUUUUAFFFFABRRRQAUUUUAFFFFABRRRQAUUUUAFFFFABRRRQAUUUUAFFFFABRRRQAUUUUAFFFFABRRRQAUUUUAFFFFABRRRQAUUUUAFFFFABRRRQBZqGb7hqaoZvuGgDAH+um/3/wCgqrq+mxaxo13p05wlzE0ZYfw5HB/A81aH+um/3/6CnUAfMF5Yah4S8SJHfQbLizmWRQwO2QK2QQe6nFRa3ruo+ItRa81S4aaU8KvRUHoo7CvpjUtI0/WIBDqllBdoOQJUDbfoe34VQ07wd4e0m4E9hpNtFMpyshXcyn2LZx+FAHMfCfwpcaHpM+o6lE0VzfbdkTDDJGOmR2JJzj0Ar0KiigDarD0zwdomj3fn6Zbz26hmZLZbyb7NGWJJKQF/LQ5JPyqOp9a234U4qLcfU/nTSuJvoZZ8IaG1jpVobH9xo8iSWK+a+YWX7vOcsOnDZBwM9KLjwjod1pdvp1xYh7W2uvtkKea4KTbzJuznP3iTjOOcYxxWpuPqfzo3H1P50+UL3dyaiodx9T+dG4+p/OjlC5NRSD7o+lLUjMrVvDGka5LJJqlp57y2cti5811zBIVLp8pHUqvPUY4NQ3fg/Q71ZxNaOHuLoXjSxXEkUqzBFj3pIrBkOxQvykZGQepzt1T1XVrHRbFrzU7hYIQQoOCzOx4CKoyWYngKoJJ4ANF7K39b3/P8Q3KC+D9EXRZdLNo7W8swuJHe5laZpQQRIZi3mbxtXDbsjaACABTYPBfh+3tb6BdPEiajGqXjTyvK9xtztLu7FmYZ+8Tu4HPAwS+NNDt9KGo3lxcWluZ0t/8ASrKeF1djhco6BgD/AHiMdeeKk1fxbomhfav7VvfI+yRxSzfunfYsrlIz8qnOWUjjp3wKN/6/ryDf+v66jrHwxYafBcw28+qMtynluZ9XupmUc/cZ5CUPPVSD78VHovhHSvD95NdaadQEs5Jl+0anc3CuxxliskjKWwoG7GcDGa0F1SzfU009Jw1y9v8AaVQKSDHkLuz06kd81bo8xaPQKKKKBhRRWNN4i+zeKbbRbjS76P7WH+z3pMRgkKpuYcSbwQOOUAzQBs0UUUAFFVbvU7Sxu7K2updk19KYbddpO9wjORkDA+VGPOOlWqACioL28t9OsZ729lWG2t42llkboiqMkn8BWVD4pto9J0++1qJ9LGpXAhtklBY5Ynyt5AwjMADgngnbkmj+vvA3KKp2+q2V3qd3p9tMZLiy2faFVG2xlhkKWxt3Y525yAQSORm5QAUVW07ULXVdPivbCXzbeYZR9pXIzjoQD2qzQAUUVWt9Qtbq+urSCXdPZlROm0jYWXcvJGDx6UAWaKKKACiiigAooooAKKKKACiiigAooooAKKKKACiiqsupWkGqW2nSy7bq6jkkhj2k7lTbuOcYGN69fWgC1RRRQAUVV1HUrTSbP7VqEvkweYke7aW+Z3CKMAE8swH40andXFlpk9zZ2bX00S71tkcK0mOoUnjdjOAcAnAyOtK6Wo7MtUVU0vU7TWdJtdS06XzrW6iWWJ8EZUjPIPIPselW6pqzsxBRRRSAKKKKACiiigAooooAKKKKACiiigAooooAKKKKACiiigAooooAKKKKACiiigAooooAKKKKACiiigAooooAKKKKACiiigAooooAKKKKACiiigAooooAKKKKACiiigAooooAKKKKALNQzfcNTVDN9w0AYA/103+//QU6mj/XTf7/APQU6gAooooAKKKKANiQ4jYk4GOp7V5f4I1WH/hKksn1WHxBdSxzF9Q07xBLdxjBB3S2hPl2+4EAbNwByBgGvUWGVIFR7G9KqOjuKV7WPPPCl/pV3rG7X/EM48UG7mVtLm1SSDy8EhEW0DhWXywGDbW3Z3ZPWsgaukkIlXX7s+Nv7R2f2SL+QcedjYbTJTy/J537Pu/Pu/ir1rY3pRsb0pqytrt/wCXfU88h0q+8SeI/GEDa/qlp9lu447AQXLolq5to237VI3jcclGJQ88ZJNY/izV9Qi8XalZ6pq1lpqwwxf2bNeeIptJVsplpVRI2Sc+ZkEOWA2qNoBJb1vY3pRsb0pW0SuVfyIdKa4bRrNr6WGa5MCGaWA5jd9oyy+xPIrD8V/2z9qt/7I/4SLZsO/8Asf8As7bnP8X2r5s/7vFdMOFFLUy1dwjorGZ4e+2f2JD/AGl/aH2jLbv7S+z+f1ON32f9306Y7YzzmsXxrcR6bq3hzV9QU/2XY3khupiuVti8LIkr+ignBboN2TgZI62ih6jOI8UanpHiXStIOm3lrqdk+tW0UklvIJYmyTldwyDx1GeM1xuovIda1TTr1mln0/8AsW0leTkyhb9tjn13IVJ9ya9pooh7rv53/L/L8Q1vfyt+N/69Dz7w4WtfifJo8p+fTNIeKPI+9AZ1MR98L8pPqjV01n4mste0vVZvDU4vJ9PlmtHUxMu24Qcp8wGeSORx71t0Ure5y376+rvf8QWknL+tkv0PIfBGq3up61pY/t3ThdzI/wDalpJ4mnuLqX92dy/Y3iUQOr4JCbdoBHIrb0S71S61bT/Ck95dGfQrmSXULkzMXuIFH+jB2yCfMEisfUxOD3r0Oiqvrf8Ary+4VtP6+f8AXoeM6p4skn8WQTaXdNBdJr0VnLA2vTNOIvtAhffp4QwpGQcByQcFGzvIB6rxR4r8O2PxB8Ow3uvaXbS2klx9pjmvI0aHdD8u8E/LnIxnrmu8opfZUf66f5fiOXvO55h4i8U/2NN4+s73V5be8ltVk0e2EzGVgbXG6BB82BIrElRwQScYJqPxn4gT7VbaZLcNDcLpkc8bTeIJ9MMzvuGIVgRmuJMrypzjKgDLGvU6Km2n9dLl8239dv8AL8TyPUobXUdB+HviXxRqN7AsqxNqN5/ac1rFEXs5MOdjqsZMjAbhtJ3bc4OK0vGOqiztfD0el6jC3hueOUyX0+vzWscjAL5Qa9QO/OXIyRuK43fwn0qitJvmd7W1IWlvSx5lcy3dx8HL2a61Kx1O1jukk86zvjfoLNJ0Z0aYqpkKoHBYjOByScmuh+IN1ZTeEJNKe3j1C51kC1sbTfjzpG5VgRyAmN5YfdC5HOK6qSNJomjlRXjdSrKwyGB6giqmkaXDoumR2FrJM8EJYRCZ9xjQkkID/dUHaM5OAOTUNX09P+CCbWq8zk/hkRpOnXfhbUXZtb0uYveSySM7XwkOVuQWJJDDg+jKV6AV2F/YxalYyWlw06RyAZa3uJIHGDnh4yGHTsRUeqWFxqFqsVpqt5pbh9xmtEhZmGPunzY3GPwzx1qnpuiahY3qz3XijVtSjAINvdRWioffMcCNx9ab97cSXLscN4KfTtN8GXcPh3UpbrxVZ2FyraVNq007RyoxABtnkIX5woyFHXrzyzwFqlzfeIdP+z69psrPA7ahanxNNfXEx29fs0kSeQyv1C7QMlSvAx6rRQtP69RvVWPMvD+rwR+P1tJNWg1+5uLicCfTvEE0xgHzMPOsQfKiVR8m4E/Nt4BbhdO07w3onxJ1S21PWbyyu5prWWwhu9fuUN1lccK0v74b1K7Tu9MY4r0yihaW8g7+YV454/19W8Ua3pN1qt3p1x9nhj0y4GvppkNs7KS0joZkaRQSDuCSdCo5BFegHwzqxYkeONeHPQQWHH/ktUMngfNzey2viPWLRdRKtexwi2xcOI1jLktCWUlVAOwqO4ApdbjvYyRpsmqfEG50eTWdVTS7bQ7V1httQlTzHMkoEhlDeZnCjkN838W7Aql4s1JtI/sbw/q+prPdLZGRr271yXRkunUqnytCrNJIc5KZxyDgkjHolhY22madbWFhEIbW1iWGGMEkIijAHPPAFWKb/rz3/wA/wF/wP0/yPNLDWr/T/BPhbxdqt7ePBbQmDVUd3IMT/KJWTAy6OqclQcM+a7Hwpb3sei/atVec3l/K93JFNKX+z7zlYlB4UIu1cDjIJ6kmpdX0CPW57f7be3X2KJg0lghQQ3BByvmHbvIBAO0MFOMEEZFLq2k3moyxtZ+INR0oICGSzjtmD+582Jzn6EUX/r+vMLbIyPHst0ttokNnfXNl9p1i3glktpNjFG3blz6H/wCv1wa57Ubi/wBB0/xRZ6df6h9jtL2yDTTXEl1LaW8gj+0OruWfhN7ZJO3kjGK7nStMu9MMpvde1DVfMxtF5Hbr5ePTyok65756dq0d6+tCjb77/lp+H4h1v5f56/j+B5TqOqRW+l+Jn8E69dajpUOg3E0t0uqSXgtrsD935czMxDFdxKh+NqnAzk6HiPStS0TwDqmv2XiPVGuV0OZp/OuGfzJtiskqDO2ErhuEUA7uelejb19aN6+tNJ/18/8AP8EF1p/Xb/L8TynS3v7Pxxbr/bOqTxrri2nlXF67oUfT/OfKk4OZMEZ4XGFCjIPo8Gv6Zc+ILvQ4boNqVnEk01uUYFUf7rAkYI47E471f3r61k6Z4fttP1q+1Z7q5vb+9wjTXJX93EpJWJAqqAoLE9CxzyTxTettP6t/mLS2n9a/5GxXnt5PqUGt3ng1Lu9aXU7tbu2u/OffDZMd04WTOQVZWRcEFfOjxwK9CrK0/QI7LVbjUri9utQvJl8tZbop+4izny0VFUBc8k4LHAyTgYlb3/r+r/hcb2/r+v8Ag2NQDaoAzgDHJzXnXjXTNFtPH2iarr+pXmnWM0F1FLdNrNxaxJJiIooZZFWPcEc4GAxXnJArp7jw7qc91LLF4y1u3R3LLDFDZFYwT90brcnA9yT71sWVvJa2UcE93NeyIMNcThA8nuQiqv5AUt9Rp2Z5r4z1d7bX9OtW1C3h8Ptpqy2tzdeI59MjuJdxB/0mNWaRgmwhSwyGZvmxlX6rfXCeC/D0us+LdG3MZGfPiB7GPUF5CMl3EFZioK5wm1ieQOK9Ooo6WDrf+tjzHxNBZ+IfhFZars1S2htmgmK/2ncMREtwhkkZ1f8AeqEVnWRsnGGGDXbeGJNFk0kt4b1X+1LPzDmf+03vsNgZHmO7n04zxn3rYqrqdgmqaZPYyzTwxzrsd7d9j7T1AbqMjjI554IPNPvYXRJ9DA+HqFfDdw6AC2m1O9mtgBgeU1w5Uj2Oc/Q11NRWtrBY2cNrZwpBbwII4oo12qigYAAHQAVLTC7bbfUKKKKQBRRRQAUUUUAFFFFABRRRQAUUUUAFFFFABRRRQAUUUUAFFFFABRRRQAUUUUAFFFFABRRRQAUUUUAFFFFABRRRQAUUUUAFFFFABRRRQAUUUUAFFFFABRRRQAUUUUAFFFFABRRRQBZqGb7hqaoZvuGgDAH+um/3/wCgp1NH+um/3/6CnUAFFFFABRRRQBsSSLFE8khwiKWY46AVmWPiXStSniisrlpDOpaFzC6pLgZIVyArEdwDkYOehq5qP/ILuv8Ari//AKCa5vw5Y32oaN4dlvEt4Laxgjmi8qZneU+VtG4FVCjDEkZb/GLvmsvL9SrK1zXh8UaPcTxxQXZcySGEMIn2CTJGwvjarcdCQTx6imw33n+Knt0v5lSO2ObGSyZAzB+ZVlYDcOQMDI70uh6N9g0ZbO/SCZluJJhgblBMrOp5HUZH0IqBrXWm8UR6h9lsPs6Qtb/8fj7ypcHdjysZwPu5/GknL3b/ANaf5g7a2/rUsTeJ9JguJYZLlt8EgjmKwSMsLHGN7BcKDkckgdfQ1Wu/E8dp4lj05obloTbyO7JYzu24MgG0qpBXDHJGRnHIqObw9dyaXr9sskO/UrgywkscKCqD5uOD8p6Zq3qNjfjWbTUtNS3meGCSB4riVowQxU5DBW5BTpjvSvPRv+tP8x+7qUvE97dXFxpehaZNJbS6szma4QlJILdFBkZe4c7kUH+HdnqK0fEC6p/YjLoDEXolhCk7T8nmLv8Av8fc3e/pzWT4qWTTdT0bxO0QaHTfNiv9mWMVvKo3SDuQrIhPH3dx7V1IIZQykEEZBHetOnz/AK/r1Epcsk/+GMPxbfarpWhXWp6VPZoLOB5XiubZ5PMwMgArIu38jU/9oyaPpwm8RXsEzySBIvsdnIrOSOFWMNIztwTx2BOOCaf4k02bWPDOo6dbMizXVu8SNISFBIxzgE4qn4m0K41aKwls3Hn2UpfyzdS2wkBUqR5sXzKec5wc4wRzkJ3SujeDhKMYy7u+1+ltfvLieItLfSptR+0lbeB/LlDxOkiPkAIYyA4YkjC4ydwwDkVFceI7ZNFub+GG/wAQggLJptwrFsZHyFAxX1bGPes+38OvH4f1C2l0i1kuL2UNJDNq086y4CgMZnQurAKMYHG1cEdrWi6RqFvYX9vqU5EdycQwfa5LvyAVwf3sih2yecHp2NTLmaaXYfLRWvn3W3yv/kT+Hdej13TYJhFcRzGFJJfMs5oUyw52l1AYZ9Ca16yPDsGq2Wmw2OqwWarawpFHNbXDuZdoxkqyLt6DjLVd1NLuXSrqPTXjS8eFlgeUkKrkcE4BOAatvS6MZRXPZbfeY2jeIrm+12W1u44o7a4SSXT3QHdIkcmx9xyQc5RhjHDdOM1oW/iHTrvUGs7R7ieRXMbSRWkrQhh1HmhdmR0PzcHjrxWJD4Mu9Ok0R7HWbq5GlOqLBdCJU8krscApEGJxgjJIJAz61f0Gx1jRYodLeCxm0+AsqXS3DpKU5IzFsIzk4J389eOlSr7G040ndxf6d+/y+8uDxDpzao1hE8886OI5DBayyxxt/daRVKKfUEjHentrunLb307XGI9PkMVy2xv3bYBx054YdM9az9J07V9FuJrWCGxudPmu5bgTtcPHMgkcuylAjBiCTg7lyMcCs6/8N60665Z2DWH2XVbj7R580j70OxFKbAuP4PvbuM/dOKE3bX+np/wRezpuVr6ev9fdubF/4s0bTbqe2urpvtFugklhigkldEIzvKopO3HVug4BPNTX/iHTtNRHuJJpFaPzc21rLOFT+83lq20HnBOAcHHQ1FZaO8HiHVr6fyXhvo4UVRy2EUghsjpz71ma54e1W91ArYSRrp/2VYYYl1Ce0Fs2Wy2yEASjBX5Sy/dwCM5pNyt/XmEI0ZSSb9fw29Nf+HNm78QaZZW1rPLc+Yt4M2y28bTPOMbsoiAswxzkDgVJFrNlNdWtsHljnu4nmhjmgkjZlUgNwyjBG4cHB56VhW3h3VNLt9Bnsfsdxd6bp/2GaGaRo45AQmWWQKSCDH3U5B7Unim7lFlp4jktYfEiTLLZ2ccxl8xjlWHRWKbS2WwAMZPSqk7PT+v63/AFShJpR8/6t28zbOvacNPvr43B+y6e0i3EvlthDH9/HHzY5Hy55BHUVctriK7tYrm3bfFMgdGwRlSMg4NUYNPuNL8N/YtJeOS8igIikus7ZJcZ3Pt55Y5OPU1etvP+yxfbPL+0bB5vlZ2bsc4zzjPrT16mMuW14ktYnhuW61LRBqFxqEspvgZIwqRhYFJO0JheRjHLFs/pWrd2drqFq9tf20VzA+N0UyB1bByMg8dQDWP4V1KGXw8sU94HubEGO7E0uZISpI/ebuRwM5PUc89al/FqUl7ja7om8PXNzIt/aXt2byWxu2h851VXZSquu4KAM4fHAGcZxUulDVBf6r/abZt/tI+wjCcReWufu8/e3fe5ql4c+zahe6jrEey5825aO2u/vZhCoNqN/c3AnjgnJ966CqWyfkOo7SasFcnLrzah4lksobrVLKCCKMjyNNctI7swO8vE21QFGDgA5PPHGzaf27/wkF/9u/s/+x9kf2Hyd/2jdj955mflxnpt7dadb6fLF4ivr9mQxXEEMaAE7gULk54/2h+tS021Yz0SYybxFplvctBNO4McgjklEDmJHOMK0gXYp5HBI6ikvPEmlWF1NbXFy3nwKHlijheRkUjO4hVJ2+rdBxnrWZLoOpnT7/R4vsf2C9mkc3JkYSosjbmHl7cEjJAO4djjjB07PSXt9d1O8l8t4byOFFXq2EUg7sj396m82l/XT/PqO0UMufFei2k5hmvfnG3OyJ3HzLuXlQR8w6ep4GTxUx8QacLOC6R5pYp1LJ5NtLI2B1JVVLLg8cgc8VmSeGp/7YluLc28dubu1mjjGRtSJCpGAMD2H8qrJ4c1iG3s4FmjlhhikVokv5rYK7SFg+Yxl+DjacYxx1qeaproFol/VvFNvZ2dhcWW+5ju5YgskdtLKpjZsHBUY3eg6+1P1zxENN8J3er2cEkkiKEghuInhLyswRFIcAgFmAzj6VBH4fvIPCNhp8ckD3djJHKpZmEchR92CcEjI74P407xNpeo674NurUwW0eogrPbxrMZIzLG4kjBYqp5KgHjjPequ7O/9LT/AIIaXRIksfhfw1HJruoy3Docz3DhnaWV2+6iKCTlm2qig8YAFSW3iDT7nSp9SZ57O0t9xlk1C1ltNgAyWImVTtx/FjHXniqOoSx+MPBYa002C8Mxw9pe3D2phkR8MC6IzJIjKcEDIK5BHBrLt/CWr3Xg/VNJ1S+WNrqUSWkUlzJfrahdpCmWQLJKpdSxBwQG2g4Aro1szHsblh4p0rUbO4u43ure1to/NknvrGe1jCYJ3BpUUMMDORnFM0/xho2pTyQwTXMUqQm48u7sp7ZnjHV0EqKXA4yVzjI9RVO+03XvEvhjUdK12203TpLiELDNaXcl0pfrllaKPAyBwCcgnkdah/sbX9Z1OG916HTbE2dpNFBFZXck/mySqFLMzRptUAcLhsk5yMckrq9uwKz3L2leN/D+t3VvBpd+1wbqMyW8ot5BFMAASElKhGYA8qDuGDkDBxLaeMNEvNVjsYLqUySSNHFK1rKsEzrnKxzFRG7DB4Viflb0NM8O+Hk0zwjoemajFbzXWl2kcIlRdwSQRbGZCRkZBYZwDgn1rmPDngC80e60y1vbVL2z06VWhu28RXufkzsf7GymIEcfKG2jkjHSqkkp2Wwlflv1Oi0ebUr/AMda/wCdq90LLTbiKGGwWOERENbxuSzeX5hO5yfvge1XpdV1CPxRZWMlvDFaXIm2ksWkbYAQ3HCg56cn6dKx/Duq6dD8RvFmmTX9rHfz3kEkVo0yiWRRaRZZUzkjg8gdq0tRs9bn8RWV9bWlg0NmJVUSXjq0gcAZIERC4x0yaxjsvQqs7beRV8bTanpo07UtO1m6tkOo2drLZrFC0MqSXCI5YtGXB2sR8rDoKn8WXV3opstetZ5Db2sqw31qW+SSCR1UuB2dDhgfTcO4xm/EbV9NhttK0ubULWPUZ9X06SKzadRLIou48sqZyRweQOxq940/4mlvbeGbdDJPqcitNhcrFbI6mV2PbIwo7lmHGAcUvgVt+Z/kvw3/ABKlv8v8yXxrcX2laIde02aQPpObme2DfJcwD/WoR/e2glT2YDsSD0MciyxJJGcq6hlPqDXOeOZWuPD0uhWiNJe60jWUSIudiMMSSt2CopJJPfAGSQD0NvCltbRQRDCRIEUegAwKS2f9f10/Eb6f16fqSUUUUCCiiigAooooAKKKKACiiigAooooAKKKKACiiigAooooAKKKKACiiigAooooAKKKKACiiigAooooAKKKKACiiigAooooAKKKKACiiigAooooAKKKKACiiigAooooAKKKKACiiigAooooAKKKKALNQzfcNTVDN9w0AYA/103+/wD0FOpY4pJJJikbMPM6hSewp/2af/njJ/3waAI6Kk+zT/8APGT/AL4NH2af/njJ/wB8GgCOipPs0/8Azxk/74NH2af/AJ4yf98GgDWopdrf3T+VG1v7p/KgBKKXa390/lRtb+6fyoASil2t/dP5UbW/un8qAEopdrf3T+VG1v7p/KgBKKXa390/lRtb+6fyoASil2t/dP5UbW/un8qAEopdrf3T+VG1v7p/KgBKKXa390/lRtb+6fyoASil2t/dP5UbW/un8qAEopdrf3T+VG1v7p/KgBKKXa390/lRtb+6fyoASil2t/dP5UbW/un8qAEopdrf3T+VG1v7p/KgBKKXa390/lRtb+6fyoASil2t/dP5UbW/un8qAEopdrf3T+VG1v7p/KgBKKXa390/lRtb+6fyoASil2t/dP5UbW/un8qAGsobrTfLHvUm1v7p/Kja390/lTuwI/LHvR5Y96k2t/dP5UbW/un8qLsVkR+WPelCAHvT9rf3T+VG1v7p/Ki7CwlFLtb+6fyo2t/dP5UhiUUu1v7p/Kja390/lQAlFLtb+6fyo2t/dP5UAJRS7W/un8qNrf3T+VACUUu1v7p/Kja390/lQAlFLtb+6fyo2t/dP5UAJRS7W/un8qNrf3T+VACUUu1v7p/Kja390/lQAlFLtb+6fyo2t/dP5UAJRS7W/un8qNrf3T+VACUUu1v7p/Kja390/lQAlFLtb+6fyo2t/dP5UAJRS7W/un8qNrf3T+VACUUu1v7p/Kja390/lQAlFLtb+6fyo2t/dP5UAJRS7W/un8qNrf3T+VACUUu1v7p/Kja390/lQAlFLtb+6fyo2t/dP5UAJRS7W/un8qNrf3T+VACUUu1v7p/Kja390/lQAlFLtb+6fyo2t/dP5UAJRS7W/un8qNrf3T+VACUUu1v7p/Kja390/lQAlFLtb+6fyo2t/dP5UAJRS7W/un8qNrf3T+VACUUu1v7p/Kja390/lQAlFLtb+6fyo2t/dP5UAJRS7W/un8qNrf3T+VACUUu1v7p/Kja390/lQAlFLtb+6fyo2t/dP5UAJRS7W/un8qNrf3T+VAFioZvuGpqhm+4aAK2k/wCquP8Arsf/AEEVfqhpP+quP+ux/wDQRV+gAorlNf8AHD6N4kGiWfh/U9Xufsi3bmyCEIjOyDO5h3Q0vh7xu2t+IJdHu9B1LSLpLX7UBehBvTeF42se5/SgDqqKKKACimyMUjZlRpCoJCLjLewyQPzNYlp4qikv5bPVNOvdGnjtmulF8YSJIlIDsGikcfKSuQSD8w60AbtFYOm+K4dQvLaCXTNQsEvVZrKe7jQJcgDdwFcsp2/NtcKcZ44IBo/ieTW5x9m0HU47NpJIxfStbiLKMyk4EpfBZSB8v5CnZhc3qKzdV1Y6dcafbQwC4ub+5EKRl9u1QCzuTg8KoJ9zgcZzVbU/Ep0i723uj6gtiJEjbUVMLQqXIAJUSeZjcwBOzjr05pAbdFYGo+LYLC8uoYtOv7+OxAN9PaIjJagjd8wZwzEL8xCBjgjjkAl54rEOsDTtO0fUNWlNql2Xs2gVFjdmVeZZUyTtPTNAG/RTUYvGrMjISASrYyvscZH5VleJtam0HSUurW0S7mluoLaOKSYxKWlkWMEsFYgAtnoaOtgNeiobRrl7SNr6KKG4K/vI4ZTIin0DFVJHvgVNQAUUUUAFFFFABRRRQAUUUUAFFFFABRRRQAUUUUAFFFFABRRRQAUUUUAFFFFABRRRQAUUUUAFFFFABRRRQAUUVhya1qFt4ttdKutPtltLxZWguY7tmk+QKTujMYAzu7OaANyiiigAoorK1fWpdLkVLfR9R1Nihkb7GkYCKPVpHRSf9kEt7Ur2A1aKrabqNtq+l22oWEnm211EssT4IypGRweR9Ks03poAUUyaaO3gkmndY4o1Lu7HAUAZJJ9Ky/DfiS18UafLeWMFzBHFO0BW5jCMSADuxk4BBBGcH1Ao30DY16KKKACis59W/wCKlj0iCDzCLY3FxLvA8kbtqDHcsd3pwhrRoAKKo2WrQX+pajZQpIsmnSpFKWA2sWjVxt56YYdcc1eoAKKKKACiiigAorO16+vtN0ia80yzt7uSFTI8dxctANgUkkMEfJ46YH1qfS73+0tIs77y/L+1QJNs3Z27lBxnv1o3v5BtYtUUUUAFFFFABRRWLZeKrDUPEb6Pax3LSLA04uGi2xOFcIwUnlsEjkDaexODR1sHS5tUUVh3HizT7fxLaaII7mW4upWh82OL91E4jMm1nJGTtUnC7iOM4yMgG5RWHqXimOwv5rW30zUNSa1jEt21miEWynkbtzqWJAJ2oGbHbkZW/wDEwtreGfT9J1HV4Zrf7T5lkkYVY8ZB3SOgJI/hXLew4ydLh1sbdFYFx4vshHpv9l291q82pwm4toLIIGaEAEyEyMiqvzKOSDlgADzWjo+r2uuaYl7ZbwjFkeORdrxOpKsjDswIIP0707MC9RRRSAKKKKACiiigAooooAKKKKACiiigAoorO1rW7fQ7WKSeOaeW4mWC3trdQ0k8h6KuSB0BJJIAAJJAFAGjRWZo2uw6z9pjFtcWV3aSCO5tLoKJIiRlSdrMpBHIKkj8QQLGq6nbaPpst7elhFHgYRdzOxICqoHViSAB6mh6BuW6KxbLxEbt7q3l0jULS/t4hMLKfyfMmQ5AKMshjOSCMFxg9cAgmtB4ukk1yDSbrw7qtndXEEk8Yme2YFUxnPlzNjJZQM4GT1oA6Oiuci8XSf25YaXfeHdVsJr8uIXma2dfkXcxPlzMwA4GcYyQO9SxeK4jq1vZXel6jYx3krw2t1cxosc7qCdoUOXXIViN6rnHuMgG9RRRQAUUUUAFFFFABRRRQAVDN9w1NUM33DQBW0n/AFVx/wBdj/6CKv1Q0n/VXH/XY/8AoIq/QByEP/Jbbz/sXrf/ANKZqteNP7U/se5/sbZ5n2dt/k+Z9q6jb5WznOfXj14zUOv+B31nxINbs/EOp6Rc/ZFtHFkUAdFdnGdynu5pfD3ghtE8QS6xd6/qWr3T2v2UG9KHYm8NxtUdx+tAGp4W/tv/AIRew/4Snyf7W8ofafI+7u/lnGM44znHFa1FFADZZFhheVwxVFLEIhZiB6AZJPsOa4fTLG2vvFjXGmWmqtps9lNDqMmrRXA37iCkcf2geYBy5ITCdMjOMd1RSsB5/pOkSX3iDRmsr7xBPpuju0gbVbf7OqfumjWJVaJJJDh8l23YC43ZY062s4ofElgvg6LXLZVvHfUVvBdpaCFtxfak/wAhYuRjyhkZJ+7nPfUVV9Uw6HN6WTrHjLUdUJ3W2nL/AGdansXyGnYfiET6xtWX40jh1SZ7fTLfWZdchMf2TEFz9iWRWDq77x9mYDqSctxhTuC47O3toLSLyrWCOCMsz7I0CjcxLMcDuSSSe5JqWktLeQdzhfFFhjUL+LRptdTUNThAltbK322s77Sgd52iKx4UDJWRWwowC2Ms1jRtK0+1trYx+IJNZh0yOzguNK+1pv2ghAzx4hB3En94cDPPFd7RS6W/r+tR31/ry/yKWirqCaDYrrTo+oi3QXTRgbTLtG7GOOuaxvHv/IDsP+wxp/8A6VR101UtX0ey1zTzZalG7w+Ykg8uZ4mVkYMrBkIYEEA8HtVX95S80/xuSlZW8il4m0681GzhjsLfz3WTcw/ti40/Ax/fgUlvoeO9ZcWhaovh2e1axxcPOrrH/wAJTfNkY6/aCnmL/uAYNdRaW0dnaR28LSska7VM0zyufq7ksx9yTU1Kwzj7LQdVh0nUIZbHbLMEEa/8JXfy7sNk/vWTdF9UB3dDxRpugatbwXyz2Owy25SMf8JZf3G5sjjLoDF/vrlh+NdhRQByOiaFqlndyvdWPlK0DoD/AMJTfXeSeg2SoAv++OR2pmjaBq1pq0M9zYeXEudz/wDCW393jgj/AFUiBW/E8deorsaKAOL0zw9q9vq1vPPYbIkkDM//AAl+oXGB/wBcnjCP/uk4o/4R7V/7Z8/+z/3X2jfv/wCEv1D7u7OfJ8vZ0/gzt7dK7SigHqcZqvh/V7rVrie3sPMid8q//CXahbZH/XKOMon0BxTtZ0DVrvVZZrWw82JguG/4Sy/tM4UD/VRoVX8Dz1PJrsaKNlYZyGsaDqt3cwvbWPmKsCIx/wCErv7XDAcjbGhDf75+Zu9Lqehapc2mnpBY+Y0MGyQf8JTfW+0+m9EJl/33wa66igRx11oGrSaPYwR2O6WEyeYn/CWX8e3JyP3qpvl/4EBt6DinSaDqreHobVbHM6zs7R/8JXfrhcdfPCeY3+4RtHWuvooA5GLQtUXw7PatY4uHnV1j/wCEpvmyMdftBTzF/wBwDBplpoGrRaTfwyWO2WYJ5a/8JZfy7sNk/vWTdF/wAHd0PFdjRQByGmaDqtvbX6T2OxpoCkY/4Su/uNzZ6bnQGL/fTLU3StA1a2kuTcWHlh7Z0U/8JZf3OWI4GJEAT/fHzL2FdjRQByGhaFqtlq0c13Y+VEFYFv8AhKr68xkf88pUCn6k8dRUWmeHtXt9Wt557DZEkgZn/wCEv1C4wP8Ark8YR/8AdJxXaUU+tw6WOL/4R7V/7Z8/+z/3X2jfv/4S/UPu7s58ny9nT+DO3t0pL3w9q82rzzxafuieYsr/APCX6hDkZ6+UsZRf90HA6V2tFJaWB6nH63oOq3msTT2tj5sTY2v/AMJXf2eeAP8AVRIUX8Dz16ml1jQdVu7mF7ax8xVgRGP/AAld/a4YDkbY0Ib/AHz8zd66+ijpYOpx2paBq1xHZCCw3mK2VJB/wll/b7WBPGUQmT/fbDHuOKffaFqk2kafBFY75YQ4kT/hKb6Hbk8fvVQvL9XAx0FddRQByEmg6q3h6G1WxzOs7O0f/CV364XHXzwnmN/uEbR1pq6Bqw0B7Y2H783IcR/8JZfnK7cZ8/Z5g5/gA2nrnNdjRQGxyNpoWqRaHf28ljtmmKGNP+Epvpd2Dz++ZN8X0QHd0NM0/QNWgtb5JrHY00OyMf8ACWX8+45HG50Bi/3lye3euxooA4/SdB1W1e6NxY+WJLZ40/4qu/udzHoMSINn++uWXsKXQtC1Wy1aOa7sfKiCsC3/AAlV9eYyP+eUqBT9SeOorr6KAOL0zw9q9vq1vPPYbIkkDM//AAl+oXGB/wBcnjCP/uk4rR1f/kffDf8A1yu//QUro6zF8PaeNeGsEXL3qhghkvJnjjDAA7YyxRc4HRRQHmadZuoaXeXl4k1vr2oWEagAwW0duUfnqTJEzc9OCK0qKACuT8a67fWTW+k6bbX8bXqnztSt9OmultI+hwI0bMh/hB4HU9AD1lFJq4HA63pmkTeDdFtrSO8Sys2CwW13oNzeJKFUpie3Ch/cE7ecEZ79H4P83/hFrVZtLg0oruVbe3gMCbQxw4iIzHuHzbDyucHmtuiqvv5h2Oe8YaZqusafb2emw2VxbNOGvoLu4eETxDkRhljfgtt3DHKgjvXFnSdev1e21fQ0jtpfFCzSrbzSy7oyuHyDEmYscbs4OSCMdfVaKlK0r/1un+gS1Vv62a/U8t8KeHG0wS+ZZX+mxXGjXEdzPbQSCUMJ2CBcAncsf3FAOBjAxWr4Bt00y8u4YdJsobRLVC+pxaHJpTuwJGx0k5k4+bevA5GBkV3tNlijnheKeNZI5FKujjKsDwQQeooV4qy/rf8AzC19/wCtEv0Oe8Hq95Z3evzhg+sTefErdUtwNsK47ZUb8ertXN+FLGGx8WotjpaXsc3nmbUrvQJrK7iBO4GS4kUCcknbgBT0PIBr0VESKNY41VEUBVVRgADoAKdT0uHQ890rw74f0Px7qYuPC8MbT3ME2m3FvoxkjiHlqpxIiFYiHVicleue9Y17ot/P4i1L+1CLa/k1Bns9RXw5dXk8cO4GLy7qKTbGoXAKkKB824HJLet0ULRp9v8Agf5A9U0eQ39hp2pa143tm0q6v9bkvAmnSpZyyJbym2i2usuPLhYNgltynCjOcCvWrZZUtYluWDzBAJGXoWxyfzqCz0y0sLm8uLSHy5b6YTXDbid7hVTPJ4+VVHGOlW6OiXkvwQPV39fxKGqaddagIvsms32l7M7jaJA3mZx182N+ntjr3q5CjRQRxvK8zKoBkcAM59TgAZPsAPan0UAY/iq+js/Dt2rw3cz3EMkMaWtnLcMWKHGRGrED3OB71ylwzah4M8NrNp2oz6bZywxavZPp8yu6LAQAYWQNKgkKEhQwOD1wa9DooWl/O34X/wAwetvn+P8Awx53BpNvJo/iVLK2vtH8PXaRJbW8GnShxIMiRltdu4IxKArsG7DnGDuNrwvboPD+u2v9lppVmUIW90nR5tOllzGdxW3YGTenZhuByMcgiu6oo3TQLSxwfw+tBYX9zbW2kWcdsLZN2ow6FLpUkjgkbHSQZkOPm3LwDkYGRXQeHIbCK71o6fpV5p7yag7XL3SMBdSbVzLHknKEYGRgcHityinfW4rBXDvq8TfFSG4Flq32ddPeyM39k3XliUzKQN3l424BO7O3Heu4opfaT7f5W/Ub1TX9dzOfWNniSPR/7Ov232xuPtqwZtlw2Nhkzw/fGOlcx4s1RE8ZeHCtlqsyabeSyXMlvpVzKiK1u6ghkjIblgPlJx36Gu4ooH3OL8R26R6pNNpMuvx6hf26B7awtSIbrGQvmTPEViOCQSHRsY7hapancX3hvw9o3hGzj1LP2JIbrV7fTp7pYI1UKdnlo2ZGwdueFHJ7A+g0UraW/rr/AJhfW55ze2S2OoaNdabHq1t4ebTTp8hs7Cb7VEEYFFKbPNjVwGBcLuGFwVyGrofAmkNpGgTA2rWSXd5NdRWr/egjdvlUjscAEjsSc810tFV/wfxd/wAybbf10t+RXvraW7s3ht72exkbGJ7dULpz2Dqy+3INN06znsrXyrnUbnUX3E+dcrEr49P3aIuPwzVqikMyfFU91beFdQlsLNr24WE7IFDEv2PC/M2Bk7RycYHWuH8LaZqFvrGtNo1nFYw3Glbbd7XRZdLha4DNgmKRmJYZHzEDI9cV6dRSsO5xfgu00O2SNLTQbmx1xbYrdXd3pciSyPxv3XLJtkJbnIds9RkVX8E2Wl2rWq6poVzH4pVWF3qFzpkjs8nO5hdbShUjoA/QhcDoO8oqm7u5NrKx5jo63kekeGtDbSdSF1p2rF7uRrN1iiUPLhhIwCuDuGCm4euK0NM8E2WrXfiObWbS4S4k1d5LO5fIe3AWMrJAWBCEsOWUfNjnOBjvqKUdHf8Arp/kN66f11/zPJPiDbahqd5ra22hq1/boo0+caJPdXEmEVhJFdh1SDDZwo5ypOGLYO/rFlp7eMLi48Y6Lc6tYtaxLp5/s6S/hhIz5o8tFfY5O07ioyAADwQO8oo6JA9TifFLT+HtXtNc0S1EkuowjS2i27cyHJtmI4wFYsp7gP7Va1TQtJ0j4dppN7pV5q9lAIhJbWSM007+YCZMKwJO/wCdjn161uvoljLrUeqzRyS3cSlYjJO7JFkYLJGTsViMjcADgkZwTV+hf1/X9fgHUB0Fcp46tNQcaPqOm+ePsF4Xna2gE00cTxvG0kcZB3Mu/OMNxn5W6Hq6KAOM8IaZHZalrut2tpfRWt2sSRJdo4uLkxBy0rLJh8sX2jdg4QYAG2tK4ntPFHghrnUbHVbCCZPM8mS2ZbuBkbKsI1DHeGUMAAe3B6V0NFDDqcb4Y0+7uPFE+tz3WrXFsln9kgl1SJYJJSX3MRCsabAMAAsoZsnqApq74Xtp7zUtU8RX9vNBNfSCC1iuEKPFaxZCAqQCpZi74POGXPSulop7f18wOa0O2m1DxPqmv31vNCF/0CwSdCrLChy7hSARvf8ANUQ1i2+sf8JB4zguNWsdXs7XTrhk061fSLrEspBQ3Esnl7FXDEKM4AJZjnAXv6KS0a8get/6+QUUUUAFFFFABRRRQAUUUUAFQzfcNTVDN9w0AVtJ/wBVcf8AXY/+gir9UNJ/1Vx/12P/AKCKv0AFFFFABRRRQBFdWyXlrJbytKqSKVYxStE4HsykMp9wQa43wxp9tZX2vX9zfarKmmX8iRifVbqZEiEKMQUaQq33mPIJ/IV29Z9potraDUQN8qajO086SEEZZFQgYHTCj170tVdrt+On/BDTRPv/AJnL6F8TLPWdXsLTOl7NSLC2W01VLi4jIUuBNEFHl/KDnDOAeD61e0jxjLrHiSfTI4NNgEEsiSQTaiVvlVDjebby/uscEHfjawPtV/R/DkujPCkGvapPZQLsisbjyGjRMYVd/lCQhRjBLk8ck00+F/P1i2v9S1jUNQFpOZ7a3nWBY4XKsoIMcSucKxGCx685NVpcWtjH0PUfFU3jDWoLiw08wRzW4df7VlYQKYwSY1MGGJHOPl57967WsaTw7/xUEmrWeq31k0/l/abeHymiuNmcbg8bMODtO0rwB35rZpLYfU4fxjf6gdSurjSrmdF8O2a300MMhC3LM+fLYA/N+6jk4PGZFPata68S3M+qRad4bsIdQma1S8klubo28KROSE+YI5Zm2nAC4wDkjgFZPAnhu6v7291TSLPU7q9m815r62jlZflVQikrwoCjA+p71DB4Gt7CGyGk6tqenzWlqLMXELxM0kKklEdZI2Q7cnB2hgMjPJylt/X9dvkge/8AXl/wfvLOp6/e2d7p+l2OmxXWrXkTzNE10Y4IUTaHZpNhYjc6qMJk55AGae+u3Vrq2i6bqFjClzqQm8wwXBkSExru4JRS2fouPenaj4cTUJLK5GpX1pqNlG0cd/bmMSMrAbwyshjYMVU4KcEAjFMvvDP2+LT2k1jUI7/T2ZotQjEHnHcpVgymMxkEH+4OgpiM698cSWsETw6RJdSS6y+kpFFOoYkBiHywAx8vIzwCTk4wbieIb+30vU59Z0yDT57BwNz3uLWRWAIcTui4UZw3y5GDgNwClv4K0+2t7SJbm9k+yaidSV5Zg7PKVYHcxGSPmJ9fftWhr2iQeINNW0uJp7cpPHcRTQFd8ckbh1YbgVPI6EEUl8Ou/wDwF+tytOby/wCC/wBLHPaZ8RbS603Wrq6S0kGkKju2k3ovYpg4O0K+1PmyCCCBjg5weNJtW8R2+hXt/feH7QSwQedFaW2otLJIQMshJhUK2OmCwJ496IPBlkI9TXUbu91NtViSK6kupFBYJu2lfLVQhG7+EDoD1yTPbWV9oVlNKb/V/EJCqsdtL9lD9cfK22IE46727evVvyEgtvEUeoazZWmmRpc29xZfbZbkTYESNgRYXB3F/m7jAQ9elXLK71CfUr+G8037LbQOotbnz1f7UpXLNtHKYPGD161k+CvDjeH9LmNwgjuLuZpTCH3i2jyfLgU/3UU444yTjrWtZaX9i1K/u/t17cfbXV/Inm3R2+1duI1x8oPUjnJp6f1/XTYWv9f18y9XkR16/fRx4ksLjU7vUEvhJdkXDrZQQmbyxbCInY77MD5VLBvmZlJAPrtc5H4Ksorzct7e/wBn/a/to0sun2dZt2/cPl343/Pt37d3OKS+JMb+G39f1/XY6OvOvE1zdW99r0+pSa/DcWyebo76as/2cIsQbL7P3RbzA+4TcYA7HntLnSPtOvWWp/2hfxfZEdPskU+2CbcMZkTHzEdjnioNV8OrrNwRf6levp7gCXTFMawS47MQnmEE9V34PQggkFO/T/hhp2MHxMsM/hWHWnGpjU7uCGK1tbfU7q2Vp5MBFKRyKB8zcnGcA+lWdW0mz0fwbFca1faxeSaXZhWkg1O5hkuXAxz5bruZm4Gcnmt280W3v9W0++uJJSdPLvDACPL3su3eRjJYAsBzgbjx0wato1vrLWYvJJfKtblbnyVI2SuvK78jJAbDAAjkCm7O/S7+7+tfXQlXVr62X3/1ocdqula3pHwjn8/Xb2K8tNOuLm4ZJmeVpSpZUEzEuEQkgYO47V+bGQ2p4hku20rRC51JtNdh/aLaaJTcY8slP9V+8278binPTturX8R6D/wkelyafJqd7Y288bxTraCLMqMMFSZEbHH93Bpseh3cWjR2EXiLU1eNgRdiO2Mu0DATBh2Y/wCA596N236fqPovn+hieGNmvWms6XcSawLKyvlS2knuJ7e42GJJArOGWXgufvndggHpUXhTT7u7g1m+03VNQtrO8nEGnm6uZbsxxREq8yiZmwznfjOVwEJU8g9FF4etrbQLjS7S4uoPtIfzbtZA07O/3pNzA/MfpgcAAAACwmlR22hx6Xpc0unRQxLDDJbhC0SqABgOrL0HcGjb7l/X4fiBgeCkk1HwvqFrf3d5cAaleQea11IJQizMoAkBDDAHGCMdqwrlpdFu/E2saJdak1noWnSRLHd6jcXMc91t3k7ZXYYQbRxjlmHaus8O+Fz4cW4SLWdRvIriSSUx3SwYWR2LM4KRKckk8Eke1WtO8PWOneH20fa11byiQTtcYZrgyEl2fAAJYsc8DrSs7fL8bW/z/Ad1zeV7/K9zitLv7nT/ABR4fOm3OqX2nakz213eX108kd3J5TSCSGNydqgxn5kCIQ42hhgrptA2nePdLs9I1PUby6kMs2qpc3kk0awMrbWKE+XExk2hQqrwG7A1saV4Tg0y8guJNRv9QNpGYrNLyRGW1Q8ELtVSxwANzlmwOvJzW0bwW+h3Uk1r4k1eQT3BuLhJltW89j13v5O8jHA+YYAAGAKrS+n9f1/wPMmzt/X3/wBevkYliz6Lrz3Him18QRm41aVLa+OqO9ntkkbyFMSTnaCCqjdGACQDVnxXoscmrWFjpd7rEGpapdeY8ker3QSCFCGlcR+ZsAwQgGMZcccVuy+GRd6klzqmq3+oQQzi4gsphCsMUgOVI2RqzbewZmHQ8kAi5Fo0EfiCfWWklluZoFt1DkbYUBJIQAcbicnJOcD0FKOiXl/X57+Q5at+f9flscj4gSaw8Sanqmt2XiCbRo4oXjuNO1N4ordVB8xmiSdGOOCcIxwDT9a1SfVfFM9hFbaxfafZ2cFwIdHuRbtK0m/52lMkZwAoARX5LEkHAx0OreHP7aklS91bUP7PmXZNp0flLDIuOQWEfmYPfDj06cUmo+GUvL37XYale6RO0At5XsRF+9jUkqrCRHA27mwRgjceaXT+v6/ruP8Ar+vxOV1rVV1G80h9N/tbVNMl015lsdOu57e5QgjEsjhlLDgrtZ92c4VznFqw1S+vPBeiaVp2rfbdU1KHD36EloIVOJJSWUHcoIQFlBLkEjqK2T4Ls7c2jaHe3uiva2os1azMbb4QcqrCVHBwSTuxu+Y8809PA/hn7DbWt3ollfrbKVjkvoFuJOWLMSzgnliSfc0+lv66/wDAFs7/ANdBPAk00/gbS5LmeW4lMRDSzSF3bDEZLHkn3NdBWT4c8NaX4V0ldP0a2jgiBy7LGqtIf7zFQMntn0Fa1AloFFFFAwooooAKKKKACiiigAooooAKKKKACiiigAooooAKKKKACiiigAooooAKKKKACiiigAooooAKKKKACiiigAooooAKKKKACiiigAooooAKKKKACiiigAooooAKKKKACiiigAooooAKKKKACiiigAooooAKKKKACiiigAooooAKKKKACoph8hqWmOMqaAKmlDEdx/12P/oIq9WDepqMO4afcGEMcnCK3P4g1mmTxJ/0EW/78x//ABNAHYUVx3m+JP8AoIn/AL8x/wDxNHm+JP8AoIn/AL8x/wDxNAHY0Vx3m+JP+gif+/Mf/wATR5viT/oIn/vzH/8AE0AdjRXOf2prf/PK0/79t/8AFUf2prf/ADytP+/bf/FUAdHRXOf2prf/ADytP+/bf/FUf2prf/PK0/79t/8AFUAdHRXOf2prf/PK0/79t/8AFUf2prf/ADytP+/bf/FUAdHRXOf2prf/ADytP+/bf/FUf2prf/PK0/79t/8AFUAdHRXOf2prf/PK0/79t/8AFUf2prf/ADytP+/bf/FUAdHRXOf2prf/ADytP+/bf/FUf2prf/PK0/79t/8AFUAdHRXOf2prf/PK0/79t/8AFUf2prf/ADytP+/bf/FUAdHRXOf2prf/ADytP+/bf/FUf2prf/PK0/79t/8AFUAdHRXOf2prf/PK0/79t/8AFUf2prf/ADytP+/bf/FUAdHRXOf2prf/ADytP+/bf/FUf2prf/PK0/79t/8AFUAdHRXOf2prf/PK0/79t/8AFUf2prf/ADytP+/bf/FUAdHRXOf2prf/ADytP+/bf/FUf2prf/PK0/79t/8AFUAdHRXOf2prf/PK0/79t/8AFUf2prf/ADytP+/bf/FUAdHRXOf2prf/ADytP+/bf/FUf2prf/PK0/79t/8AFUAdHRXOf2prf/PK0/79t/8AFUf2prf/ADytP+/bf/FUAdHRXOf2prf/ADytP+/bf/FUf2prf/PK0/79t/8AFUAdHRXOf2prf/PK0/79t/8AFUf2prf/ADytP+/bf/FUAdHRXOf2prf/ADytP+/bf/FUf2prf/PK0/79t/8AFUAdHRXOf2prf/PK0/79t/8AFUf2prf/ADytP+/bf/FUAdHRXOf2prf/ADytP+/bf/FUf2prf/PK0/79t/8AFUAdHRXOf2prf/PK0/79t/8AFUf2prf/ADytP+/bf/FUAdHRXOf2prf/ADytP+/bf/FUf2prf/PK0/79t/8AFUAdHRXOf2prf/PK0/79t/8AFUf2prf/ADytP+/bf/FUAdHRXOf2prf/ADytP+/bf/FUf2prf/PK0/79t/8AFUAdHRXOf2prf/PK0/79t/8AFUf2prf/ADytP+/bf/FUAdHRXOf2prf/ADytP+/bf/FUf2prf/PK0/79t/8AFUAdHRXOf2prf/PK0/79t/8AFUf2prf/ADytP+/bf/FUAdHRXOf2prf/ADytP+/bf/FUf2prf/PK0/79t/8AFUAdHRXOf2prf/PK0/79t/8AFUf2prf/ADytP+/bf/FUAdHRXOf2prf/ADytP+/bf/FUf2prf/PK0/79t/8AFUAdHRXOf2prf/PK0/79t/8AFUf2prf/ADytP+/bf/FUAdHRXOf2prf/ADytP+/bf/FUf2prf/PK0/79t/8AFUAdHRXOf2prf/PK0/79t/8AFUf2prf/ADytP+/bf/FUAdHRXOf2prf/ADytP+/bf/FUf2prf/PK0/79t/8AFUAdHRXOf2prf/PK0/79t/8AFUf2prf/ADytP+/bf/FUAdHRXOf2prf/ADytP+/bf/FUf2prf/PK0/79t/8AFUAdHRXOf2prf/PK0/79t/8AFUf2prf/ADytP+/bf/FUAdHRXOf2prf/ADytP+/bf/FUf2prf/PK0/79t/8AFUAdHRXOf2prf/PK0/79t/8AFUf2prf/ADytP+/bf/FUAdHRXOf2prf/ADytP+/bf/FUf2prf/PK0/79t/8AFUAdHRXOf2prf/PK0/79t/8AFUf2prf/ADytP+/bf/FUAdHRXOf2prf/ADytP+/bf/FUf2prf/PK0/79t/8AFUAdHRXOf2prf/PK0/79t/8AFUf2prf/ADytP+/bf/FUAdHRXOf2prf/ADytP+/bf/FUf2prf/PK0/79t/8AFUAdHRXOf2prf/PK0/79t/8AFUf2prf/ADytP+/bf/FUAdHRXOf2prf/ADytP+/bf/FUf2prf/PK0/79t/8AFUAdHRXOf2prf/PK0/79t/8AFUf2prf/ADytP+/bf/FUAdHRXOf2prf/ADytP+/bf/FUf2prf/PK0/79t/8AFUAdHRXOf2prf/PK0/79t/8AFUf2prf/ADytP+/bf/FUAdHRXOf2prf/ADytP+/bf/FUf2prf/PK0/79t/8AFUAdHRXOf2prf/PK0/79t/8AFUf2prf/ADytP+/bf/FUAdHRXOf2prf/ADytP+/bf/FUf2prf/PK0/79t/8AFUAdHQaKKAIHA9KjwPQUUUAGB6CjA9BRRQAYHoKMD0FFFABgegowPQUUUAGB6CjA9BRRQAYHoKMD0FFFABgegowPQUUUAGB6CjA9BRRQAYHoKMD0FFFABgegowPQUUUAGB6CjA9BRRQAYHoKMD0FFFABgegowPQUUUAGB6CjA9BRRQAYHoKMD0FFFABgegowPQUUUAGB6CjA9BRRQAYHoKMD0FFFABgegowPQUUUAGB6CjA9BRRQAYHoKMD0FFFABgegowPQUUUAGB6CjA9BRRQAYHoKMD0FFFABgegowPQUUUAGB6CjA9BRRQAYHoKMD0FFFABgegowPQUUUAGB6CjA9BRRQAYHoKMD0FFFABgegowPQUUUAGB6CjA9BRRQAYHoKMD0FFFABgegowPQUUUAGB6CjA9BRRQAYHoKMD0FFFABgegowPQUUUAGB6CjA9BRRQAYHoKMD0FFFABgegowPQUUUAGB6CjA9BRRQAYHoKMD0FFFABgegowPQUUUAGB6CjA9BRRQAYHoKMD0FFFABgegowPQUUUAGB6CjA9BRRQAYHoKMD0FFFABgegowPQUUUAGB6CjA9BRRQAYHoKMD0FFFABgegowPQUUUAGB6CjA9BRRQAYHoKMD0FFFABgegowPQUUUAf/Z)"
      ]
    },
    {
      "cell_type": "markdown",
      "metadata": {
        "id": "VJwpqxvAV9bW"
      },
      "source": [
        "#Other helper functions"
      ]
    },
    {
      "cell_type": "code",
      "metadata": {
        "id": "FM1WY_Q_sMkL"
      },
      "source": [
        "history.history.keys()"
      ],
      "execution_count": null,
      "outputs": []
    },
    {
      "cell_type": "code",
      "metadata": {
        "id": "xBBJ9WlpsMiH"
      },
      "source": [
        "accuracy = history.history['accuracy']\n",
        "val_accuracy = history.history['val_accuracy']\n",
        "loss = history.history['loss']\n",
        "val_loss = history.history['val_loss']"
      ],
      "execution_count": null,
      "outputs": []
    },
    {
      "cell_type": "code",
      "metadata": {
        "id": "c8oHEt0OsMf2"
      },
      "source": [
        "epochs = range(len(accuracy))\n",
        "\n",
        "plt.plot(epochs, accuracy, 'bo', label='Training Accuracy')\n",
        "plt.plot(epochs, val_accuracy, 'b', label='Validation Accuracy')\n",
        "plt.title('Training and Validation Accuracy')\n",
        "plt.legend()"
      ],
      "execution_count": null,
      "outputs": []
    },
    {
      "cell_type": "code",
      "metadata": {
        "id": "liiGj4HdsMa3"
      },
      "source": [
        "plt.plot(epochs, loss, 'ro', label='Training loss')\n",
        "plt.plot(epochs, val_loss, 'r', label='Validation loss')\n",
        "plt.title('Training and Validation loss')\n",
        "plt.legend()"
      ],
      "execution_count": null,
      "outputs": []
    },
    {
      "cell_type": "code",
      "metadata": {
        "id": "RKZxo6khsMYv"
      },
      "source": [
        "predicted_classes = CNN.predict_classes(X_test_gray_norm)\n",
        "y_true = y_test"
      ],
      "execution_count": null,
      "outputs": []
    },
    {
      "cell_type": "code",
      "metadata": {
        "id": "3knUnry5sMWd"
      },
      "source": [
        "from sklearn.metrics import confusion_matrix\n",
        "cm = confusion_matrix(y_true, predicted_classes)\n",
        "plt.figure(figsize = (25, 25))\n",
        "sns.heatmap(cm, annot = True)"
      ],
      "execution_count": null,
      "outputs": []
    },
    {
      "cell_type": "code",
      "metadata": {
        "id": "3WLTbXkysVdv"
      },
      "source": [
        "L = 5\n",
        "W = 5\n",
        "\n",
        "fig, axes = plt.subplots(L, W, figsize = (12, 12))\n",
        "axes = axes.ravel()\n",
        "\n",
        "for i in np.arange(0, L*W):\n",
        "    axes[i].imshow(X_test[i])\n",
        "    axes[i].set_title('Prediction = {}\\n True = {}'.format(predicted_classes[i], y_true[i]))\n",
        "    axes[i].axis('off')\n",
        "\n",
        "plt.subplots_adjust(wspace = 1)    "
      ],
      "execution_count": null,
      "outputs": []
    }
  ]
}